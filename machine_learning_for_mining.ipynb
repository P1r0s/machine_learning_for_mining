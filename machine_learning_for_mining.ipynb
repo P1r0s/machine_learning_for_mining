{
 "cells": [
  {
   "cell_type": "markdown",
   "metadata": {
    "toc": true
   },
   "source": [
    "<h1>Содержание<span class=\"tocSkip\"></span></h1>\n",
    "<div class=\"toc\"><ul class=\"toc-item\"><li><span><a href=\"#Подготовка-данных\" data-toc-modified-id=\"Подготовка-данных-1\"><span class=\"toc-item-num\">1&nbsp;&nbsp;</span>Подготовка данных</a></span><ul class=\"toc-item\"><li><span><a href=\"#Имортируем-все-необходимые-инструмены\" data-toc-modified-id=\"Имортируем-все-необходимые-инструмены-1.1\"><span class=\"toc-item-num\">1.1&nbsp;&nbsp;</span>Имортируем все необходимые инструмены</a></span></li><li><span><a href=\"#Загрузим-таблицы\" data-toc-modified-id=\"Загрузим-таблицы-1.2\"><span class=\"toc-item-num\">1.2&nbsp;&nbsp;</span>Загрузим таблицы</a></span></li><li><span><a href=\"#Откроем-первые-5-строк-каждой-таблицы\" data-toc-modified-id=\"Откроем-первые-5-строк-каждой-таблицы-1.3\"><span class=\"toc-item-num\">1.3&nbsp;&nbsp;</span>Откроем первые 5 строк каждой таблицы</a></span></li><li><span><a href=\"#Посмотрим-колличество-данных-и-типы-столбцов\" data-toc-modified-id=\"Посмотрим-колличество-данных-и-типы-столбцов-1.4\"><span class=\"toc-item-num\">1.4&nbsp;&nbsp;</span>Посмотрим колличество данных и типы столбцов</a></span></li><li><span><a href=\"#Проверим-данные-на-пропуски\" data-toc-modified-id=\"Проверим-данные-на-пропуски-1.5\"><span class=\"toc-item-num\">1.5&nbsp;&nbsp;</span>Проверим данные на пропуски</a></span></li><li><span><a href=\"#Проверем,-что-эффективность-обогащения-рассчитана-правильно.-Вычислем-её-на-обучающей-выборке-для-признака-rougher.output.recovery.-Найдём-MAE-между-моими-расчётами-и-значением-признака.\" data-toc-modified-id=\"Проверем,-что-эффективность-обогащения-рассчитана-правильно.-Вычислем-её-на-обучающей-выборке-для-признака-rougher.output.recovery.-Найдём-MAE-между-моими-расчётами-и-значением-признака.-1.6\"><span class=\"toc-item-num\">1.6&nbsp;&nbsp;</span>Проверем, что эффективность обогащения рассчитана правильно. Вычислем её на обучающей выборке для признака rougher.output.recovery. Найдём MAE между моими расчётами и значением признака.</a></span></li><li><span><a href=\"#Анализ-данных-что-недостают-тестовой-выборке\" data-toc-modified-id=\"Анализ-данных-что-недостают-тестовой-выборке-1.7\"><span class=\"toc-item-num\">1.7&nbsp;&nbsp;</span>Анализ данных что недостают тестовой выборке</a></span></li><li><span><a href=\"#Вывод-по-подготовке-данных:\" data-toc-modified-id=\"Вывод-по-подготовке-данных:-1.8\"><span class=\"toc-item-num\">1.8&nbsp;&nbsp;</span>Вывод по подготовке данных:</a></span></li></ul></li><li><span><a href=\"#Анализ-данных\" data-toc-modified-id=\"Анализ-данных-2\"><span class=\"toc-item-num\">2&nbsp;&nbsp;</span>Анализ данных</a></span><ul class=\"toc-item\"><li><span><a href=\"#Посмотрим-как-меняется-концетрация-металлов-на-разных-стадиях-технологического-процесса\" data-toc-modified-id=\"Посмотрим-как-меняется-концетрация-металлов-на-разных-стадиях-технологического-процесса-2.1\"><span class=\"toc-item-num\">2.1&nbsp;&nbsp;</span>Посмотрим как меняется концетрация металлов на разных стадиях технологического процесса</a></span></li><li><span><a href=\"#Сравним-распределение-размеров-гранул-сырья-на-обучающей-и-тестовой-выборках.\" data-toc-modified-id=\"Сравним-распределение-размеров-гранул-сырья-на-обучающей-и-тестовой-выборках.-2.2\"><span class=\"toc-item-num\">2.2&nbsp;&nbsp;</span>Сравним распределение размеров гранул сырья на обучающей и тестовой выборках.</a></span></li><li><span><a href=\"#Исследуем-суммарную-концентрацию-всех-веществ-на-разных-стадиях:-в-сырье,-в-черновом-и-финальном-концентратах.\" data-toc-modified-id=\"Исследуем-суммарную-концентрацию-всех-веществ-на-разных-стадиях:-в-сырье,-в-черновом-и-финальном-концентратах.-2.3\"><span class=\"toc-item-num\">2.3&nbsp;&nbsp;</span>Исследуем суммарную концентрацию всех веществ на разных стадиях: в сырье, в черновом и финальном концентратах.</a></span></li><li><span><a href=\"#Борьба-c-выбросами\" data-toc-modified-id=\"Борьба-c-выбросами-2.4\"><span class=\"toc-item-num\">2.4&nbsp;&nbsp;</span>Борьба c выбросами</a></span></li><li><span><a href=\"#Вывод-по-анализу-данных\" data-toc-modified-id=\"Вывод-по-анализу-данных-2.5\"><span class=\"toc-item-num\">2.5&nbsp;&nbsp;</span>Вывод по анализу данных</a></span></li></ul></li><li><span><a href=\"#Модель\" data-toc-modified-id=\"Модель-3\"><span class=\"toc-item-num\">3&nbsp;&nbsp;</span>Модель</a></span><ul class=\"toc-item\"><li><span><a href=\"#Напишем-функции-для-вычисления-sMAPE-и--итоговой-sMAPE\" data-toc-modified-id=\"Напишем-функции-для-вычисления-sMAPE-и--итоговой-sMAPE-3.1\"><span class=\"toc-item-num\">3.1&nbsp;&nbsp;</span>Напишем функции для вычисления sMAPE и  итоговой sMAPE</a></span></li><li><span><a href=\"#Обучение-моделей\" data-toc-modified-id=\"Обучение-моделей-3.2\"><span class=\"toc-item-num\">3.2&nbsp;&nbsp;</span>Обучение моделей</a></span></li><li><span><a href=\"#Модель-случайного-леса-регрессии\" data-toc-modified-id=\"Модель-случайного-леса-регрессии-3.3\"><span class=\"toc-item-num\">3.3&nbsp;&nbsp;</span>Модель случайного леса регрессии</a></span></li><li><span><a href=\"#Проверка-модели-на-тестовой-выборке\" data-toc-modified-id=\"Проверка-модели-на-тестовой-выборке-3.4\"><span class=\"toc-item-num\">3.4&nbsp;&nbsp;</span>Проверка модели на тестовой выборке</a></span></li><li><span><a href=\"#Вывод-по-поиску-модели\" data-toc-modified-id=\"Вывод-по-поиску-модели-3.5\"><span class=\"toc-item-num\">3.5&nbsp;&nbsp;</span>Вывод по поиску модели</a></span></li><li><span><a href=\"#Проверка-модель-на-адекватность\" data-toc-modified-id=\"Проверка-модель-на-адекватность-3.6\"><span class=\"toc-item-num\">3.6&nbsp;&nbsp;</span>Проверка модель на адекватность</a></span></li></ul></li><li><span><a href=\"#Вывод\" data-toc-modified-id=\"Вывод-4\"><span class=\"toc-item-num\">4&nbsp;&nbsp;</span>Вывод</a></span></li><li><span><a href=\"#Чек-лист-готовности-проекта\" data-toc-modified-id=\"Чек-лист-готовности-проекта-5\"><span class=\"toc-item-num\">5&nbsp;&nbsp;</span>Чек-лист готовности проекта</a></span></li></ul></div>"
   ]
  },
  {
   "cell_type": "markdown",
   "metadata": {},
   "source": [
    "# Восстановление золота из руды"
   ]
  },
  {
   "cell_type": "markdown",
   "metadata": {},
   "source": [
    "Подготовим прототип модели машинного обучения для компания разрабатывает решения для эффективной работы промышленных предприятий.\n",
    "\n",
    "Модель должна предсказать коэффициент восстановления золота из золотосодержащей руды. Используя данные с параметрами добычи и очистки. \n",
    "\n",
    "Модель поможет оптимизировать производство, чтобы не запускать предприятие с убыточными характеристиками.\n",
    "\n",
    "Нам нужно:\n",
    "\n",
    "1. Подготовить данные;\n",
    "2. Провести исследовательский анализ данных;\n",
    "3. Построить и обучить модель.\n",
    "\n",
    "Чтобы выполнить проект, нам потребуется обращаться к библиотекам *pandas*, *matplotlib* и *sklearn.*"
   ]
  },
  {
   "cell_type": "markdown",
   "metadata": {},
   "source": [
    "## Подготовка данных"
   ]
  },
  {
   "cell_type": "markdown",
   "metadata": {},
   "source": [
    "### Имортируем все необходимые инструмены"
   ]
  },
  {
   "cell_type": "code",
   "execution_count": 1,
   "metadata": {},
   "outputs": [],
   "source": [
    "import pandas as pd\n",
    "import numpy as np\n",
    "from scipy import stats as st\n",
    "import seaborn as sns\n",
    "import matplotlib.pyplot as plt\n",
    "from sklearn.preprocessing import StandardScaler\n",
    "from sklearn.utils import shuffle\n",
    "from sklearn.dummy import DummyClassifier\n",
    "from sklearn.ensemble import RandomForestRegressor\n",
    "from sklearn.dummy import DummyRegressor\n",
    "from sklearn.linear_model import LinearRegression\n",
    "from sklearn.metrics import (\n",
    "    accuracy_score, \n",
    "    confusion_matrix, \n",
    "    f1_score, \n",
    "    mean_squared_error, \n",
    "    roc_auc_score,\n",
    "    precision_recall_curve,\n",
    "    roc_curve,\n",
    "    recall_score,\n",
    "    precision_score,\n",
    "    make_scorer\n",
    ")\n",
    "from sklearn.model_selection import (\n",
    "    train_test_split,\n",
    "    cross_val_score\n",
    ")\n",
    "import warnings\n",
    "from pandas.errors import SettingWithCopyWarning\n",
    "warnings.simplefilter(action=\"ignore\", category=SettingWithCopyWarning)"
   ]
  },
  {
   "cell_type": "markdown",
   "metadata": {},
   "source": [
    "### Загрузим таблицы"
   ]
  },
  {
   "cell_type": "code",
   "execution_count": 2,
   "metadata": {},
   "outputs": [],
   "source": [
    "try:\n",
    "    data_train = pd.read_csv(\"gold_recovery_train_new.csv\")\n",
    "except:\n",
    "    data_train = pd.read_csv('/datasets/gold_recovery_train_new.csv')\n",
    "try:\n",
    "    data_test = pd.read_csv(\"gold_recovery_test_new.csv\")\n",
    "except:\n",
    "    data_test = pd.read_csv('/datasets/gold_recovery_test_new.csv')\n",
    "try:\n",
    "    data_full = pd.read_csv(\"gold_recovery_full_new.csv\")\n",
    "except:\n",
    "    data_full = pd.read_csv('/datasets/gold_recovery_full_new.csv')"
   ]
  },
  {
   "cell_type": "markdown",
   "metadata": {},
   "source": [
    "### Откроем первые 5 строк каждой таблицы"
   ]
  },
  {
   "cell_type": "code",
   "execution_count": 3,
   "metadata": {},
   "outputs": [
    {
     "data": {
      "text/html": [
       "<div>\n",
       "<style scoped>\n",
       "    .dataframe tbody tr th:only-of-type {\n",
       "        vertical-align: middle;\n",
       "    }\n",
       "\n",
       "    .dataframe tbody tr th {\n",
       "        vertical-align: top;\n",
       "    }\n",
       "\n",
       "    .dataframe thead th {\n",
       "        text-align: right;\n",
       "    }\n",
       "</style>\n",
       "<table border=\"1\" class=\"dataframe\">\n",
       "  <thead>\n",
       "    <tr style=\"text-align: right;\">\n",
       "      <th></th>\n",
       "      <th>date</th>\n",
       "      <th>final.output.concentrate_ag</th>\n",
       "      <th>final.output.concentrate_pb</th>\n",
       "      <th>final.output.concentrate_sol</th>\n",
       "      <th>final.output.concentrate_au</th>\n",
       "      <th>final.output.recovery</th>\n",
       "      <th>final.output.tail_ag</th>\n",
       "      <th>final.output.tail_pb</th>\n",
       "      <th>final.output.tail_sol</th>\n",
       "      <th>final.output.tail_au</th>\n",
       "      <th>...</th>\n",
       "      <th>secondary_cleaner.state.floatbank4_a_air</th>\n",
       "      <th>secondary_cleaner.state.floatbank4_a_level</th>\n",
       "      <th>secondary_cleaner.state.floatbank4_b_air</th>\n",
       "      <th>secondary_cleaner.state.floatbank4_b_level</th>\n",
       "      <th>secondary_cleaner.state.floatbank5_a_air</th>\n",
       "      <th>secondary_cleaner.state.floatbank5_a_level</th>\n",
       "      <th>secondary_cleaner.state.floatbank5_b_air</th>\n",
       "      <th>secondary_cleaner.state.floatbank5_b_level</th>\n",
       "      <th>secondary_cleaner.state.floatbank6_a_air</th>\n",
       "      <th>secondary_cleaner.state.floatbank6_a_level</th>\n",
       "    </tr>\n",
       "  </thead>\n",
       "  <tbody>\n",
       "    <tr>\n",
       "      <th>0</th>\n",
       "      <td>2016-01-15 00:00:00</td>\n",
       "      <td>6.055403</td>\n",
       "      <td>9.889648</td>\n",
       "      <td>5.507324</td>\n",
       "      <td>42.192020</td>\n",
       "      <td>70.541216</td>\n",
       "      <td>10.411962</td>\n",
       "      <td>0.895447</td>\n",
       "      <td>16.904297</td>\n",
       "      <td>2.143149</td>\n",
       "      <td>...</td>\n",
       "      <td>14.016835</td>\n",
       "      <td>-502.488007</td>\n",
       "      <td>12.099931</td>\n",
       "      <td>-504.715942</td>\n",
       "      <td>9.925633</td>\n",
       "      <td>-498.310211</td>\n",
       "      <td>8.079666</td>\n",
       "      <td>-500.470978</td>\n",
       "      <td>14.151341</td>\n",
       "      <td>-605.841980</td>\n",
       "    </tr>\n",
       "    <tr>\n",
       "      <th>1</th>\n",
       "      <td>2016-01-15 01:00:00</td>\n",
       "      <td>6.029369</td>\n",
       "      <td>9.968944</td>\n",
       "      <td>5.257781</td>\n",
       "      <td>42.701629</td>\n",
       "      <td>69.266198</td>\n",
       "      <td>10.462676</td>\n",
       "      <td>0.927452</td>\n",
       "      <td>16.634514</td>\n",
       "      <td>2.224930</td>\n",
       "      <td>...</td>\n",
       "      <td>13.992281</td>\n",
       "      <td>-505.503262</td>\n",
       "      <td>11.950531</td>\n",
       "      <td>-501.331529</td>\n",
       "      <td>10.039245</td>\n",
       "      <td>-500.169983</td>\n",
       "      <td>7.984757</td>\n",
       "      <td>-500.582168</td>\n",
       "      <td>13.998353</td>\n",
       "      <td>-599.787184</td>\n",
       "    </tr>\n",
       "    <tr>\n",
       "      <th>2</th>\n",
       "      <td>2016-01-15 02:00:00</td>\n",
       "      <td>6.055926</td>\n",
       "      <td>10.213995</td>\n",
       "      <td>5.383759</td>\n",
       "      <td>42.657501</td>\n",
       "      <td>68.116445</td>\n",
       "      <td>10.507046</td>\n",
       "      <td>0.953716</td>\n",
       "      <td>16.208849</td>\n",
       "      <td>2.257889</td>\n",
       "      <td>...</td>\n",
       "      <td>14.015015</td>\n",
       "      <td>-502.520901</td>\n",
       "      <td>11.912783</td>\n",
       "      <td>-501.133383</td>\n",
       "      <td>10.070913</td>\n",
       "      <td>-500.129135</td>\n",
       "      <td>8.013877</td>\n",
       "      <td>-500.517572</td>\n",
       "      <td>14.028663</td>\n",
       "      <td>-601.427363</td>\n",
       "    </tr>\n",
       "    <tr>\n",
       "      <th>3</th>\n",
       "      <td>2016-01-15 03:00:00</td>\n",
       "      <td>6.047977</td>\n",
       "      <td>9.977019</td>\n",
       "      <td>4.858634</td>\n",
       "      <td>42.689819</td>\n",
       "      <td>68.347543</td>\n",
       "      <td>10.422762</td>\n",
       "      <td>0.883763</td>\n",
       "      <td>16.532835</td>\n",
       "      <td>2.146849</td>\n",
       "      <td>...</td>\n",
       "      <td>14.036510</td>\n",
       "      <td>-500.857308</td>\n",
       "      <td>11.999550</td>\n",
       "      <td>-501.193686</td>\n",
       "      <td>9.970366</td>\n",
       "      <td>-499.201640</td>\n",
       "      <td>7.977324</td>\n",
       "      <td>-500.255908</td>\n",
       "      <td>14.005551</td>\n",
       "      <td>-599.996129</td>\n",
       "    </tr>\n",
       "    <tr>\n",
       "      <th>4</th>\n",
       "      <td>2016-01-15 04:00:00</td>\n",
       "      <td>6.148599</td>\n",
       "      <td>10.142511</td>\n",
       "      <td>4.939416</td>\n",
       "      <td>42.774141</td>\n",
       "      <td>66.927016</td>\n",
       "      <td>10.360302</td>\n",
       "      <td>0.792826</td>\n",
       "      <td>16.525686</td>\n",
       "      <td>2.055292</td>\n",
       "      <td>...</td>\n",
       "      <td>14.027298</td>\n",
       "      <td>-499.838632</td>\n",
       "      <td>11.953070</td>\n",
       "      <td>-501.053894</td>\n",
       "      <td>9.925709</td>\n",
       "      <td>-501.686727</td>\n",
       "      <td>7.894242</td>\n",
       "      <td>-500.356035</td>\n",
       "      <td>13.996647</td>\n",
       "      <td>-601.496691</td>\n",
       "    </tr>\n",
       "  </tbody>\n",
       "</table>\n",
       "<p>5 rows × 87 columns</p>\n",
       "</div>"
      ],
      "text/plain": [
       "                  date  final.output.concentrate_ag  \\\n",
       "0  2016-01-15 00:00:00                     6.055403   \n",
       "1  2016-01-15 01:00:00                     6.029369   \n",
       "2  2016-01-15 02:00:00                     6.055926   \n",
       "3  2016-01-15 03:00:00                     6.047977   \n",
       "4  2016-01-15 04:00:00                     6.148599   \n",
       "\n",
       "   final.output.concentrate_pb  final.output.concentrate_sol  \\\n",
       "0                     9.889648                      5.507324   \n",
       "1                     9.968944                      5.257781   \n",
       "2                    10.213995                      5.383759   \n",
       "3                     9.977019                      4.858634   \n",
       "4                    10.142511                      4.939416   \n",
       "\n",
       "   final.output.concentrate_au  final.output.recovery  final.output.tail_ag  \\\n",
       "0                    42.192020              70.541216             10.411962   \n",
       "1                    42.701629              69.266198             10.462676   \n",
       "2                    42.657501              68.116445             10.507046   \n",
       "3                    42.689819              68.347543             10.422762   \n",
       "4                    42.774141              66.927016             10.360302   \n",
       "\n",
       "   final.output.tail_pb  final.output.tail_sol  final.output.tail_au  ...  \\\n",
       "0              0.895447              16.904297              2.143149  ...   \n",
       "1              0.927452              16.634514              2.224930  ...   \n",
       "2              0.953716              16.208849              2.257889  ...   \n",
       "3              0.883763              16.532835              2.146849  ...   \n",
       "4              0.792826              16.525686              2.055292  ...   \n",
       "\n",
       "   secondary_cleaner.state.floatbank4_a_air  \\\n",
       "0                                 14.016835   \n",
       "1                                 13.992281   \n",
       "2                                 14.015015   \n",
       "3                                 14.036510   \n",
       "4                                 14.027298   \n",
       "\n",
       "   secondary_cleaner.state.floatbank4_a_level  \\\n",
       "0                                 -502.488007   \n",
       "1                                 -505.503262   \n",
       "2                                 -502.520901   \n",
       "3                                 -500.857308   \n",
       "4                                 -499.838632   \n",
       "\n",
       "   secondary_cleaner.state.floatbank4_b_air  \\\n",
       "0                                 12.099931   \n",
       "1                                 11.950531   \n",
       "2                                 11.912783   \n",
       "3                                 11.999550   \n",
       "4                                 11.953070   \n",
       "\n",
       "   secondary_cleaner.state.floatbank4_b_level  \\\n",
       "0                                 -504.715942   \n",
       "1                                 -501.331529   \n",
       "2                                 -501.133383   \n",
       "3                                 -501.193686   \n",
       "4                                 -501.053894   \n",
       "\n",
       "   secondary_cleaner.state.floatbank5_a_air  \\\n",
       "0                                  9.925633   \n",
       "1                                 10.039245   \n",
       "2                                 10.070913   \n",
       "3                                  9.970366   \n",
       "4                                  9.925709   \n",
       "\n",
       "   secondary_cleaner.state.floatbank5_a_level  \\\n",
       "0                                 -498.310211   \n",
       "1                                 -500.169983   \n",
       "2                                 -500.129135   \n",
       "3                                 -499.201640   \n",
       "4                                 -501.686727   \n",
       "\n",
       "   secondary_cleaner.state.floatbank5_b_air  \\\n",
       "0                                  8.079666   \n",
       "1                                  7.984757   \n",
       "2                                  8.013877   \n",
       "3                                  7.977324   \n",
       "4                                  7.894242   \n",
       "\n",
       "   secondary_cleaner.state.floatbank5_b_level  \\\n",
       "0                                 -500.470978   \n",
       "1                                 -500.582168   \n",
       "2                                 -500.517572   \n",
       "3                                 -500.255908   \n",
       "4                                 -500.356035   \n",
       "\n",
       "   secondary_cleaner.state.floatbank6_a_air  \\\n",
       "0                                 14.151341   \n",
       "1                                 13.998353   \n",
       "2                                 14.028663   \n",
       "3                                 14.005551   \n",
       "4                                 13.996647   \n",
       "\n",
       "   secondary_cleaner.state.floatbank6_a_level  \n",
       "0                                 -605.841980  \n",
       "1                                 -599.787184  \n",
       "2                                 -601.427363  \n",
       "3                                 -599.996129  \n",
       "4                                 -601.496691  \n",
       "\n",
       "[5 rows x 87 columns]"
      ]
     },
     "execution_count": 3,
     "metadata": {},
     "output_type": "execute_result"
    }
   ],
   "source": [
    "data_train.head()"
   ]
  },
  {
   "cell_type": "code",
   "execution_count": 4,
   "metadata": {},
   "outputs": [
    {
     "data": {
      "text/html": [
       "<div>\n",
       "<style scoped>\n",
       "    .dataframe tbody tr th:only-of-type {\n",
       "        vertical-align: middle;\n",
       "    }\n",
       "\n",
       "    .dataframe tbody tr th {\n",
       "        vertical-align: top;\n",
       "    }\n",
       "\n",
       "    .dataframe thead th {\n",
       "        text-align: right;\n",
       "    }\n",
       "</style>\n",
       "<table border=\"1\" class=\"dataframe\">\n",
       "  <thead>\n",
       "    <tr style=\"text-align: right;\">\n",
       "      <th></th>\n",
       "      <th>date</th>\n",
       "      <th>primary_cleaner.input.sulfate</th>\n",
       "      <th>primary_cleaner.input.depressant</th>\n",
       "      <th>primary_cleaner.input.feed_size</th>\n",
       "      <th>primary_cleaner.input.xanthate</th>\n",
       "      <th>primary_cleaner.state.floatbank8_a_air</th>\n",
       "      <th>primary_cleaner.state.floatbank8_a_level</th>\n",
       "      <th>primary_cleaner.state.floatbank8_b_air</th>\n",
       "      <th>primary_cleaner.state.floatbank8_b_level</th>\n",
       "      <th>primary_cleaner.state.floatbank8_c_air</th>\n",
       "      <th>...</th>\n",
       "      <th>secondary_cleaner.state.floatbank4_a_air</th>\n",
       "      <th>secondary_cleaner.state.floatbank4_a_level</th>\n",
       "      <th>secondary_cleaner.state.floatbank4_b_air</th>\n",
       "      <th>secondary_cleaner.state.floatbank4_b_level</th>\n",
       "      <th>secondary_cleaner.state.floatbank5_a_air</th>\n",
       "      <th>secondary_cleaner.state.floatbank5_a_level</th>\n",
       "      <th>secondary_cleaner.state.floatbank5_b_air</th>\n",
       "      <th>secondary_cleaner.state.floatbank5_b_level</th>\n",
       "      <th>secondary_cleaner.state.floatbank6_a_air</th>\n",
       "      <th>secondary_cleaner.state.floatbank6_a_level</th>\n",
       "    </tr>\n",
       "  </thead>\n",
       "  <tbody>\n",
       "    <tr>\n",
       "      <th>0</th>\n",
       "      <td>2016-09-01 00:59:59</td>\n",
       "      <td>210.800909</td>\n",
       "      <td>14.993118</td>\n",
       "      <td>8.080000</td>\n",
       "      <td>1.005021</td>\n",
       "      <td>1398.981301</td>\n",
       "      <td>-500.225577</td>\n",
       "      <td>1399.144926</td>\n",
       "      <td>-499.919735</td>\n",
       "      <td>1400.102998</td>\n",
       "      <td>...</td>\n",
       "      <td>12.023554</td>\n",
       "      <td>-497.795834</td>\n",
       "      <td>8.016656</td>\n",
       "      <td>-501.289139</td>\n",
       "      <td>7.946562</td>\n",
       "      <td>-432.317850</td>\n",
       "      <td>4.872511</td>\n",
       "      <td>-500.037437</td>\n",
       "      <td>26.705889</td>\n",
       "      <td>-499.709414</td>\n",
       "    </tr>\n",
       "    <tr>\n",
       "      <th>1</th>\n",
       "      <td>2016-09-01 01:59:59</td>\n",
       "      <td>215.392455</td>\n",
       "      <td>14.987471</td>\n",
       "      <td>8.080000</td>\n",
       "      <td>0.990469</td>\n",
       "      <td>1398.777912</td>\n",
       "      <td>-500.057435</td>\n",
       "      <td>1398.055362</td>\n",
       "      <td>-499.778182</td>\n",
       "      <td>1396.151033</td>\n",
       "      <td>...</td>\n",
       "      <td>12.058140</td>\n",
       "      <td>-498.695773</td>\n",
       "      <td>8.130979</td>\n",
       "      <td>-499.634209</td>\n",
       "      <td>7.958270</td>\n",
       "      <td>-525.839648</td>\n",
       "      <td>4.878850</td>\n",
       "      <td>-500.162375</td>\n",
       "      <td>25.019940</td>\n",
       "      <td>-499.819438</td>\n",
       "    </tr>\n",
       "    <tr>\n",
       "      <th>2</th>\n",
       "      <td>2016-09-01 02:59:59</td>\n",
       "      <td>215.259946</td>\n",
       "      <td>12.884934</td>\n",
       "      <td>7.786667</td>\n",
       "      <td>0.996043</td>\n",
       "      <td>1398.493666</td>\n",
       "      <td>-500.868360</td>\n",
       "      <td>1398.860436</td>\n",
       "      <td>-499.764529</td>\n",
       "      <td>1398.075709</td>\n",
       "      <td>...</td>\n",
       "      <td>11.962366</td>\n",
       "      <td>-498.767484</td>\n",
       "      <td>8.096893</td>\n",
       "      <td>-500.827423</td>\n",
       "      <td>8.071056</td>\n",
       "      <td>-500.801673</td>\n",
       "      <td>4.905125</td>\n",
       "      <td>-499.828510</td>\n",
       "      <td>24.994862</td>\n",
       "      <td>-500.622559</td>\n",
       "    </tr>\n",
       "    <tr>\n",
       "      <th>3</th>\n",
       "      <td>2016-09-01 03:59:59</td>\n",
       "      <td>215.336236</td>\n",
       "      <td>12.006805</td>\n",
       "      <td>7.640000</td>\n",
       "      <td>0.863514</td>\n",
       "      <td>1399.618111</td>\n",
       "      <td>-498.863574</td>\n",
       "      <td>1397.440120</td>\n",
       "      <td>-499.211024</td>\n",
       "      <td>1400.129303</td>\n",
       "      <td>...</td>\n",
       "      <td>12.033091</td>\n",
       "      <td>-498.350935</td>\n",
       "      <td>8.074946</td>\n",
       "      <td>-499.474407</td>\n",
       "      <td>7.897085</td>\n",
       "      <td>-500.868509</td>\n",
       "      <td>4.931400</td>\n",
       "      <td>-499.963623</td>\n",
       "      <td>24.948919</td>\n",
       "      <td>-498.709987</td>\n",
       "    </tr>\n",
       "    <tr>\n",
       "      <th>4</th>\n",
       "      <td>2016-09-01 04:59:59</td>\n",
       "      <td>199.099327</td>\n",
       "      <td>10.682530</td>\n",
       "      <td>7.530000</td>\n",
       "      <td>0.805575</td>\n",
       "      <td>1401.268123</td>\n",
       "      <td>-500.808305</td>\n",
       "      <td>1398.128818</td>\n",
       "      <td>-499.504543</td>\n",
       "      <td>1402.172226</td>\n",
       "      <td>...</td>\n",
       "      <td>12.025367</td>\n",
       "      <td>-500.786497</td>\n",
       "      <td>8.054678</td>\n",
       "      <td>-500.397500</td>\n",
       "      <td>8.107890</td>\n",
       "      <td>-509.526725</td>\n",
       "      <td>4.957674</td>\n",
       "      <td>-500.360026</td>\n",
       "      <td>25.003331</td>\n",
       "      <td>-500.856333</td>\n",
       "    </tr>\n",
       "  </tbody>\n",
       "</table>\n",
       "<p>5 rows × 53 columns</p>\n",
       "</div>"
      ],
      "text/plain": [
       "                  date  primary_cleaner.input.sulfate  \\\n",
       "0  2016-09-01 00:59:59                     210.800909   \n",
       "1  2016-09-01 01:59:59                     215.392455   \n",
       "2  2016-09-01 02:59:59                     215.259946   \n",
       "3  2016-09-01 03:59:59                     215.336236   \n",
       "4  2016-09-01 04:59:59                     199.099327   \n",
       "\n",
       "   primary_cleaner.input.depressant  primary_cleaner.input.feed_size  \\\n",
       "0                         14.993118                         8.080000   \n",
       "1                         14.987471                         8.080000   \n",
       "2                         12.884934                         7.786667   \n",
       "3                         12.006805                         7.640000   \n",
       "4                         10.682530                         7.530000   \n",
       "\n",
       "   primary_cleaner.input.xanthate  primary_cleaner.state.floatbank8_a_air  \\\n",
       "0                        1.005021                             1398.981301   \n",
       "1                        0.990469                             1398.777912   \n",
       "2                        0.996043                             1398.493666   \n",
       "3                        0.863514                             1399.618111   \n",
       "4                        0.805575                             1401.268123   \n",
       "\n",
       "   primary_cleaner.state.floatbank8_a_level  \\\n",
       "0                               -500.225577   \n",
       "1                               -500.057435   \n",
       "2                               -500.868360   \n",
       "3                               -498.863574   \n",
       "4                               -500.808305   \n",
       "\n",
       "   primary_cleaner.state.floatbank8_b_air  \\\n",
       "0                             1399.144926   \n",
       "1                             1398.055362   \n",
       "2                             1398.860436   \n",
       "3                             1397.440120   \n",
       "4                             1398.128818   \n",
       "\n",
       "   primary_cleaner.state.floatbank8_b_level  \\\n",
       "0                               -499.919735   \n",
       "1                               -499.778182   \n",
       "2                               -499.764529   \n",
       "3                               -499.211024   \n",
       "4                               -499.504543   \n",
       "\n",
       "   primary_cleaner.state.floatbank8_c_air  ...  \\\n",
       "0                             1400.102998  ...   \n",
       "1                             1396.151033  ...   \n",
       "2                             1398.075709  ...   \n",
       "3                             1400.129303  ...   \n",
       "4                             1402.172226  ...   \n",
       "\n",
       "   secondary_cleaner.state.floatbank4_a_air  \\\n",
       "0                                 12.023554   \n",
       "1                                 12.058140   \n",
       "2                                 11.962366   \n",
       "3                                 12.033091   \n",
       "4                                 12.025367   \n",
       "\n",
       "   secondary_cleaner.state.floatbank4_a_level  \\\n",
       "0                                 -497.795834   \n",
       "1                                 -498.695773   \n",
       "2                                 -498.767484   \n",
       "3                                 -498.350935   \n",
       "4                                 -500.786497   \n",
       "\n",
       "   secondary_cleaner.state.floatbank4_b_air  \\\n",
       "0                                  8.016656   \n",
       "1                                  8.130979   \n",
       "2                                  8.096893   \n",
       "3                                  8.074946   \n",
       "4                                  8.054678   \n",
       "\n",
       "   secondary_cleaner.state.floatbank4_b_level  \\\n",
       "0                                 -501.289139   \n",
       "1                                 -499.634209   \n",
       "2                                 -500.827423   \n",
       "3                                 -499.474407   \n",
       "4                                 -500.397500   \n",
       "\n",
       "   secondary_cleaner.state.floatbank5_a_air  \\\n",
       "0                                  7.946562   \n",
       "1                                  7.958270   \n",
       "2                                  8.071056   \n",
       "3                                  7.897085   \n",
       "4                                  8.107890   \n",
       "\n",
       "   secondary_cleaner.state.floatbank5_a_level  \\\n",
       "0                                 -432.317850   \n",
       "1                                 -525.839648   \n",
       "2                                 -500.801673   \n",
       "3                                 -500.868509   \n",
       "4                                 -509.526725   \n",
       "\n",
       "   secondary_cleaner.state.floatbank5_b_air  \\\n",
       "0                                  4.872511   \n",
       "1                                  4.878850   \n",
       "2                                  4.905125   \n",
       "3                                  4.931400   \n",
       "4                                  4.957674   \n",
       "\n",
       "   secondary_cleaner.state.floatbank5_b_level  \\\n",
       "0                                 -500.037437   \n",
       "1                                 -500.162375   \n",
       "2                                 -499.828510   \n",
       "3                                 -499.963623   \n",
       "4                                 -500.360026   \n",
       "\n",
       "   secondary_cleaner.state.floatbank6_a_air  \\\n",
       "0                                 26.705889   \n",
       "1                                 25.019940   \n",
       "2                                 24.994862   \n",
       "3                                 24.948919   \n",
       "4                                 25.003331   \n",
       "\n",
       "   secondary_cleaner.state.floatbank6_a_level  \n",
       "0                                 -499.709414  \n",
       "1                                 -499.819438  \n",
       "2                                 -500.622559  \n",
       "3                                 -498.709987  \n",
       "4                                 -500.856333  \n",
       "\n",
       "[5 rows x 53 columns]"
      ]
     },
     "execution_count": 4,
     "metadata": {},
     "output_type": "execute_result"
    }
   ],
   "source": [
    "data_test.head()"
   ]
  },
  {
   "cell_type": "code",
   "execution_count": 5,
   "metadata": {
    "scrolled": true
   },
   "outputs": [
    {
     "data": {
      "text/html": [
       "<div>\n",
       "<style scoped>\n",
       "    .dataframe tbody tr th:only-of-type {\n",
       "        vertical-align: middle;\n",
       "    }\n",
       "\n",
       "    .dataframe tbody tr th {\n",
       "        vertical-align: top;\n",
       "    }\n",
       "\n",
       "    .dataframe thead th {\n",
       "        text-align: right;\n",
       "    }\n",
       "</style>\n",
       "<table border=\"1\" class=\"dataframe\">\n",
       "  <thead>\n",
       "    <tr style=\"text-align: right;\">\n",
       "      <th></th>\n",
       "      <th>date</th>\n",
       "      <th>final.output.concentrate_ag</th>\n",
       "      <th>final.output.concentrate_pb</th>\n",
       "      <th>final.output.concentrate_sol</th>\n",
       "      <th>final.output.concentrate_au</th>\n",
       "      <th>final.output.recovery</th>\n",
       "      <th>final.output.tail_ag</th>\n",
       "      <th>final.output.tail_pb</th>\n",
       "      <th>final.output.tail_sol</th>\n",
       "      <th>final.output.tail_au</th>\n",
       "      <th>...</th>\n",
       "      <th>secondary_cleaner.state.floatbank4_a_air</th>\n",
       "      <th>secondary_cleaner.state.floatbank4_a_level</th>\n",
       "      <th>secondary_cleaner.state.floatbank4_b_air</th>\n",
       "      <th>secondary_cleaner.state.floatbank4_b_level</th>\n",
       "      <th>secondary_cleaner.state.floatbank5_a_air</th>\n",
       "      <th>secondary_cleaner.state.floatbank5_a_level</th>\n",
       "      <th>secondary_cleaner.state.floatbank5_b_air</th>\n",
       "      <th>secondary_cleaner.state.floatbank5_b_level</th>\n",
       "      <th>secondary_cleaner.state.floatbank6_a_air</th>\n",
       "      <th>secondary_cleaner.state.floatbank6_a_level</th>\n",
       "    </tr>\n",
       "  </thead>\n",
       "  <tbody>\n",
       "    <tr>\n",
       "      <th>0</th>\n",
       "      <td>2016-01-15 00:00:00</td>\n",
       "      <td>6.055403</td>\n",
       "      <td>9.889648</td>\n",
       "      <td>5.507324</td>\n",
       "      <td>42.192020</td>\n",
       "      <td>70.541216</td>\n",
       "      <td>10.411962</td>\n",
       "      <td>0.895447</td>\n",
       "      <td>16.904297</td>\n",
       "      <td>2.143149</td>\n",
       "      <td>...</td>\n",
       "      <td>14.016835</td>\n",
       "      <td>-502.488007</td>\n",
       "      <td>12.099931</td>\n",
       "      <td>-504.715942</td>\n",
       "      <td>9.925633</td>\n",
       "      <td>-498.310211</td>\n",
       "      <td>8.079666</td>\n",
       "      <td>-500.470978</td>\n",
       "      <td>14.151341</td>\n",
       "      <td>-605.841980</td>\n",
       "    </tr>\n",
       "    <tr>\n",
       "      <th>1</th>\n",
       "      <td>2016-01-15 01:00:00</td>\n",
       "      <td>6.029369</td>\n",
       "      <td>9.968944</td>\n",
       "      <td>5.257781</td>\n",
       "      <td>42.701629</td>\n",
       "      <td>69.266198</td>\n",
       "      <td>10.462676</td>\n",
       "      <td>0.927452</td>\n",
       "      <td>16.634514</td>\n",
       "      <td>2.224930</td>\n",
       "      <td>...</td>\n",
       "      <td>13.992281</td>\n",
       "      <td>-505.503262</td>\n",
       "      <td>11.950531</td>\n",
       "      <td>-501.331529</td>\n",
       "      <td>10.039245</td>\n",
       "      <td>-500.169983</td>\n",
       "      <td>7.984757</td>\n",
       "      <td>-500.582168</td>\n",
       "      <td>13.998353</td>\n",
       "      <td>-599.787184</td>\n",
       "    </tr>\n",
       "    <tr>\n",
       "      <th>2</th>\n",
       "      <td>2016-01-15 02:00:00</td>\n",
       "      <td>6.055926</td>\n",
       "      <td>10.213995</td>\n",
       "      <td>5.383759</td>\n",
       "      <td>42.657501</td>\n",
       "      <td>68.116445</td>\n",
       "      <td>10.507046</td>\n",
       "      <td>0.953716</td>\n",
       "      <td>16.208849</td>\n",
       "      <td>2.257889</td>\n",
       "      <td>...</td>\n",
       "      <td>14.015015</td>\n",
       "      <td>-502.520901</td>\n",
       "      <td>11.912783</td>\n",
       "      <td>-501.133383</td>\n",
       "      <td>10.070913</td>\n",
       "      <td>-500.129135</td>\n",
       "      <td>8.013877</td>\n",
       "      <td>-500.517572</td>\n",
       "      <td>14.028663</td>\n",
       "      <td>-601.427363</td>\n",
       "    </tr>\n",
       "    <tr>\n",
       "      <th>3</th>\n",
       "      <td>2016-01-15 03:00:00</td>\n",
       "      <td>6.047977</td>\n",
       "      <td>9.977019</td>\n",
       "      <td>4.858634</td>\n",
       "      <td>42.689819</td>\n",
       "      <td>68.347543</td>\n",
       "      <td>10.422762</td>\n",
       "      <td>0.883763</td>\n",
       "      <td>16.532835</td>\n",
       "      <td>2.146849</td>\n",
       "      <td>...</td>\n",
       "      <td>14.036510</td>\n",
       "      <td>-500.857308</td>\n",
       "      <td>11.999550</td>\n",
       "      <td>-501.193686</td>\n",
       "      <td>9.970366</td>\n",
       "      <td>-499.201640</td>\n",
       "      <td>7.977324</td>\n",
       "      <td>-500.255908</td>\n",
       "      <td>14.005551</td>\n",
       "      <td>-599.996129</td>\n",
       "    </tr>\n",
       "    <tr>\n",
       "      <th>4</th>\n",
       "      <td>2016-01-15 04:00:00</td>\n",
       "      <td>6.148599</td>\n",
       "      <td>10.142511</td>\n",
       "      <td>4.939416</td>\n",
       "      <td>42.774141</td>\n",
       "      <td>66.927016</td>\n",
       "      <td>10.360302</td>\n",
       "      <td>0.792826</td>\n",
       "      <td>16.525686</td>\n",
       "      <td>2.055292</td>\n",
       "      <td>...</td>\n",
       "      <td>14.027298</td>\n",
       "      <td>-499.838632</td>\n",
       "      <td>11.953070</td>\n",
       "      <td>-501.053894</td>\n",
       "      <td>9.925709</td>\n",
       "      <td>-501.686727</td>\n",
       "      <td>7.894242</td>\n",
       "      <td>-500.356035</td>\n",
       "      <td>13.996647</td>\n",
       "      <td>-601.496691</td>\n",
       "    </tr>\n",
       "  </tbody>\n",
       "</table>\n",
       "<p>5 rows × 87 columns</p>\n",
       "</div>"
      ],
      "text/plain": [
       "                  date  final.output.concentrate_ag  \\\n",
       "0  2016-01-15 00:00:00                     6.055403   \n",
       "1  2016-01-15 01:00:00                     6.029369   \n",
       "2  2016-01-15 02:00:00                     6.055926   \n",
       "3  2016-01-15 03:00:00                     6.047977   \n",
       "4  2016-01-15 04:00:00                     6.148599   \n",
       "\n",
       "   final.output.concentrate_pb  final.output.concentrate_sol  \\\n",
       "0                     9.889648                      5.507324   \n",
       "1                     9.968944                      5.257781   \n",
       "2                    10.213995                      5.383759   \n",
       "3                     9.977019                      4.858634   \n",
       "4                    10.142511                      4.939416   \n",
       "\n",
       "   final.output.concentrate_au  final.output.recovery  final.output.tail_ag  \\\n",
       "0                    42.192020              70.541216             10.411962   \n",
       "1                    42.701629              69.266198             10.462676   \n",
       "2                    42.657501              68.116445             10.507046   \n",
       "3                    42.689819              68.347543             10.422762   \n",
       "4                    42.774141              66.927016             10.360302   \n",
       "\n",
       "   final.output.tail_pb  final.output.tail_sol  final.output.tail_au  ...  \\\n",
       "0              0.895447              16.904297              2.143149  ...   \n",
       "1              0.927452              16.634514              2.224930  ...   \n",
       "2              0.953716              16.208849              2.257889  ...   \n",
       "3              0.883763              16.532835              2.146849  ...   \n",
       "4              0.792826              16.525686              2.055292  ...   \n",
       "\n",
       "   secondary_cleaner.state.floatbank4_a_air  \\\n",
       "0                                 14.016835   \n",
       "1                                 13.992281   \n",
       "2                                 14.015015   \n",
       "3                                 14.036510   \n",
       "4                                 14.027298   \n",
       "\n",
       "   secondary_cleaner.state.floatbank4_a_level  \\\n",
       "0                                 -502.488007   \n",
       "1                                 -505.503262   \n",
       "2                                 -502.520901   \n",
       "3                                 -500.857308   \n",
       "4                                 -499.838632   \n",
       "\n",
       "   secondary_cleaner.state.floatbank4_b_air  \\\n",
       "0                                 12.099931   \n",
       "1                                 11.950531   \n",
       "2                                 11.912783   \n",
       "3                                 11.999550   \n",
       "4                                 11.953070   \n",
       "\n",
       "   secondary_cleaner.state.floatbank4_b_level  \\\n",
       "0                                 -504.715942   \n",
       "1                                 -501.331529   \n",
       "2                                 -501.133383   \n",
       "3                                 -501.193686   \n",
       "4                                 -501.053894   \n",
       "\n",
       "   secondary_cleaner.state.floatbank5_a_air  \\\n",
       "0                                  9.925633   \n",
       "1                                 10.039245   \n",
       "2                                 10.070913   \n",
       "3                                  9.970366   \n",
       "4                                  9.925709   \n",
       "\n",
       "   secondary_cleaner.state.floatbank5_a_level  \\\n",
       "0                                 -498.310211   \n",
       "1                                 -500.169983   \n",
       "2                                 -500.129135   \n",
       "3                                 -499.201640   \n",
       "4                                 -501.686727   \n",
       "\n",
       "   secondary_cleaner.state.floatbank5_b_air  \\\n",
       "0                                  8.079666   \n",
       "1                                  7.984757   \n",
       "2                                  8.013877   \n",
       "3                                  7.977324   \n",
       "4                                  7.894242   \n",
       "\n",
       "   secondary_cleaner.state.floatbank5_b_level  \\\n",
       "0                                 -500.470978   \n",
       "1                                 -500.582168   \n",
       "2                                 -500.517572   \n",
       "3                                 -500.255908   \n",
       "4                                 -500.356035   \n",
       "\n",
       "   secondary_cleaner.state.floatbank6_a_air  \\\n",
       "0                                 14.151341   \n",
       "1                                 13.998353   \n",
       "2                                 14.028663   \n",
       "3                                 14.005551   \n",
       "4                                 13.996647   \n",
       "\n",
       "   secondary_cleaner.state.floatbank6_a_level  \n",
       "0                                 -605.841980  \n",
       "1                                 -599.787184  \n",
       "2                                 -601.427363  \n",
       "3                                 -599.996129  \n",
       "4                                 -601.496691  \n",
       "\n",
       "[5 rows x 87 columns]"
      ]
     },
     "execution_count": 5,
     "metadata": {},
     "output_type": "execute_result"
    }
   ],
   "source": [
    "data_full.head()"
   ]
  },
  {
   "cell_type": "markdown",
   "metadata": {},
   "source": [
    "***Целевой признак:***\n",
    "\n",
    "**final.output.recovery - финальнное общее восстановление продукта на выходе**\n",
    "\n",
    "**rougher.output.recovery - колличество продукта после этапа флотации материала**"
   ]
  },
  {
   "cell_type": "markdown",
   "metadata": {},
   "source": [
    "### Посмотрим колличество данных и типы столбцов"
   ]
  },
  {
   "cell_type": "code",
   "execution_count": 6,
   "metadata": {
    "scrolled": true
   },
   "outputs": [
    {
     "name": "stdout",
     "output_type": "stream",
     "text": [
      "<class 'pandas.core.frame.DataFrame'>\n",
      "RangeIndex: 14149 entries, 0 to 14148\n",
      "Data columns (total 87 columns):\n",
      " #   Column                                              Non-Null Count  Dtype  \n",
      "---  ------                                              --------------  -----  \n",
      " 0   date                                                14149 non-null  object \n",
      " 1   final.output.concentrate_ag                         14148 non-null  float64\n",
      " 2   final.output.concentrate_pb                         14148 non-null  float64\n",
      " 3   final.output.concentrate_sol                        13938 non-null  float64\n",
      " 4   final.output.concentrate_au                         14149 non-null  float64\n",
      " 5   final.output.recovery                               14149 non-null  float64\n",
      " 6   final.output.tail_ag                                14149 non-null  float64\n",
      " 7   final.output.tail_pb                                14049 non-null  float64\n",
      " 8   final.output.tail_sol                               14144 non-null  float64\n",
      " 9   final.output.tail_au                                14149 non-null  float64\n",
      " 10  primary_cleaner.input.sulfate                       14129 non-null  float64\n",
      " 11  primary_cleaner.input.depressant                    14117 non-null  float64\n",
      " 12  primary_cleaner.input.feed_size                     14149 non-null  float64\n",
      " 13  primary_cleaner.input.xanthate                      14049 non-null  float64\n",
      " 14  primary_cleaner.output.concentrate_ag               14149 non-null  float64\n",
      " 15  primary_cleaner.output.concentrate_pb               14063 non-null  float64\n",
      " 16  primary_cleaner.output.concentrate_sol              13863 non-null  float64\n",
      " 17  primary_cleaner.output.concentrate_au               14149 non-null  float64\n",
      " 18  primary_cleaner.output.tail_ag                      14148 non-null  float64\n",
      " 19  primary_cleaner.output.tail_pb                      14134 non-null  float64\n",
      " 20  primary_cleaner.output.tail_sol                     14103 non-null  float64\n",
      " 21  primary_cleaner.output.tail_au                      14149 non-null  float64\n",
      " 22  primary_cleaner.state.floatbank8_a_air              14145 non-null  float64\n",
      " 23  primary_cleaner.state.floatbank8_a_level            14148 non-null  float64\n",
      " 24  primary_cleaner.state.floatbank8_b_air              14145 non-null  float64\n",
      " 25  primary_cleaner.state.floatbank8_b_level            14148 non-null  float64\n",
      " 26  primary_cleaner.state.floatbank8_c_air              14147 non-null  float64\n",
      " 27  primary_cleaner.state.floatbank8_c_level            14148 non-null  float64\n",
      " 28  primary_cleaner.state.floatbank8_d_air              14146 non-null  float64\n",
      " 29  primary_cleaner.state.floatbank8_d_level            14148 non-null  float64\n",
      " 30  rougher.calculation.sulfate_to_au_concentrate       14148 non-null  float64\n",
      " 31  rougher.calculation.floatbank10_sulfate_to_au_feed  14148 non-null  float64\n",
      " 32  rougher.calculation.floatbank11_sulfate_to_au_feed  14148 non-null  float64\n",
      " 33  rougher.calculation.au_pb_ratio                     14149 non-null  float64\n",
      " 34  rougher.input.feed_ag                               14149 non-null  float64\n",
      " 35  rougher.input.feed_pb                               14049 non-null  float64\n",
      " 36  rougher.input.feed_rate                             14141 non-null  float64\n",
      " 37  rougher.input.feed_size                             14005 non-null  float64\n",
      " 38  rougher.input.feed_sol                              14071 non-null  float64\n",
      " 39  rougher.input.feed_au                               14149 non-null  float64\n",
      " 40  rougher.input.floatbank10_sulfate                   14120 non-null  float64\n",
      " 41  rougher.input.floatbank10_xanthate                  14141 non-null  float64\n",
      " 42  rougher.input.floatbank11_sulfate                   14113 non-null  float64\n",
      " 43  rougher.input.floatbank11_xanthate                  13721 non-null  float64\n",
      " 44  rougher.output.concentrate_ag                       14149 non-null  float64\n",
      " 45  rougher.output.concentrate_pb                       14149 non-null  float64\n",
      " 46  rougher.output.concentrate_sol                      14127 non-null  float64\n",
      " 47  rougher.output.concentrate_au                       14149 non-null  float64\n",
      " 48  rougher.output.recovery                             14149 non-null  float64\n",
      " 49  rougher.output.tail_ag                              14148 non-null  float64\n",
      " 50  rougher.output.tail_pb                              14149 non-null  float64\n",
      " 51  rougher.output.tail_sol                             14149 non-null  float64\n",
      " 52  rougher.output.tail_au                              14149 non-null  float64\n",
      " 53  rougher.state.floatbank10_a_air                     14148 non-null  float64\n",
      " 54  rougher.state.floatbank10_a_level                   14148 non-null  float64\n",
      " 55  rougher.state.floatbank10_b_air                     14148 non-null  float64\n",
      " 56  rougher.state.floatbank10_b_level                   14148 non-null  float64\n",
      " 57  rougher.state.floatbank10_c_air                     14148 non-null  float64\n",
      " 58  rougher.state.floatbank10_c_level                   14148 non-null  float64\n",
      " 59  rougher.state.floatbank10_d_air                     14149 non-null  float64\n",
      " 60  rougher.state.floatbank10_d_level                   14149 non-null  float64\n",
      " 61  rougher.state.floatbank10_e_air                     13713 non-null  float64\n",
      " 62  rougher.state.floatbank10_e_level                   14149 non-null  float64\n",
      " 63  rougher.state.floatbank10_f_air                     14149 non-null  float64\n",
      " 64  rougher.state.floatbank10_f_level                   14149 non-null  float64\n",
      " 65  secondary_cleaner.output.tail_ag                    14147 non-null  float64\n",
      " 66  secondary_cleaner.output.tail_pb                    14139 non-null  float64\n",
      " 67  secondary_cleaner.output.tail_sol                   12544 non-null  float64\n",
      " 68  secondary_cleaner.output.tail_au                    14149 non-null  float64\n",
      " 69  secondary_cleaner.state.floatbank2_a_air            13932 non-null  float64\n",
      " 70  secondary_cleaner.state.floatbank2_a_level          14148 non-null  float64\n",
      " 71  secondary_cleaner.state.floatbank2_b_air            14128 non-null  float64\n",
      " 72  secondary_cleaner.state.floatbank2_b_level          14148 non-null  float64\n",
      " 73  secondary_cleaner.state.floatbank3_a_air            14145 non-null  float64\n",
      " 74  secondary_cleaner.state.floatbank3_a_level          14148 non-null  float64\n",
      " 75  secondary_cleaner.state.floatbank3_b_air            14148 non-null  float64\n",
      " 76  secondary_cleaner.state.floatbank3_b_level          14148 non-null  float64\n",
      " 77  secondary_cleaner.state.floatbank4_a_air            14143 non-null  float64\n",
      " 78  secondary_cleaner.state.floatbank4_a_level          14148 non-null  float64\n",
      " 79  secondary_cleaner.state.floatbank4_b_air            14148 non-null  float64\n",
      " 80  secondary_cleaner.state.floatbank4_b_level          14148 non-null  float64\n",
      " 81  secondary_cleaner.state.floatbank5_a_air            14148 non-null  float64\n",
      " 82  secondary_cleaner.state.floatbank5_a_level          14148 non-null  float64\n",
      " 83  secondary_cleaner.state.floatbank5_b_air            14148 non-null  float64\n",
      " 84  secondary_cleaner.state.floatbank5_b_level          14148 non-null  float64\n",
      " 85  secondary_cleaner.state.floatbank6_a_air            14147 non-null  float64\n",
      " 86  secondary_cleaner.state.floatbank6_a_level          14148 non-null  float64\n",
      "dtypes: float64(86), object(1)\n",
      "memory usage: 9.4+ MB\n"
     ]
    }
   ],
   "source": [
    "data_train.info()"
   ]
  },
  {
   "cell_type": "code",
   "execution_count": 7,
   "metadata": {
    "scrolled": true
   },
   "outputs": [
    {
     "name": "stdout",
     "output_type": "stream",
     "text": [
      "<class 'pandas.core.frame.DataFrame'>\n",
      "RangeIndex: 5290 entries, 0 to 5289\n",
      "Data columns (total 53 columns):\n",
      " #   Column                                      Non-Null Count  Dtype  \n",
      "---  ------                                      --------------  -----  \n",
      " 0   date                                        5290 non-null   object \n",
      " 1   primary_cleaner.input.sulfate               5286 non-null   float64\n",
      " 2   primary_cleaner.input.depressant            5285 non-null   float64\n",
      " 3   primary_cleaner.input.feed_size             5290 non-null   float64\n",
      " 4   primary_cleaner.input.xanthate              5286 non-null   float64\n",
      " 5   primary_cleaner.state.floatbank8_a_air      5290 non-null   float64\n",
      " 6   primary_cleaner.state.floatbank8_a_level    5290 non-null   float64\n",
      " 7   primary_cleaner.state.floatbank8_b_air      5290 non-null   float64\n",
      " 8   primary_cleaner.state.floatbank8_b_level    5290 non-null   float64\n",
      " 9   primary_cleaner.state.floatbank8_c_air      5290 non-null   float64\n",
      " 10  primary_cleaner.state.floatbank8_c_level    5290 non-null   float64\n",
      " 11  primary_cleaner.state.floatbank8_d_air      5290 non-null   float64\n",
      " 12  primary_cleaner.state.floatbank8_d_level    5290 non-null   float64\n",
      " 13  rougher.input.feed_ag                       5290 non-null   float64\n",
      " 14  rougher.input.feed_pb                       5290 non-null   float64\n",
      " 15  rougher.input.feed_rate                     5287 non-null   float64\n",
      " 16  rougher.input.feed_size                     5289 non-null   float64\n",
      " 17  rougher.input.feed_sol                      5269 non-null   float64\n",
      " 18  rougher.input.feed_au                       5290 non-null   float64\n",
      " 19  rougher.input.floatbank10_sulfate           5285 non-null   float64\n",
      " 20  rougher.input.floatbank10_xanthate          5290 non-null   float64\n",
      " 21  rougher.input.floatbank11_sulfate           5282 non-null   float64\n",
      " 22  rougher.input.floatbank11_xanthate          5265 non-null   float64\n",
      " 23  rougher.state.floatbank10_a_air             5290 non-null   float64\n",
      " 24  rougher.state.floatbank10_a_level           5290 non-null   float64\n",
      " 25  rougher.state.floatbank10_b_air             5290 non-null   float64\n",
      " 26  rougher.state.floatbank10_b_level           5290 non-null   float64\n",
      " 27  rougher.state.floatbank10_c_air             5290 non-null   float64\n",
      " 28  rougher.state.floatbank10_c_level           5290 non-null   float64\n",
      " 29  rougher.state.floatbank10_d_air             5290 non-null   float64\n",
      " 30  rougher.state.floatbank10_d_level           5290 non-null   float64\n",
      " 31  rougher.state.floatbank10_e_air             5290 non-null   float64\n",
      " 32  rougher.state.floatbank10_e_level           5290 non-null   float64\n",
      " 33  rougher.state.floatbank10_f_air             5290 non-null   float64\n",
      " 34  rougher.state.floatbank10_f_level           5290 non-null   float64\n",
      " 35  secondary_cleaner.state.floatbank2_a_air    5287 non-null   float64\n",
      " 36  secondary_cleaner.state.floatbank2_a_level  5290 non-null   float64\n",
      " 37  secondary_cleaner.state.floatbank2_b_air    5288 non-null   float64\n",
      " 38  secondary_cleaner.state.floatbank2_b_level  5290 non-null   float64\n",
      " 39  secondary_cleaner.state.floatbank3_a_air    5281 non-null   float64\n",
      " 40  secondary_cleaner.state.floatbank3_a_level  5290 non-null   float64\n",
      " 41  secondary_cleaner.state.floatbank3_b_air    5290 non-null   float64\n",
      " 42  secondary_cleaner.state.floatbank3_b_level  5290 non-null   float64\n",
      " 43  secondary_cleaner.state.floatbank4_a_air    5290 non-null   float64\n",
      " 44  secondary_cleaner.state.floatbank4_a_level  5290 non-null   float64\n",
      " 45  secondary_cleaner.state.floatbank4_b_air    5290 non-null   float64\n",
      " 46  secondary_cleaner.state.floatbank4_b_level  5290 non-null   float64\n",
      " 47  secondary_cleaner.state.floatbank5_a_air    5290 non-null   float64\n",
      " 48  secondary_cleaner.state.floatbank5_a_level  5290 non-null   float64\n",
      " 49  secondary_cleaner.state.floatbank5_b_air    5290 non-null   float64\n",
      " 50  secondary_cleaner.state.floatbank5_b_level  5290 non-null   float64\n",
      " 51  secondary_cleaner.state.floatbank6_a_air    5290 non-null   float64\n",
      " 52  secondary_cleaner.state.floatbank6_a_level  5290 non-null   float64\n",
      "dtypes: float64(52), object(1)\n",
      "memory usage: 2.1+ MB\n"
     ]
    }
   ],
   "source": [
    "data_test.info()"
   ]
  },
  {
   "cell_type": "code",
   "execution_count": 8,
   "metadata": {
    "scrolled": true
   },
   "outputs": [
    {
     "name": "stdout",
     "output_type": "stream",
     "text": [
      "<class 'pandas.core.frame.DataFrame'>\n",
      "RangeIndex: 19439 entries, 0 to 19438\n",
      "Data columns (total 87 columns):\n",
      " #   Column                                              Non-Null Count  Dtype  \n",
      "---  ------                                              --------------  -----  \n",
      " 0   date                                                19439 non-null  object \n",
      " 1   final.output.concentrate_ag                         19438 non-null  float64\n",
      " 2   final.output.concentrate_pb                         19438 non-null  float64\n",
      " 3   final.output.concentrate_sol                        19228 non-null  float64\n",
      " 4   final.output.concentrate_au                         19439 non-null  float64\n",
      " 5   final.output.recovery                               19439 non-null  float64\n",
      " 6   final.output.tail_ag                                19438 non-null  float64\n",
      " 7   final.output.tail_pb                                19338 non-null  float64\n",
      " 8   final.output.tail_sol                               19433 non-null  float64\n",
      " 9   final.output.tail_au                                19439 non-null  float64\n",
      " 10  primary_cleaner.input.sulfate                       19415 non-null  float64\n",
      " 11  primary_cleaner.input.depressant                    19402 non-null  float64\n",
      " 12  primary_cleaner.input.feed_size                     19439 non-null  float64\n",
      " 13  primary_cleaner.input.xanthate                      19335 non-null  float64\n",
      " 14  primary_cleaner.output.concentrate_ag               19439 non-null  float64\n",
      " 15  primary_cleaner.output.concentrate_pb               19323 non-null  float64\n",
      " 16  primary_cleaner.output.concentrate_sol              19069 non-null  float64\n",
      " 17  primary_cleaner.output.concentrate_au               19439 non-null  float64\n",
      " 18  primary_cleaner.output.tail_ag                      19435 non-null  float64\n",
      " 19  primary_cleaner.output.tail_pb                      19418 non-null  float64\n",
      " 20  primary_cleaner.output.tail_sol                     19377 non-null  float64\n",
      " 21  primary_cleaner.output.tail_au                      19439 non-null  float64\n",
      " 22  primary_cleaner.state.floatbank8_a_air              19435 non-null  float64\n",
      " 23  primary_cleaner.state.floatbank8_a_level            19438 non-null  float64\n",
      " 24  primary_cleaner.state.floatbank8_b_air              19435 non-null  float64\n",
      " 25  primary_cleaner.state.floatbank8_b_level            19438 non-null  float64\n",
      " 26  primary_cleaner.state.floatbank8_c_air              19437 non-null  float64\n",
      " 27  primary_cleaner.state.floatbank8_c_level            19438 non-null  float64\n",
      " 28  primary_cleaner.state.floatbank8_d_air              19436 non-null  float64\n",
      " 29  primary_cleaner.state.floatbank8_d_level            19438 non-null  float64\n",
      " 30  rougher.calculation.sulfate_to_au_concentrate       19437 non-null  float64\n",
      " 31  rougher.calculation.floatbank10_sulfate_to_au_feed  19437 non-null  float64\n",
      " 32  rougher.calculation.floatbank11_sulfate_to_au_feed  19437 non-null  float64\n",
      " 33  rougher.calculation.au_pb_ratio                     19439 non-null  float64\n",
      " 34  rougher.input.feed_ag                               19439 non-null  float64\n",
      " 35  rougher.input.feed_pb                               19339 non-null  float64\n",
      " 36  rougher.input.feed_rate                             19428 non-null  float64\n",
      " 37  rougher.input.feed_size                             19294 non-null  float64\n",
      " 38  rougher.input.feed_sol                              19340 non-null  float64\n",
      " 39  rougher.input.feed_au                               19439 non-null  float64\n",
      " 40  rougher.input.floatbank10_sulfate                   19405 non-null  float64\n",
      " 41  rougher.input.floatbank10_xanthate                  19431 non-null  float64\n",
      " 42  rougher.input.floatbank11_sulfate                   19395 non-null  float64\n",
      " 43  rougher.input.floatbank11_xanthate                  18986 non-null  float64\n",
      " 44  rougher.output.concentrate_ag                       19439 non-null  float64\n",
      " 45  rougher.output.concentrate_pb                       19439 non-null  float64\n",
      " 46  rougher.output.concentrate_sol                      19416 non-null  float64\n",
      " 47  rougher.output.concentrate_au                       19439 non-null  float64\n",
      " 48  rougher.output.recovery                             19439 non-null  float64\n",
      " 49  rougher.output.tail_ag                              19438 non-null  float64\n",
      " 50  rougher.output.tail_pb                              19439 non-null  float64\n",
      " 51  rougher.output.tail_sol                             19439 non-null  float64\n",
      " 52  rougher.output.tail_au                              19439 non-null  float64\n",
      " 53  rougher.state.floatbank10_a_air                     19438 non-null  float64\n",
      " 54  rougher.state.floatbank10_a_level                   19438 non-null  float64\n",
      " 55  rougher.state.floatbank10_b_air                     19438 non-null  float64\n",
      " 56  rougher.state.floatbank10_b_level                   19438 non-null  float64\n",
      " 57  rougher.state.floatbank10_c_air                     19438 non-null  float64\n",
      " 58  rougher.state.floatbank10_c_level                   19438 non-null  float64\n",
      " 59  rougher.state.floatbank10_d_air                     19439 non-null  float64\n",
      " 60  rougher.state.floatbank10_d_level                   19439 non-null  float64\n",
      " 61  rougher.state.floatbank10_e_air                     19003 non-null  float64\n",
      " 62  rougher.state.floatbank10_e_level                   19439 non-null  float64\n",
      " 63  rougher.state.floatbank10_f_air                     19439 non-null  float64\n",
      " 64  rougher.state.floatbank10_f_level                   19439 non-null  float64\n",
      " 65  secondary_cleaner.output.tail_ag                    19437 non-null  float64\n",
      " 66  secondary_cleaner.output.tail_pb                    19427 non-null  float64\n",
      " 67  secondary_cleaner.output.tail_sol                   17691 non-null  float64\n",
      " 68  secondary_cleaner.output.tail_au                    19439 non-null  float64\n",
      " 69  secondary_cleaner.state.floatbank2_a_air            19219 non-null  float64\n",
      " 70  secondary_cleaner.state.floatbank2_a_level          19438 non-null  float64\n",
      " 71  secondary_cleaner.state.floatbank2_b_air            19416 non-null  float64\n",
      " 72  secondary_cleaner.state.floatbank2_b_level          19438 non-null  float64\n",
      " 73  secondary_cleaner.state.floatbank3_a_air            19426 non-null  float64\n",
      " 74  secondary_cleaner.state.floatbank3_a_level          19438 non-null  float64\n",
      " 75  secondary_cleaner.state.floatbank3_b_air            19438 non-null  float64\n",
      " 76  secondary_cleaner.state.floatbank3_b_level          19438 non-null  float64\n",
      " 77  secondary_cleaner.state.floatbank4_a_air            19433 non-null  float64\n",
      " 78  secondary_cleaner.state.floatbank4_a_level          19438 non-null  float64\n",
      " 79  secondary_cleaner.state.floatbank4_b_air            19438 non-null  float64\n",
      " 80  secondary_cleaner.state.floatbank4_b_level          19438 non-null  float64\n",
      " 81  secondary_cleaner.state.floatbank5_a_air            19438 non-null  float64\n",
      " 82  secondary_cleaner.state.floatbank5_a_level          19438 non-null  float64\n",
      " 83  secondary_cleaner.state.floatbank5_b_air            19438 non-null  float64\n",
      " 84  secondary_cleaner.state.floatbank5_b_level          19438 non-null  float64\n",
      " 85  secondary_cleaner.state.floatbank6_a_air            19437 non-null  float64\n",
      " 86  secondary_cleaner.state.floatbank6_a_level          19438 non-null  float64\n",
      "dtypes: float64(86), object(1)\n",
      "memory usage: 12.9+ MB\n"
     ]
    }
   ],
   "source": [
    "data_full.info()"
   ]
  },
  {
   "cell_type": "markdown",
   "metadata": {},
   "source": [
    "**Столбцы с датой не соответствуют типам данных что в них хранятся, исправим это:**"
   ]
  },
  {
   "cell_type": "code",
   "execution_count": 9,
   "metadata": {},
   "outputs": [],
   "source": [
    "data_train['date'] = pd.to_datetime(data_train['date'], format='%Y-%m-%dT%H:%M:%S')"
   ]
  },
  {
   "cell_type": "code",
   "execution_count": 10,
   "metadata": {},
   "outputs": [],
   "source": [
    "data_test['date'] = pd.to_datetime(data_test['date'], format='%Y-%m-%dT%H:%M:%S')"
   ]
  },
  {
   "cell_type": "code",
   "execution_count": 11,
   "metadata": {},
   "outputs": [],
   "source": [
    "data_full['date'] = pd.to_datetime(data_full['date'], format='%Y-%m-%dT%H:%M:%S')"
   ]
  },
  {
   "cell_type": "markdown",
   "metadata": {},
   "source": [
    "### Проверим данные на пропуски"
   ]
  },
  {
   "cell_type": "code",
   "execution_count": 12,
   "metadata": {
    "scrolled": false
   },
   "outputs": [
    {
     "data": {
      "text/plain": [
       "date                                            0\n",
       "final.output.concentrate_ag                     1\n",
       "final.output.concentrate_pb                     1\n",
       "final.output.concentrate_sol                  211\n",
       "final.output.concentrate_au                     0\n",
       "                                             ... \n",
       "secondary_cleaner.state.floatbank5_a_level      1\n",
       "secondary_cleaner.state.floatbank5_b_air        1\n",
       "secondary_cleaner.state.floatbank5_b_level      1\n",
       "secondary_cleaner.state.floatbank6_a_air        2\n",
       "secondary_cleaner.state.floatbank6_a_level      1\n",
       "Length: 87, dtype: int64"
      ]
     },
     "execution_count": 12,
     "metadata": {},
     "output_type": "execute_result"
    }
   ],
   "source": [
    "data_train.isna().sum()"
   ]
  },
  {
   "cell_type": "code",
   "execution_count": 13,
   "metadata": {
    "scrolled": true
   },
   "outputs": [
    {
     "data": {
      "text/plain": [
       "date                                           0\n",
       "primary_cleaner.input.sulfate                  4\n",
       "primary_cleaner.input.depressant               5\n",
       "primary_cleaner.input.feed_size                0\n",
       "primary_cleaner.input.xanthate                 4\n",
       "primary_cleaner.state.floatbank8_a_air         0\n",
       "primary_cleaner.state.floatbank8_a_level       0\n",
       "primary_cleaner.state.floatbank8_b_air         0\n",
       "primary_cleaner.state.floatbank8_b_level       0\n",
       "primary_cleaner.state.floatbank8_c_air         0\n",
       "primary_cleaner.state.floatbank8_c_level       0\n",
       "primary_cleaner.state.floatbank8_d_air         0\n",
       "primary_cleaner.state.floatbank8_d_level       0\n",
       "rougher.input.feed_ag                          0\n",
       "rougher.input.feed_pb                          0\n",
       "rougher.input.feed_rate                        3\n",
       "rougher.input.feed_size                        1\n",
       "rougher.input.feed_sol                        21\n",
       "rougher.input.feed_au                          0\n",
       "rougher.input.floatbank10_sulfate              5\n",
       "rougher.input.floatbank10_xanthate             0\n",
       "rougher.input.floatbank11_sulfate              8\n",
       "rougher.input.floatbank11_xanthate            25\n",
       "rougher.state.floatbank10_a_air                0\n",
       "rougher.state.floatbank10_a_level              0\n",
       "rougher.state.floatbank10_b_air                0\n",
       "rougher.state.floatbank10_b_level              0\n",
       "rougher.state.floatbank10_c_air                0\n",
       "rougher.state.floatbank10_c_level              0\n",
       "rougher.state.floatbank10_d_air                0\n",
       "rougher.state.floatbank10_d_level              0\n",
       "rougher.state.floatbank10_e_air                0\n",
       "rougher.state.floatbank10_e_level              0\n",
       "rougher.state.floatbank10_f_air                0\n",
       "rougher.state.floatbank10_f_level              0\n",
       "secondary_cleaner.state.floatbank2_a_air       3\n",
       "secondary_cleaner.state.floatbank2_a_level     0\n",
       "secondary_cleaner.state.floatbank2_b_air       2\n",
       "secondary_cleaner.state.floatbank2_b_level     0\n",
       "secondary_cleaner.state.floatbank3_a_air       9\n",
       "secondary_cleaner.state.floatbank3_a_level     0\n",
       "secondary_cleaner.state.floatbank3_b_air       0\n",
       "secondary_cleaner.state.floatbank3_b_level     0\n",
       "secondary_cleaner.state.floatbank4_a_air       0\n",
       "secondary_cleaner.state.floatbank4_a_level     0\n",
       "secondary_cleaner.state.floatbank4_b_air       0\n",
       "secondary_cleaner.state.floatbank4_b_level     0\n",
       "secondary_cleaner.state.floatbank5_a_air       0\n",
       "secondary_cleaner.state.floatbank5_a_level     0\n",
       "secondary_cleaner.state.floatbank5_b_air       0\n",
       "secondary_cleaner.state.floatbank5_b_level     0\n",
       "secondary_cleaner.state.floatbank6_a_air       0\n",
       "secondary_cleaner.state.floatbank6_a_level     0\n",
       "dtype: int64"
      ]
     },
     "execution_count": 13,
     "metadata": {},
     "output_type": "execute_result"
    }
   ],
   "source": [
    "data_test.isna().sum()"
   ]
  },
  {
   "cell_type": "code",
   "execution_count": 14,
   "metadata": {
    "scrolled": false
   },
   "outputs": [
    {
     "data": {
      "text/plain": [
       "date                                            0\n",
       "final.output.concentrate_ag                     1\n",
       "final.output.concentrate_pb                     1\n",
       "final.output.concentrate_sol                  211\n",
       "final.output.concentrate_au                     0\n",
       "                                             ... \n",
       "secondary_cleaner.state.floatbank5_a_level      1\n",
       "secondary_cleaner.state.floatbank5_b_air        1\n",
       "secondary_cleaner.state.floatbank5_b_level      1\n",
       "secondary_cleaner.state.floatbank6_a_air        2\n",
       "secondary_cleaner.state.floatbank6_a_level      1\n",
       "Length: 87, dtype: int64"
      ]
     },
     "execution_count": 14,
     "metadata": {},
     "output_type": "execute_result"
    }
   ],
   "source": [
    "data_full.isna().sum()"
   ]
  },
  {
   "cell_type": "markdown",
   "metadata": {},
   "source": [
    "**В данных наблюдаются пропуски, заполним пропуски \"соседями\" методом fillna(method='ffill')**"
   ]
  },
  {
   "cell_type": "code",
   "execution_count": 15,
   "metadata": {},
   "outputs": [],
   "source": [
    "data_train = data_train.fillna(method='ffill')"
   ]
  },
  {
   "cell_type": "code",
   "execution_count": 16,
   "metadata": {},
   "outputs": [],
   "source": [
    "data_test = data_test.fillna(method='ffill')"
   ]
  },
  {
   "cell_type": "code",
   "execution_count": 17,
   "metadata": {},
   "outputs": [],
   "source": [
    "data_full = data_full.fillna(method='ffill')"
   ]
  },
  {
   "cell_type": "markdown",
   "metadata": {},
   "source": [
    "### Проверем, что эффективность обогащения рассчитана правильно. Вычислем её на обучающей выборке для признака rougher.output.recovery. Найдём MAE между моими расчётами и значением признака."
   ]
  },
  {
   "cell_type": "markdown",
   "metadata": {},
   "source": [
    "**Для этого нам потребует смоделировать процесс восстановления золота из золотосодержащей руды. Присвоим переменным следующие данные:**\n",
    "\n",
    "***C — доля золота в концентрате после флотации/очистки;***\n",
    "\n",
    "***F — доля золота в сырье/концентрате до флотации/очистки;***\n",
    "\n",
    "***T — доля золота в отвальных хвостах после флотации/очистки.***"
   ]
  },
  {
   "cell_type": "code",
   "execution_count": 18,
   "metadata": {},
   "outputs": [],
   "source": [
    "C = data_train['rougher.output.concentrate_au']\n",
    "F = data_train['rougher.input.feed_au']\n",
    "T = data_train['rougher.output.tail_au']"
   ]
  },
  {
   "cell_type": "markdown",
   "metadata": {},
   "source": [
    "**Создадим столбец с данными высчитыми по формуле:**"
   ]
  },
  {
   "cell_type": "code",
   "execution_count": 19,
   "metadata": {},
   "outputs": [],
   "source": [
    "data_train['rougher.output.recovery_calculation'] = (C * (F - T)  / (F * (C - T))) * 100"
   ]
  },
  {
   "cell_type": "markdown",
   "metadata": {},
   "source": [
    "**Расчитаем среднюю абсолютную ошибку между столбцами с данными посчитаными по формуле и данными что там были**"
   ]
  },
  {
   "cell_type": "code",
   "execution_count": 20,
   "metadata": {},
   "outputs": [
    {
     "data": {
      "text/plain": [
       "9.73512347450521e-15"
      ]
     },
     "execution_count": 20,
     "metadata": {},
     "output_type": "execute_result"
    }
   ],
   "source": [
    "def mae(target_recovery, calculated_recovery):\n",
    "    return abs(target_recovery - calculated_recovery).sum() / len(target_recovery)\n",
    "\n",
    "target_recovery = data_train['rougher.output.recovery']\n",
    "calculated_recovery = data_train['rougher.output.recovery_calculation']\n",
    "\n",
    "mae(target_recovery, calculated_recovery)"
   ]
  },
  {
   "cell_type": "markdown",
   "metadata": {},
   "source": [
    "**Отклонение на 9.73%, что можно считать не слишком сильным**"
   ]
  },
  {
   "cell_type": "markdown",
   "metadata": {},
   "source": [
    "**Удалим столбец с самостоятельными расчётами по формуле**"
   ]
  },
  {
   "cell_type": "code",
   "execution_count": 21,
   "metadata": {},
   "outputs": [],
   "source": [
    "data_train.drop('rougher.output.recovery_calculation', axis=1, inplace=True)"
   ]
  },
  {
   "cell_type": "markdown",
   "metadata": {},
   "source": [
    "### Анализ данных что недостают тестовой выборке"
   ]
  },
  {
   "cell_type": "markdown",
   "metadata": {},
   "source": [
    "**Для начала, создадим список столбцов, которых нехватает в тестовой выборке, на основе тренировочной выборки**"
   ]
  },
  {
   "cell_type": "code",
   "execution_count": 22,
   "metadata": {
    "scrolled": true
   },
   "outputs": [
    {
     "data": {
      "text/plain": [
       "['final.output.concentrate_ag',\n",
       " 'final.output.concentrate_au',\n",
       " 'final.output.concentrate_pb',\n",
       " 'final.output.concentrate_sol',\n",
       " 'final.output.recovery',\n",
       " 'final.output.tail_ag',\n",
       " 'final.output.tail_au',\n",
       " 'final.output.tail_pb',\n",
       " 'final.output.tail_sol',\n",
       " 'primary_cleaner.output.concentrate_ag',\n",
       " 'primary_cleaner.output.concentrate_au',\n",
       " 'primary_cleaner.output.concentrate_pb',\n",
       " 'primary_cleaner.output.concentrate_sol',\n",
       " 'primary_cleaner.output.tail_ag',\n",
       " 'primary_cleaner.output.tail_au',\n",
       " 'primary_cleaner.output.tail_pb',\n",
       " 'primary_cleaner.output.tail_sol',\n",
       " 'rougher.calculation.au_pb_ratio',\n",
       " 'rougher.calculation.floatbank10_sulfate_to_au_feed',\n",
       " 'rougher.calculation.floatbank11_sulfate_to_au_feed',\n",
       " 'rougher.calculation.sulfate_to_au_concentrate',\n",
       " 'rougher.output.concentrate_ag',\n",
       " 'rougher.output.concentrate_au',\n",
       " 'rougher.output.concentrate_pb',\n",
       " 'rougher.output.concentrate_sol',\n",
       " 'rougher.output.recovery',\n",
       " 'rougher.output.tail_ag',\n",
       " 'rougher.output.tail_au',\n",
       " 'rougher.output.tail_pb',\n",
       " 'rougher.output.tail_sol',\n",
       " 'secondary_cleaner.output.tail_ag',\n",
       " 'secondary_cleaner.output.tail_au',\n",
       " 'secondary_cleaner.output.tail_pb',\n",
       " 'secondary_cleaner.output.tail_sol']"
      ]
     },
     "execution_count": 22,
     "metadata": {},
     "output_type": "execute_result"
    }
   ],
   "source": [
    "data_test_columns_loss = list(data_train.columns.difference(data_test.columns))\n",
    "data_test_columns_loss"
   ]
  },
  {
   "cell_type": "code",
   "execution_count": 23,
   "metadata": {},
   "outputs": [
    {
     "data": {
      "text/plain": [
       "34"
      ]
     },
     "execution_count": 23,
     "metadata": {},
     "output_type": "execute_result"
    }
   ],
   "source": [
    "len(data_test_columns_loss)"
   ]
  },
  {
   "cell_type": "markdown",
   "metadata": {},
   "source": [
    "**Нехватает 34 столбца:**\n",
    "\n",
    "***9 столбцов относятся к финальным параметрам продукта, в том числе и хвостами и целевым признаком 'final.output.recovery'.***\n",
    "\n",
    "***8 относятся к выходным свойствам продуктов после первичной очистки***\n",
    "\n",
    "***4 относятся к расчётным характеристикам после флотации***\n",
    "\n",
    "***9 к характеристикам после флотации, в том числе и целевой признак 'rougher.output.recovery'***\n",
    "\n",
    "***4 относятся к характеристикам после вторичной очитки***\n",
    "\n",
    "**Все эти столбцы, кроме целевых признаков, являются \"шумом\" для расчёта модели и не пригодятся на этапе создания модели**"
   ]
  },
  {
   "cell_type": "markdown",
   "metadata": {},
   "source": [
    "**Восстановим потерянные столбцы по значению столбца даты из исходной выборки**"
   ]
  },
  {
   "cell_type": "code",
   "execution_count": 24,
   "metadata": {
    "scrolled": true
   },
   "outputs": [],
   "source": [
    "data_test = data_full[data_full['date'].isin(data_test['date'])]"
   ]
  },
  {
   "cell_type": "code",
   "execution_count": 25,
   "metadata": {},
   "outputs": [],
   "source": [
    "data_test.reset_index(drop=True, inplace=True)"
   ]
  },
  {
   "cell_type": "markdown",
   "metadata": {},
   "source": [
    "### Вывод по подготовке данных:"
   ]
  },
  {
   "cell_type": "markdown",
   "metadata": {},
   "source": [
    "**Данные были проверены:**\n",
    "\n",
    "**Дубликатов в столбцах не было выявленно**\n",
    "\n",
    "**Были обнаружены пропуски и они были заполнены данными с соседних строк**\n",
    "\n",
    "**Тип столбца date был исправлен**\n",
    "\n",
    "**Было обнаруженно в тестовых данных нехватка 34 стобца, и они были восстановлены из исходной выборки путём поиска данных по времени и дате производства, перед созданием моделей мы их удалим, в тренировочной выборке и в тестовой. Кроме целевых признаков**"
   ]
  },
  {
   "cell_type": "markdown",
   "metadata": {},
   "source": [
    "## Анализ данных"
   ]
  },
  {
   "cell_type": "markdown",
   "metadata": {},
   "source": [
    "### Посмотрим как меняется концетрация металлов на разных стадиях технологического процесса"
   ]
  },
  {
   "cell_type": "markdown",
   "metadata": {},
   "source": [
    "**Концентрация металлов до флотации:**"
   ]
  },
  {
   "cell_type": "code",
   "execution_count": 26,
   "metadata": {
    "scrolled": true
   },
   "outputs": [
    {
     "name": "stdout",
     "output_type": "stream",
     "text": [
      "Средняя концентрация серебра(ag): 8.579195196596277\n",
      "Средняя концентрация свинца(pb): 3.5054646776095564\n",
      "Средняя концентрация золота(au): 7.866576841919407\n"
     ]
    }
   ],
   "source": [
    "print('Средняя концентрация серебра(ag):', data_train['rougher.input.feed_ag'].mean())\n",
    "print('Средняя концентрация свинца(pb):', data_train['rougher.input.feed_pb'].mean())\n",
    "print('Средняя концентрация золота(au):', data_train['rougher.input.feed_au'].mean())"
   ]
  },
  {
   "cell_type": "markdown",
   "metadata": {},
   "source": [
    "**Концентрация металлов после флотации:**"
   ]
  },
  {
   "cell_type": "code",
   "execution_count": 27,
   "metadata": {
    "scrolled": true
   },
   "outputs": [
    {
     "name": "stdout",
     "output_type": "stream",
     "text": [
      "Средняя концентрация серебра(ag): 11.775812314356036\n",
      "Средняя концентрация свинца(pb): 7.664554751481546\n",
      "Средняя концентрация золота(au): 19.43995785143646\n"
     ]
    }
   ],
   "source": [
    "print('Средняя концентрация серебра(ag):', data_train['rougher.output.concentrate_ag'].mean())\n",
    "print('Средняя концентрация свинца(pb):', data_train['rougher.output.concentrate_pb'].mean())\n",
    "print('Средняя концентрация золота(au):', data_train['rougher.output.concentrate_au'].mean())"
   ]
  },
  {
   "cell_type": "markdown",
   "metadata": {},
   "source": [
    "**Концентрация металлов после первого этапа очистки:**"
   ]
  },
  {
   "cell_type": "code",
   "execution_count": 28,
   "metadata": {},
   "outputs": [
    {
     "name": "stdout",
     "output_type": "stream",
     "text": [
      "Средняя концентрация серебра(ag): 8.200915815165981\n",
      "Средняя концентрация свинца(pb): 9.568544006770484\n",
      "Средняя концентрация золота(au): 32.386835978391346\n"
     ]
    }
   ],
   "source": [
    "print('Средняя концентрация серебра(ag):', data_train['primary_cleaner.output.concentrate_ag'].mean())\n",
    "print('Средняя концентрация свинца(pb):', data_train['primary_cleaner.output.concentrate_pb'].mean())\n",
    "print('Средняя концентрация золота(au):', data_train['primary_cleaner.output.concentrate_au'].mean())"
   ]
  },
  {
   "cell_type": "markdown",
   "metadata": {},
   "source": [
    "**Концентрация металлов после второго этапа очистки:**"
   ]
  },
  {
   "cell_type": "code",
   "execution_count": 29,
   "metadata": {},
   "outputs": [
    {
     "name": "stdout",
     "output_type": "stream",
     "text": [
      "Средняя концентрация серебра(ag): 5.141920924857091\n",
      "Средняя концентрация свинца(pb): 10.132847758146394\n",
      "Средняя концентрация золота(au): 44.00379162105571\n"
     ]
    }
   ],
   "source": [
    "print('Средняя концентрация серебра(ag):', data_train['final.output.concentrate_ag'].mean())\n",
    "print('Средняя концентрация свинца(pb):', data_train['final.output.concentrate_pb'].mean())\n",
    "print('Средняя концентрация золота(au):', data_train['final.output.concentrate_au'].mean())"
   ]
  },
  {
   "cell_type": "markdown",
   "metadata": {},
   "source": [
    "**По итогу анализа концентрации металлов на разных этапах производства, мы можем наблюдать, что:**\n",
    "\n",
    "***Концентрация серебра (Ag) - до этапа флотации его содержание в среднем около 8.57, после флотации показатель резко расёт и становится около 11.77, после первичной обработки начинает падать и становится около 8.2, а после второго этапа очистки и вовсе падает до среднего уровня в 5.14***\n",
    "\n",
    "***Концентрация свинца (Pb) - до этапа флотации в среднем около 3.5, после флотации 7.66, после первого этапа очистки 9.56, после второго этапа очистки 10.13***\n",
    "\n",
    "***Концентрация золота (Au) - до этапа флотации 7.86, после флотации 19.43, после первого этапа очистки 32.38, после второго этапа очистки 44.003***\n",
    "\n",
    "**На основе данных можно предположить, что этапы очистки нацелены на то что бы снизить колличество серебра, в то время как увеличение свинца является вторичным по отношению к золоту**"
   ]
  },
  {
   "cell_type": "markdown",
   "metadata": {},
   "source": [
    "### Сравним распределение размеров гранул сырья на обучающей и тестовой выборках."
   ]
  },
  {
   "cell_type": "code",
   "execution_count": 30,
   "metadata": {
    "scrolled": true
   },
   "outputs": [
    {
     "name": "stdout",
     "output_type": "stream",
     "text": [
      "Средний размер гранул тренировочной выборки: 60.23985599255732\n",
      "Средний размер гранул тестовой выборки: 55.952754028895136\n"
     ]
    },
    {
     "data": {
      "image/png": "[encoded data removed]",
      "text/plain": [
       "<Figure size 640x480 with 1 Axes>"
      ]
     },
     "metadata": {},
     "output_type": "display_data"
    }
   ],
   "source": [
    "sns.kdeplot(data_train['rougher.input.feed_size'], label='Тренировочная выборка')\n",
    "plt.legend()\n",
    "sns.kdeplot(data_test['rougher.input.feed_size'], label='Тестовая выборка')\n",
    "plt.legend()\n",
    "print('Средний размер гранул тренировочной выборки:', data_train['rougher.input.feed_size'].mean())\n",
    "print('Средний размер гранул тестовой выборки:', data_test['rougher.input.feed_size'].mean())"
   ]
  },
  {
   "cell_type": "markdown",
   "metadata": {},
   "source": [
    "**Размеры гранул на тестовой и тренировочной выборке различаются не сильно**"
   ]
  },
  {
   "cell_type": "markdown",
   "metadata": {},
   "source": [
    "### Исследуем суммарную концентрацию всех веществ на разных стадиях: в сырье, в черновом и финальном концентратах."
   ]
  },
  {
   "cell_type": "markdown",
   "metadata": {},
   "source": [
    "**Посмотрим концентрацию веществ в сырье, для этого создадим новую колонку с суммой всех веществ на разных этапах производства**"
   ]
  },
  {
   "cell_type": "markdown",
   "metadata": {},
   "source": [
    "**Вначале создадим сумму сырья**"
   ]
  },
  {
   "cell_type": "code",
   "execution_count": 31,
   "metadata": {},
   "outputs": [],
   "source": [
    "data_train['sum_substances_input'] = data_train.loc[:, ['rougher.input.feed_au',\n",
    "                                'rougher.input.feed_ag',\n",
    "                                'rougher.input.feed_pb',\n",
    "                                'rougher.input.feed_sol']].sum(axis=1)\n",
    "data_test['sum_substances_input'] = data_test.loc[:, ['rougher.input.feed_au',\n",
    "                                'rougher.input.feed_ag',\n",
    "                                'rougher.input.feed_pb',\n",
    "                                'rougher.input.feed_sol']].sum(axis=1)"
   ]
  },
  {
   "cell_type": "markdown",
   "metadata": {},
   "source": [
    "**Теперь после флотации**"
   ]
  },
  {
   "cell_type": "code",
   "execution_count": 32,
   "metadata": {},
   "outputs": [],
   "source": [
    "data_train['sum_draft_output'] = data_train.loc[:, ['rougher.output.concentrate_au',\n",
    "                                'rougher.output.concentrate_ag',\n",
    "                                'rougher.output.concentrate_pb',\n",
    "                                'rougher.output.concentrate_sol']].sum(axis=1)\n",
    "data_test['sum_draft_output'] = data_test.loc[:, ['rougher.output.concentrate_au',\n",
    "                                'rougher.output.concentrate_ag',\n",
    "                                'rougher.output.concentrate_pb',\n",
    "                                'rougher.output.concentrate_sol']].sum(axis=1)"
   ]
  },
  {
   "cell_type": "markdown",
   "metadata": {},
   "source": [
    "**Теперь итоговое колличество**"
   ]
  },
  {
   "cell_type": "code",
   "execution_count": 33,
   "metadata": {},
   "outputs": [],
   "source": [
    "data_train['sum_final_output'] = data_train.loc[:, ['final.output.concentrate_au',\n",
    "                               'final.output.concentrate_ag',\n",
    "                               'final.output.concentrate_pb',\n",
    "                               'final.output.concentrate_sol']].sum(axis=1)\n",
    "data_test['sum_final_output'] = data_test.loc[:, ['final.output.concentrate_au',\n",
    "                               'final.output.concentrate_ag',\n",
    "                               'final.output.concentrate_pb',\n",
    "                               'final.output.concentrate_sol']].sum(axis=1)"
   ]
  },
  {
   "cell_type": "code",
   "execution_count": 34,
   "metadata": {
    "scrolled": true
   },
   "outputs": [
    {
     "name": "stdout",
     "output_type": "stream",
     "text": [
      "Средняя концентрация веществ в сырье. Тренировочная выборка: 56.24216956828632\n",
      "Средняя концентрация веществ в сырье. Тестовая выборка: 60.20574066084081\n"
     ]
    },
    {
     "data": {
      "image/png": "[encoded data removed]",
      "text/plain": [
       "<Figure size 640x480 with 1 Axes>"
      ]
     },
     "metadata": {},
     "output_type": "display_data"
    }
   ],
   "source": [
    "sns.kdeplot(data_train['sum_substances_input'], label='Тренировочная выборка')\n",
    "plt.legend()\n",
    "sns.kdeplot(data_test['sum_substances_input'], label='Тестовая выборка')\n",
    "plt.legend()\n",
    "print('Средняя концентрация веществ в сырье. Тренировочная выборка:', data_train['sum_substances_input'].mean())\n",
    "print('Средняя концентрация веществ в сырье. Тестовая выборка:', data_test['sum_substances_input'].mean())"
   ]
  },
  {
   "cell_type": "markdown",
   "metadata": {},
   "source": [
    "**Наблюдаем сильный сдвиг вправо от нормального распределения**"
   ]
  },
  {
   "cell_type": "code",
   "execution_count": 35,
   "metadata": {
    "scrolled": false
   },
   "outputs": [
    {
     "name": "stdout",
     "output_type": "stream",
     "text": [
      "Средняя концентрация веществ в после флотации. Тренировочная выборка: 67.17314539700826\n",
      "Средняя концентрация веществ в после флотации. Тестовая выборка: 70.83943608368388\n"
     ]
    },
    {
     "data": {
      "image/png": "[encoded data removed]",
      "text/plain": [
       "<Figure size 640x480 with 1 Axes>"
      ]
     },
     "metadata": {},
     "output_type": "display_data"
    }
   ],
   "source": [
    "sns.kdeplot(data_train['sum_draft_output'], label='Тренировочная выборка')\n",
    "plt.legend()\n",
    "sns.kdeplot(data_test['sum_draft_output'], label='Тестовая выборка')\n",
    "plt.legend()\n",
    "print('Средняя концентрация веществ в после флотации. Тренировочная выборка:', data_train['sum_draft_output'].mean())\n",
    "print('Средняя концентрация веществ в после флотации. Тестовая выборка:', data_test['sum_draft_output'].mean())"
   ]
  },
  {
   "cell_type": "markdown",
   "metadata": {},
   "source": [
    "**Наблюдается выброс в районе 0**"
   ]
  },
  {
   "cell_type": "code",
   "execution_count": 36,
   "metadata": {
    "scrolled": true
   },
   "outputs": [
    {
     "name": "stdout",
     "output_type": "stream",
     "text": [
      "Средняя концентрация веществ в продукте на выходе. Тренировочная выборка: 68.387871746922\n",
      "Средняя концентрация веществ в продукте на выходе. Тестовая выборка: 69.36442240963066\n"
     ]
    },
    {
     "data": {
      "image/png": "[encoded data removed]",
      "text/plain": [
       "<Figure size 640x480 with 1 Axes>"
      ]
     },
     "metadata": {},
     "output_type": "display_data"
    }
   ],
   "source": [
    "sns.kdeplot(data_train['sum_final_output'], label='Тренировочная выборка')\n",
    "plt.legend()\n",
    "sns.kdeplot(data_test['sum_final_output'], label='Тестовая выборка')\n",
    "plt.legend()\n",
    "print('Средняя концентрация веществ в продукте на выходе. Тренировочная выборка:', data_train['sum_final_output'].mean())\n",
    "print('Средняя концентрация веществ в продукте на выходе. Тестовая выборка:', data_test['sum_final_output'].mean())"
   ]
  },
  {
   "cell_type": "markdown",
   "metadata": {},
   "source": [
    "**Наблюдается небольшой выброс в районе 0**"
   ]
  },
  {
   "cell_type": "markdown",
   "metadata": {},
   "source": [
    "### Борьба c выбросами"
   ]
  },
  {
   "cell_type": "code",
   "execution_count": 37,
   "metadata": {},
   "outputs": [],
   "source": [
    "data_train = data_train[(data_train['sum_substances_input'] > 20) &\n",
    "                        (data_train['sum_draft_output'] > 40) &\n",
    "                        (data_train['sum_final_output'] > 55)]\n",
    "\n",
    "data_test = data_test[(data_test['sum_substances_input'] > 20) &\n",
    "                      (data_test['sum_draft_output'] > 40) &\n",
    "                      (data_test['sum_final_output'] > 55)]"
   ]
  },
  {
   "cell_type": "code",
   "execution_count": 38,
   "metadata": {},
   "outputs": [
    {
     "name": "stdout",
     "output_type": "stream",
     "text": [
      "Средняя концентрация веществ в сырье. Тренировочная выборка: 56.46753309036132\n",
      "Средняя концентрация веществ в сырье. Тестовая выборка: 60.656644663837156\n"
     ]
    },
    {
     "data": {
      "image/png": "[encoded data removed]",
      "text/plain": [
       "<Figure size 640x480 with 1 Axes>"
      ]
     },
     "metadata": {},
     "output_type": "display_data"
    }
   ],
   "source": [
    "sns.kdeplot(data_train['sum_substances_input'], label='Тренировочная выборка')\n",
    "plt.legend()\n",
    "sns.kdeplot(data_test['sum_substances_input'], label='Тестовая выборка')\n",
    "plt.legend()\n",
    "print('Средняя концентрация веществ в сырье. Тренировочная выборка:', data_train['sum_substances_input'].mean())\n",
    "print('Средняя концентрация веществ в сырье. Тестовая выборка:', data_test['sum_substances_input'].mean())"
   ]
  },
  {
   "cell_type": "code",
   "execution_count": 39,
   "metadata": {},
   "outputs": [
    {
     "name": "stdout",
     "output_type": "stream",
     "text": [
      "Средняя концентрация веществ в после флотации. Тренировочная выборка: 69.0956855582185\n",
      "Средняя концентрация веществ в после флотации. Тестовая выборка: 72.531154988777\n"
     ]
    },
    {
     "data": {
      "image/png": "[encoded data removed]",
      "text/plain": [
       "<Figure size 640x480 with 1 Axes>"
      ]
     },
     "metadata": {},
     "output_type": "display_data"
    }
   ],
   "source": [
    "sns.kdeplot(data_train['sum_draft_output'], label='Тренировочная выборка')\n",
    "plt.legend()\n",
    "sns.kdeplot(data_test['sum_draft_output'], label='Тестовая выборка')\n",
    "plt.legend()\n",
    "print('Средняя концентрация веществ в после флотации. Тренировочная выборка:', data_train['sum_draft_output'].mean())\n",
    "print('Средняя концентрация веществ в после флотации. Тестовая выборка:', data_test['sum_draft_output'].mean())"
   ]
  },
  {
   "cell_type": "code",
   "execution_count": 40,
   "metadata": {
    "scrolled": true
   },
   "outputs": [
    {
     "name": "stdout",
     "output_type": "stream",
     "text": [
      "Средняя концентрация веществ в продукте на выходе. Тренировочная выборка: 69.22523230606923\n",
      "Средняя концентрация веществ в продукте на выходе. Тестовая выборка: 70.72664969912248\n"
     ]
    },
    {
     "data": {
      "image/png": "[encoded data removed]",
      "text/plain": [
       "<Figure size 640x480 with 1 Axes>"
      ]
     },
     "metadata": {},
     "output_type": "display_data"
    }
   ],
   "source": [
    "sns.kdeplot(data_train['sum_final_output'], label='Тренировочная выборка')\n",
    "plt.legend()\n",
    "sns.kdeplot(data_test['sum_final_output'], label='Тестовая выборка')\n",
    "plt.legend()\n",
    "print('Средняя концентрация веществ в продукте на выходе. Тренировочная выборка:', data_train['sum_final_output'].mean())\n",
    "print('Средняя концентрация веществ в продукте на выходе. Тестовая выборка:', data_test['sum_final_output'].mean())"
   ]
  },
  {
   "cell_type": "code",
   "execution_count": 41,
   "metadata": {},
   "outputs": [],
   "source": [
    "data_train.drop(columns=['sum_substances_input', 'sum_draft_output', 'sum_final_output'], axis=1, inplace=True)\n",
    "data_test.drop(columns=['sum_substances_input', 'sum_draft_output', 'sum_final_output'], axis=1, inplace=True)"
   ]
  },
  {
   "cell_type": "markdown",
   "metadata": {},
   "source": [
    "### Вывод по анализу данных"
   ]
  },
  {
   "cell_type": "markdown",
   "metadata": {},
   "source": [
    "**Было обнаруженно что концентрация всех металлов, кроме серебра, растёт на всех этапах производства. Концентрация серебра с каждым этапом производства после флотации падает.**\n",
    "\n",
    "**Сравнили распределение размеров гранул сырья на тестовой и тренировочной выборке, сильных различий не было обнаружено**\n",
    "\n",
    "**Были обнаружены выбросы и смещение вправо во время исследований суммарной концентрации веществ**\n",
    "\n",
    "**Выбросы и смещение вправо на графике, было устраненно путём устранения данных с аномальными данными и \"централизацией\" вершины на графике**"
   ]
  },
  {
   "cell_type": "markdown",
   "metadata": {},
   "source": [
    "## Модель"
   ]
  },
  {
   "cell_type": "markdown",
   "metadata": {},
   "source": [
    "###  Напишем функции для вычисления sMAPE и  итоговой sMAPE"
   ]
  },
  {
   "cell_type": "code",
   "execution_count": 42,
   "metadata": {},
   "outputs": [],
   "source": [
    "def smape(A, F):\n",
    "    return 100/len(A) * np.sum(2 * np.abs(F - A) / (np.abs(A) + np.abs(F)))\n",
    "\n",
    "def end_smape(rougher, final):\n",
    "    return 0.25 * rougher.item() + 0.75 * final.item()"
   ]
  },
  {
   "cell_type": "markdown",
   "metadata": {},
   "source": [
    "### Обучение моделей"
   ]
  },
  {
   "cell_type": "markdown",
   "metadata": {},
   "source": [
    "**Для начала избавимся от стобцов которых изначально не было в тестовой выборке, так же их следует удалить и из тренировочной выборки, кроме целевых признаков, так же колонка с временем нам не понадобится**"
   ]
  },
  {
   "cell_type": "code",
   "execution_count": 43,
   "metadata": {},
   "outputs": [],
   "source": [
    "drop = [\n",
    "        'date',\n",
    "        'final.output.concentrate_ag',\n",
    "        'final.output.concentrate_au',\n",
    "        'final.output.concentrate_pb',\n",
    "        'final.output.concentrate_sol',\n",
    "        'final.output.tail_ag',\n",
    "        'final.output.tail_au',\n",
    "        'final.output.tail_pb',\n",
    "        'final.output.tail_sol',\n",
    "        'primary_cleaner.output.concentrate_ag',\n",
    "        'primary_cleaner.output.concentrate_au',\n",
    "        'primary_cleaner.output.concentrate_pb',\n",
    "        'primary_cleaner.output.concentrate_sol',\n",
    "        'primary_cleaner.output.tail_ag',\n",
    "        'primary_cleaner.output.tail_au',\n",
    "        'primary_cleaner.output.tail_pb',\n",
    "        'primary_cleaner.output.tail_sol',\n",
    "        'rougher.calculation.au_pb_ratio',\n",
    "        'rougher.calculation.floatbank10_sulfate_to_au_feed',\n",
    "        'rougher.calculation.floatbank11_sulfate_to_au_feed',\n",
    "        'rougher.calculation.sulfate_to_au_concentrate',\n",
    "        'rougher.output.concentrate_ag',\n",
    "        'rougher.output.concentrate_au',\n",
    "        'rougher.output.concentrate_pb',\n",
    "        'rougher.output.concentrate_sol',\n",
    "        'rougher.output.tail_ag',\n",
    "        'rougher.output.tail_au',\n",
    "        'rougher.output.tail_pb',\n",
    "        'rougher.output.tail_sol',\n",
    "        'secondary_cleaner.output.tail_ag',\n",
    "        'secondary_cleaner.output.tail_au',\n",
    "        'secondary_cleaner.output.tail_pb',\n",
    "        'secondary_cleaner.output.tail_sol'\n",
    "       ]"
   ]
  },
  {
   "cell_type": "code",
   "execution_count": 44,
   "metadata": {},
   "outputs": [],
   "source": [
    "data_test = data_test.drop(columns=drop)\n",
    "data_train = data_train.drop(columns=drop)"
   ]
  },
  {
   "cell_type": "markdown",
   "metadata": {},
   "source": [
    "**Разделим данные на целевые признаки и признаки**"
   ]
  },
  {
   "cell_type": "code",
   "execution_count": 45,
   "metadata": {},
   "outputs": [],
   "source": [
    "target_rougher = data_train['rougher.output.recovery']\n",
    "features_rougher = data_train.drop(columns=['final.output.recovery', 'rougher.output.recovery'], axis=1)\n",
    "target_final = data_train['final.output.recovery']\n",
    "features_final = data_train.drop(columns=['final.output.recovery', 'rougher.output.recovery'], axis=1)\n",
    "\n",
    "target_rougher_test = data_test['rougher.output.recovery']\n",
    "features_rougher_test = data_test.drop(columns=['final.output.recovery', 'rougher.output.recovery'], axis=1)\n",
    "target_final_test = data_test['final.output.recovery']\n",
    "features_final_test = data_test.drop(columns=['final.output.recovery', 'rougher.output.recovery'], axis=1)"
   ]
  },
  {
   "cell_type": "markdown",
   "metadata": {},
   "source": [
    "**Модель линейной регрессии**"
   ]
  },
  {
   "cell_type": "code",
   "execution_count": 46,
   "metadata": {},
   "outputs": [],
   "source": [
    "custom_score = make_scorer(smape,greater_is_better=False)"
   ]
  },
  {
   "cell_type": "code",
   "execution_count": 47,
   "metadata": {},
   "outputs": [],
   "source": [
    "def get_cv_scores(model, target, features):\n",
    "    scorer = make_scorer(smape)\n",
    "    \n",
    "    scores = cross_val_score(model,\n",
    "                             features,\n",
    "                             target,\n",
    "                             cv=5,\n",
    "                             scoring=scorer)\n",
    "    \n",
    "    return scores.mean()"
   ]
  },
  {
   "cell_type": "code",
   "execution_count": 48,
   "metadata": {},
   "outputs": [
    {
     "name": "stdout",
     "output_type": "stream",
     "text": [
      "sMAPE для обогащения чернового концентрата: 6.951202307226586\n",
      "sMAPE для обогащения финального концентрата: 10.811535578888257\n",
      "Итоговое sMAPE: 9.84645226097284\n"
     ]
    }
   ],
   "source": [
    "model_line_rougher = LinearRegression()\n",
    "model_line_final = LinearRegression()\n",
    "\n",
    "rougher_smape = get_cv_scores(model_line_rougher, target_rougher, features_rougher)\n",
    "final_smape = get_cv_scores(model_line_final, target_final, features_final)\n",
    "end = end_smape(rougher_smape, final_smape)\n",
    "\n",
    "print('sMAPE для обогащения чернового концентрата:', rougher_smape)\n",
    "print('sMAPE для обогащения финального концентрата:', final_smape)\n",
    "print('Итоговое sMAPE:', end)"
   ]
  },
  {
   "cell_type": "markdown",
   "metadata": {},
   "source": [
    "### Модель случайного леса регрессии"
   ]
  },
  {
   "cell_type": "markdown",
   "metadata": {},
   "source": [
    "**Переберём побольше гиперпараметров в ручную через цикл:**"
   ]
  },
  {
   "cell_type": "code",
   "execution_count": 49,
   "metadata": {},
   "outputs": [
    {
     "name": "stdout",
     "output_type": "stream",
     "text": [
      "Лучшая глубина: 5\n",
      "Лучшее минимальное колличество выборок: 30\n",
      "Лучшее sMAPE: 6.062387394206634\n"
     ]
    }
   ],
   "source": [
    "best_result = 10\n",
    "best_depth = 0\n",
    "best_split = 0\n",
    "for depth in range(3, 7):\n",
    "    for split in range(10, 40, 10):\n",
    "        model_forest_rougher = RandomForestRegressor(\n",
    "                                                     random_state=12345,\n",
    "                                                     n_estimators=50,\n",
    "                                                     max_depth=depth,\n",
    "                                                     min_samples_split=split,\n",
    "                                                     min_samples_leaf=10\n",
    "                                                     )\n",
    "        \n",
    "        rougher_smape = get_cv_scores(model_forest_rougher, target_rougher, features_rougher)\n",
    "        if rougher_smape < best_result:\n",
    "            best_split = split\n",
    "            best_result = rougher_smape\n",
    "            best_depth = depth\n",
    "\n",
    "\n",
    "print('Лучшая глубина:', best_depth)\n",
    "print('Лучшее минимальное колличество выборок:', best_split)\n",
    "print('Лучшее sMAPE:', best_result)"
   ]
  },
  {
   "cell_type": "code",
   "execution_count": 50,
   "metadata": {},
   "outputs": [
    {
     "name": "stdout",
     "output_type": "stream",
     "text": [
      "Лучшая глубина: 4\n",
      "Лучшее минимальное колличество выборок: 10\n",
      "Лучшее sMAPE: 8.74597118666084\n"
     ]
    }
   ],
   "source": [
    "best_result = 10\n",
    "best_depth = 0\n",
    "best_split = 0   \n",
    "for depth in range(3, 7):\n",
    "    for split in range(10, 40, 10):\n",
    "        model_forest_final = RandomForestRegressor(\n",
    "                                                   random_state=12345,\n",
    "                                                   n_estimators=70,\n",
    "                                                   max_depth=depth,\n",
    "                                                   min_samples_split=split,\n",
    "                                                   min_samples_leaf=5\n",
    "                                                   )\n",
    "        final_smape = get_cv_scores(model_forest_final, target_final, features_final)\n",
    "\n",
    "        if final_smape < best_result:\n",
    "            best_split = split\n",
    "            best_result = final_smape\n",
    "            best_depth = depth\n",
    "            \n",
    "print('Лучшая глубина:', best_depth)\n",
    "print('Лучшее минимальное колличество выборок:', best_split)\n",
    "print('Лучшее sMAPE:', best_result)"
   ]
  },
  {
   "cell_type": "markdown",
   "metadata": {},
   "source": [
    "**Введём лучшие получившиеся гиперпараметры в модель**"
   ]
  },
  {
   "cell_type": "code",
   "execution_count": 51,
   "metadata": {
    "scrolled": true
   },
   "outputs": [
    {
     "name": "stdout",
     "output_type": "stream",
     "text": [
      "sMAPE для обогащения чернового концентрата: 6.052166997797089\n",
      "sMAPE для обогащения финального концентрата: 8.846381528988363\n",
      "Итоговое sMAPE: 8.147827896190545\n"
     ]
    }
   ],
   "source": [
    "model_forest_rougher = RandomForestRegressor(\n",
    "                                             random_state=12345,\n",
    "                                             n_estimators=50,\n",
    "                                             max_depth=5,\n",
    "                                             min_samples_split=30,\n",
    "                                             min_samples_leaf=5\n",
    "                                             )\n",
    "model_forest_final = RandomForestRegressor(\n",
    "                                           random_state=12345,\n",
    "                                           n_estimators=70,\n",
    "                                           max_depth=3,\n",
    "                                           min_samples_split=10,\n",
    "                                           min_samples_leaf=5\n",
    "                                           )\n",
    "\n",
    "rougher_smape = get_cv_scores(model_forest_rougher, target_rougher, features_rougher)\n",
    "final_smape = get_cv_scores(model_forest_final, target_final, features_final)\n",
    "end = end_smape(rougher_smape, final_smape)\n",
    "\n",
    "print('sMAPE для обогащения чернового концентрата:', rougher_smape)\n",
    "print('sMAPE для обогащения финального концентрата:', final_smape)\n",
    "print('Итоговое sMAPE:', end)"
   ]
  },
  {
   "cell_type": "markdown",
   "metadata": {},
   "source": [
    "**Получилось улучшить модель при помощи дополнительных гиперпараметров. Лушчей моделью оказался случайный лес со значительным перевесом**"
   ]
  },
  {
   "cell_type": "markdown",
   "metadata": {},
   "source": [
    "### Проверка модели на тестовой выборке"
   ]
  },
  {
   "cell_type": "code",
   "execution_count": 52,
   "metadata": {},
   "outputs": [
    {
     "name": "stdout",
     "output_type": "stream",
     "text": [
      "sMAPE для обогащения чернового концентрата: 4.1655444147420635\n",
      "sMAPE для обогащения финального концентрата: 7.478455804121022\n",
      "Итоговое sMAPE: 6.650227956776282\n"
     ]
    }
   ],
   "source": [
    "model_forest_rougher.fit(features_rougher, target_rougher)\n",
    "model_forest_final.fit(features_final, target_final)\n",
    "test_predictions_rougher = model_forest_rougher.predict(features_rougher_test)\n",
    "test_predictions_final = model_forest_final.predict(features_final_test)\n",
    "rougher_smape = smape(target_rougher_test, test_predictions_rougher)\n",
    "final_smape = smape(target_final_test, test_predictions_final)\n",
    "end = end_smape(rougher_smape, final_smape)\n",
    "\n",
    "print('sMAPE для обогащения чернового концентрата:', rougher_smape)\n",
    "print('sMAPE для обогащения финального концентрата:', final_smape)\n",
    "print('Итоговое sMAPE:', end)"
   ]
  },
  {
   "cell_type": "markdown",
   "metadata": {},
   "source": [
    "### Вывод по поиску модели"
   ]
  },
  {
   "cell_type": "markdown",
   "metadata": {},
   "source": [
    "**Были написаны функции для вычисления sMAPE и итогового sMAPE**\n",
    "\n",
    "**Для обучения были выбраны две модели, которые продемонстрировали следующие результаты на тренировочной выборке:**\n",
    "\n",
    "***Модель линейной регрессии:*** \n",
    "\n",
    "**sMAPE для обогащения чернового концентрата: 6.95%**\n",
    "\n",
    "**sMAPE для обогащения финального концентрата: 10.81%**\n",
    "\n",
    "**Итоговое sMAPE: 9.84%**\n",
    "\n",
    "***Модель случайного леса:***\n",
    "\n",
    "**sMAPE для обогащения чернового концентрата: 6.05%**\n",
    "\n",
    "**sMAPE для обогащения финального концентрата: 8.84%**\n",
    "\n",
    "**Итоговое sMAPE: 8.14%**\n",
    "\n",
    "**Для тестовой выборки была выбрана модель случайного леса, так как показала результат намного лучше на тренировочной выборки (эффективновность итогового результата была повышена на 18% по сравнению с результатом линейной регрессии)**\n",
    "\n",
    "**На тестовой выборке модель случайного леса показала следующие результаты:**\n",
    "\n",
    "***sMAPE для обогащения чернового концентрата: 4.16%***\n",
    "\n",
    "***sMAPE для обогащения финального концентрата: 7.47%***\n",
    "\n",
    "***Итоговое sMAPE: 6.65%***\n",
    "\n",
    "**Из результатов видно что, симметричная средняя абсолютная процентная ошибка для этой модели составляет 6.24% на тестовой выборке. Это даже ниже чем на тренировочной выборки, что можно считать успехом**"
   ]
  },
  {
   "cell_type": "markdown",
   "metadata": {},
   "source": [
    "### Проверка модель на адекватность"
   ]
  },
  {
   "cell_type": "code",
   "execution_count": 53,
   "metadata": {},
   "outputs": [
    {
     "name": "stdout",
     "output_type": "stream",
     "text": [
      "sMAPE для обогащения чернового концентрата: 4.481648528512909\n",
      "sMAPE для обогащения финального концентрата: 7.805021345648876\n",
      "Итоговое sMAPE: 6.9741781413648845\n"
     ]
    }
   ],
   "source": [
    "model_adequacy_rougher = DummyRegressor(strategy='median')\n",
    "model_adequacy_final = DummyRegressor(strategy='median')\n",
    "model_adequacy_rougher.fit(features_rougher, target_rougher)\n",
    "model_adequacy_final.fit(features_final, target_final)\n",
    "adequacy_predictions_rougher = model_adequacy_rougher.predict(features_rougher_test)\n",
    "adequacy_predictions_final = model_adequacy_final.predict(features_final_test)\n",
    "rougher_smape = smape(target_rougher_test, adequacy_predictions_rougher)\n",
    "final_smape = smape(target_final_test, adequacy_predictions_final)\n",
    "end = end_smape(rougher_smape, final_smape)\n",
    "\n",
    "print('sMAPE для обогащения чернового концентрата:', rougher_smape)\n",
    "print('sMAPE для обогащения финального концентрата:', final_smape)\n",
    "print('Итоговое sMAPE:', end)"
   ]
  },
  {
   "cell_type": "markdown",
   "metadata": {},
   "source": [
    "**Модель лучший результат, так что модель адекватна**"
   ]
  },
  {
   "cell_type": "markdown",
   "metadata": {},
   "source": [
    "## Вывод"
   ]
  },
  {
   "cell_type": "markdown",
   "metadata": {},
   "source": [
    "**Были проведенные исследования данных и были выполненны следующие действия:**\n",
    "\n",
    "**Данные были загруженны и проверены на пропуски, дубликаты, все обнаруженные пропуски были заполнены соседними по времени параметрами, так же был исправлен тип данных колонки со временем (date)**\n",
    "\n",
    "**Было проверенно, что эффективность обогащения рассчитана правильно. Вычеслена на обучающей выборке для признака rougher.output.recovery. Найдена MAE между моими расчётами и значением признака - 9.73%, что можно считать не сильным отклонением**\n",
    "\n",
    "**Был проведён анализ данных, что недостают в тестовой выборке. Оказалось что нехватает 34 колонки, две из которых являются целевыми признаками, остальные же являются различными итоговыми свойствами и значениями продукта на различных этапах производста, недостающие колонки были временно востановленны из общих данных, по значению колонки время**\n",
    "\n",
    "**Просмотрели как меняется концетрация металлов на разных стадиях технологического процесса, и было выявленно, что этапы очистки нацелены на то что бы снизить колличество серебра, в то время как увеличение свинца является вторичным по отношению к золоту**\n",
    "\n",
    "**Был проведён сравнительный анализ размеров гранул на тестовой и тренировочной выборке и выявленно, что различаются они не сильно**\n",
    "\n",
    "**Исследована суммарная концентрация всех веществ на разных стадиях: в сырье, в черновом и финальном концентратах. И был выявлен сдвиг модели распределения из-за около нулевых выбросов. Было принято решение устранить из данных аномальные значения и \"централизовать\" вершины на графиках.**\n",
    "\n",
    "**Были написаны функции для вычисления sMAPE и итоговой sMAPE**\n",
    "\n",
    "**Из тренировочной и тестовой выборки были удалены столбцы, которые могли создавать \"шумы\" для моделей**\n",
    "\n",
    "**Выбраны 2 модели для сравнивания их эффективности, модель линейной регрессии и случайного леса регресии. На этапе обучения на тренировочной выборки модель случайного леса показала себя эффективнее на 18%**\n",
    "\n",
    "**Итоговая симметричная средняя абсолютная процентная ошибка для тестовой выборки, при использовании модели случайного леса регрессии показала результат в 6.65%**"
   ]
  }
 ],
 "metadata": {
  "ExecuteTimeLog": [
   {
    "duration": 1430,
    "start_time": "2023-03-19T15:50:21.060Z"
   },
   {
    "duration": 2140,
    "start_time": "2023-03-19T15:50:36.953Z"
   },
   {
    "duration": 642,
    "start_time": "2023-03-19T15:52:51.874Z"
   },
   {
    "duration": 5,
    "start_time": "2023-03-19T15:53:17.886Z"
   },
   {
    "duration": 515,
    "start_time": "2023-03-19T15:53:18.724Z"
   },
   {
    "duration": 2351,
    "start_time": "2023-03-19T15:53:49.133Z"
   },
   {
    "duration": 5,
    "start_time": "2023-03-19T15:53:53.120Z"
   },
   {
    "duration": 23,
    "start_time": "2023-03-19T15:54:07.293Z"
   },
   {
    "duration": 19,
    "start_time": "2023-03-19T15:54:24.942Z"
   },
   {
    "duration": 20,
    "start_time": "2023-03-19T15:54:34.780Z"
   },
   {
    "duration": 45,
    "start_time": "2023-03-20T07:32:59.510Z"
   },
   {
    "duration": 1675,
    "start_time": "2023-03-20T07:33:07.260Z"
   },
   {
    "duration": 2718,
    "start_time": "2023-03-20T07:33:08.937Z"
   },
   {
    "duration": 4,
    "start_time": "2023-03-20T07:33:11.657Z"
   },
   {
    "duration": 29,
    "start_time": "2023-03-20T07:33:11.664Z"
   },
   {
    "duration": 28,
    "start_time": "2023-03-20T07:33:11.695Z"
   },
   {
    "duration": 27,
    "start_time": "2023-03-20T07:33:11.725Z"
   },
   {
    "duration": 40,
    "start_time": "2023-03-20T07:33:11.754Z"
   },
   {
    "duration": 13,
    "start_time": "2023-03-20T07:33:36.247Z"
   },
   {
    "duration": 16,
    "start_time": "2023-03-20T07:33:53.278Z"
   },
   {
    "duration": 12,
    "start_time": "2023-03-20T07:34:45.116Z"
   },
   {
    "duration": 7,
    "start_time": "2023-03-20T07:35:03.456Z"
   },
   {
    "duration": 9,
    "start_time": "2023-03-20T07:35:29.955Z"
   },
   {
    "duration": 29,
    "start_time": "2023-03-20T09:43:29.325Z"
   },
   {
    "duration": 27,
    "start_time": "2023-03-20T09:44:09.420Z"
   },
   {
    "duration": 8,
    "start_time": "2023-03-20T09:44:23.170Z"
   },
   {
    "duration": 9,
    "start_time": "2023-03-20T09:44:51.486Z"
   },
   {
    "duration": 7,
    "start_time": "2023-03-20T09:44:53.420Z"
   },
   {
    "duration": 4,
    "start_time": "2023-03-20T09:45:19.824Z"
   },
   {
    "duration": 33,
    "start_time": "2023-03-20T09:45:31.536Z"
   },
   {
    "duration": 12,
    "start_time": "2023-03-20T09:45:39.832Z"
   },
   {
    "duration": 7,
    "start_time": "2023-03-20T09:53:54.047Z"
   },
   {
    "duration": 4,
    "start_time": "2023-03-20T09:54:08.946Z"
   },
   {
    "duration": 7,
    "start_time": "2023-03-20T09:54:20.478Z"
   },
   {
    "duration": 14,
    "start_time": "2023-03-20T09:54:48.382Z"
   },
   {
    "duration": 18,
    "start_time": "2023-03-20T09:55:02.178Z"
   },
   {
    "duration": 1297,
    "start_time": "2023-03-20T09:55:18.564Z"
   },
   {
    "duration": 642,
    "start_time": "2023-03-20T09:55:19.863Z"
   },
   {
    "duration": 3,
    "start_time": "2023-03-20T09:55:20.506Z"
   },
   {
    "duration": 30,
    "start_time": "2023-03-20T09:55:20.511Z"
   },
   {
    "duration": 17,
    "start_time": "2023-03-20T09:55:20.542Z"
   },
   {
    "duration": 22,
    "start_time": "2023-03-20T09:55:20.560Z"
   },
   {
    "duration": 14,
    "start_time": "2023-03-20T09:55:20.584Z"
   },
   {
    "duration": 5,
    "start_time": "2023-03-20T09:55:20.600Z"
   },
   {
    "duration": 25,
    "start_time": "2023-03-20T09:55:20.606Z"
   },
   {
    "duration": 4,
    "start_time": "2023-03-20T09:55:20.634Z"
   },
   {
    "duration": 26,
    "start_time": "2023-03-20T09:55:20.640Z"
   },
   {
    "duration": 12,
    "start_time": "2023-03-20T09:55:20.668Z"
   },
   {
    "duration": 29,
    "start_time": "2023-03-20T09:55:20.682Z"
   },
   {
    "duration": 8,
    "start_time": "2023-03-20T09:55:20.712Z"
   },
   {
    "duration": 6,
    "start_time": "2023-03-20T09:55:20.722Z"
   },
   {
    "duration": 3,
    "start_time": "2023-03-20T09:55:20.730Z"
   },
   {
    "duration": 8,
    "start_time": "2023-03-20T09:55:20.735Z"
   },
   {
    "duration": 10,
    "start_time": "2023-03-20T09:55:20.745Z"
   },
   {
    "duration": 6,
    "start_time": "2023-03-20T09:56:15.767Z"
   },
   {
    "duration": 3,
    "start_time": "2023-03-20T09:59:00.533Z"
   },
   {
    "duration": 26,
    "start_time": "2023-03-20T09:59:11.285Z"
   },
   {
    "duration": 5,
    "start_time": "2023-03-20T09:59:22.004Z"
   },
   {
    "duration": 67,
    "start_time": "2023-03-20T10:00:50.438Z"
   },
   {
    "duration": 4,
    "start_time": "2023-03-20T10:00:55.468Z"
   },
   {
    "duration": 6,
    "start_time": "2023-03-20T10:00:56.551Z"
   },
   {
    "duration": 5,
    "start_time": "2023-03-20T10:02:43.140Z"
   },
   {
    "duration": 6,
    "start_time": "2023-03-20T10:02:44.632Z"
   },
   {
    "duration": 5,
    "start_time": "2023-03-20T10:34:44.041Z"
   },
   {
    "duration": 4,
    "start_time": "2023-03-20T10:40:34.743Z"
   },
   {
    "duration": 1527,
    "start_time": "2023-03-20T10:40:37.674Z"
   },
   {
    "duration": 916,
    "start_time": "2023-03-20T10:40:39.202Z"
   },
   {
    "duration": 3,
    "start_time": "2023-03-20T10:40:40.119Z"
   },
   {
    "duration": 22,
    "start_time": "2023-03-20T10:40:40.123Z"
   },
   {
    "duration": 16,
    "start_time": "2023-03-20T10:40:40.147Z"
   },
   {
    "duration": 32,
    "start_time": "2023-03-20T10:40:40.164Z"
   },
   {
    "duration": 15,
    "start_time": "2023-03-20T10:40:40.197Z"
   },
   {
    "duration": 5,
    "start_time": "2023-03-20T10:40:40.213Z"
   },
   {
    "duration": 17,
    "start_time": "2023-03-20T10:40:40.219Z"
   },
   {
    "duration": 4,
    "start_time": "2023-03-20T10:40:40.238Z"
   },
   {
    "duration": 44,
    "start_time": "2023-03-20T10:40:40.243Z"
   },
   {
    "duration": 7,
    "start_time": "2023-03-20T10:40:40.288Z"
   },
   {
    "duration": 16,
    "start_time": "2023-03-20T10:40:40.296Z"
   },
   {
    "duration": 6,
    "start_time": "2023-03-20T10:40:40.314Z"
   },
   {
    "duration": 5,
    "start_time": "2023-03-20T10:40:40.322Z"
   },
   {
    "duration": 3,
    "start_time": "2023-03-20T10:40:40.328Z"
   },
   {
    "duration": 10,
    "start_time": "2023-03-20T10:40:40.332Z"
   },
   {
    "duration": 36,
    "start_time": "2023-03-20T10:40:40.343Z"
   },
   {
    "duration": 4,
    "start_time": "2023-03-20T10:40:40.381Z"
   },
   {
    "duration": 9,
    "start_time": "2023-03-20T10:40:40.386Z"
   },
   {
    "duration": 6,
    "start_time": "2023-03-20T10:40:40.396Z"
   },
   {
    "duration": 7,
    "start_time": "2023-03-20T10:40:40.403Z"
   },
   {
    "duration": 106,
    "start_time": "2023-03-20T10:41:49.725Z"
   },
   {
    "duration": 13,
    "start_time": "2023-03-20T10:42:00.218Z"
   },
   {
    "duration": 5,
    "start_time": "2023-03-20T10:42:15.437Z"
   },
   {
    "duration": 6,
    "start_time": "2023-03-20T10:47:07.027Z"
   },
   {
    "duration": 5,
    "start_time": "2023-03-20T10:49:03.477Z"
   },
   {
    "duration": 19,
    "start_time": "2023-03-20T10:54:00.302Z"
   },
   {
    "duration": 17,
    "start_time": "2023-03-20T10:55:24.844Z"
   },
   {
    "duration": 6,
    "start_time": "2023-03-20T10:55:38.852Z"
   },
   {
    "duration": 14,
    "start_time": "2023-03-20T10:57:28.436Z"
   },
   {
    "duration": 25,
    "start_time": "2023-03-20T10:59:06.633Z"
   },
   {
    "duration": 13,
    "start_time": "2023-03-20T11:05:54.540Z"
   },
   {
    "duration": 4,
    "start_time": "2023-03-20T11:09:28.377Z"
   },
   {
    "duration": 14,
    "start_time": "2023-03-20T11:09:56.330Z"
   },
   {
    "duration": 16,
    "start_time": "2023-03-20T11:10:21.174Z"
   },
   {
    "duration": 1336,
    "start_time": "2023-03-20T11:10:50.005Z"
   },
   {
    "duration": 678,
    "start_time": "2023-03-20T11:10:51.342Z"
   },
   {
    "duration": 3,
    "start_time": "2023-03-20T11:10:52.021Z"
   },
   {
    "duration": 31,
    "start_time": "2023-03-20T11:10:52.026Z"
   },
   {
    "duration": 30,
    "start_time": "2023-03-20T11:10:52.060Z"
   },
   {
    "duration": 37,
    "start_time": "2023-03-20T11:10:52.092Z"
   },
   {
    "duration": 18,
    "start_time": "2023-03-20T11:10:52.131Z"
   },
   {
    "duration": 6,
    "start_time": "2023-03-20T11:10:52.151Z"
   },
   {
    "duration": 18,
    "start_time": "2023-03-20T11:10:52.159Z"
   },
   {
    "duration": 7,
    "start_time": "2023-03-20T11:10:52.179Z"
   },
   {
    "duration": 25,
    "start_time": "2023-03-20T11:10:52.188Z"
   },
   {
    "duration": 6,
    "start_time": "2023-03-20T11:10:52.214Z"
   },
   {
    "duration": 37,
    "start_time": "2023-03-20T11:10:52.222Z"
   },
   {
    "duration": 9,
    "start_time": "2023-03-20T11:10:52.262Z"
   },
   {
    "duration": 19,
    "start_time": "2023-03-20T11:10:52.273Z"
   },
   {
    "duration": 8,
    "start_time": "2023-03-20T11:10:52.293Z"
   },
   {
    "duration": 51,
    "start_time": "2023-03-20T11:10:52.302Z"
   },
   {
    "duration": 22,
    "start_time": "2023-03-20T11:10:52.355Z"
   },
   {
    "duration": 6,
    "start_time": "2023-03-20T11:10:52.378Z"
   },
   {
    "duration": 11,
    "start_time": "2023-03-20T11:10:52.385Z"
   },
   {
    "duration": 9,
    "start_time": "2023-03-20T11:10:52.398Z"
   },
   {
    "duration": 18,
    "start_time": "2023-03-20T11:10:52.408Z"
   },
   {
    "duration": 23,
    "start_time": "2023-03-20T11:10:52.428Z"
   },
   {
    "duration": 43,
    "start_time": "2023-03-20T11:10:52.452Z"
   },
   {
    "duration": 18,
    "start_time": "2023-03-20T11:14:46.896Z"
   },
   {
    "duration": 134,
    "start_time": "2023-03-20T11:15:56.053Z"
   },
   {
    "duration": 12,
    "start_time": "2023-03-20T11:16:07.209Z"
   },
   {
    "duration": 1301,
    "start_time": "2023-03-20T11:16:27.966Z"
   },
   {
    "duration": 696,
    "start_time": "2023-03-20T11:16:29.268Z"
   },
   {
    "duration": 3,
    "start_time": "2023-03-20T11:16:29.965Z"
   },
   {
    "duration": 32,
    "start_time": "2023-03-20T11:16:29.970Z"
   },
   {
    "duration": 21,
    "start_time": "2023-03-20T11:16:30.004Z"
   },
   {
    "duration": 40,
    "start_time": "2023-03-20T11:16:30.027Z"
   },
   {
    "duration": 36,
    "start_time": "2023-03-20T11:16:30.069Z"
   },
   {
    "duration": 9,
    "start_time": "2023-03-20T11:16:30.107Z"
   },
   {
    "duration": 28,
    "start_time": "2023-03-20T11:16:30.117Z"
   },
   {
    "duration": 16,
    "start_time": "2023-03-20T11:16:30.148Z"
   },
   {
    "duration": 37,
    "start_time": "2023-03-20T11:16:30.166Z"
   },
   {
    "duration": 9,
    "start_time": "2023-03-20T11:16:30.205Z"
   },
   {
    "duration": 13,
    "start_time": "2023-03-20T11:16:30.216Z"
   },
   {
    "duration": 10,
    "start_time": "2023-03-20T11:16:30.231Z"
   },
   {
    "duration": 10,
    "start_time": "2023-03-20T11:16:30.243Z"
   },
   {
    "duration": 14,
    "start_time": "2023-03-20T11:16:30.255Z"
   },
   {
    "duration": 28,
    "start_time": "2023-03-20T11:16:30.271Z"
   },
   {
    "duration": 19,
    "start_time": "2023-03-20T11:16:30.301Z"
   },
   {
    "duration": 9,
    "start_time": "2023-03-20T11:16:30.323Z"
   },
   {
    "duration": 26,
    "start_time": "2023-03-20T11:16:30.333Z"
   },
   {
    "duration": 54,
    "start_time": "2023-03-20T11:16:30.360Z"
   },
   {
    "duration": 52,
    "start_time": "2023-03-20T11:16:30.415Z"
   },
   {
    "duration": 27,
    "start_time": "2023-03-20T11:16:30.468Z"
   },
   {
    "duration": 68,
    "start_time": "2023-03-20T11:16:30.497Z"
   },
   {
    "duration": 13,
    "start_time": "2023-03-20T11:16:30.566Z"
   },
   {
    "duration": 16,
    "start_time": "2023-03-20T11:16:58.702Z"
   },
   {
    "duration": 112,
    "start_time": "2023-03-20T11:33:33.924Z"
   },
   {
    "duration": 1273,
    "start_time": "2023-03-20T11:33:38.113Z"
   },
   {
    "duration": 671,
    "start_time": "2023-03-20T11:33:39.388Z"
   },
   {
    "duration": 4,
    "start_time": "2023-03-20T11:33:40.060Z"
   },
   {
    "duration": 59,
    "start_time": "2023-03-20T11:33:40.066Z"
   },
   {
    "duration": 18,
    "start_time": "2023-03-20T11:33:40.127Z"
   },
   {
    "duration": 28,
    "start_time": "2023-03-20T11:33:40.146Z"
   },
   {
    "duration": 22,
    "start_time": "2023-03-20T11:33:40.176Z"
   },
   {
    "duration": 6,
    "start_time": "2023-03-20T11:33:40.200Z"
   },
   {
    "duration": 21,
    "start_time": "2023-03-20T11:33:40.207Z"
   },
   {
    "duration": 5,
    "start_time": "2023-03-20T11:33:40.231Z"
   },
   {
    "duration": 22,
    "start_time": "2023-03-20T11:33:40.238Z"
   },
   {
    "duration": 6,
    "start_time": "2023-03-20T11:33:40.261Z"
   },
   {
    "duration": 21,
    "start_time": "2023-03-20T11:33:40.268Z"
   },
   {
    "duration": 8,
    "start_time": "2023-03-20T11:33:40.290Z"
   },
   {
    "duration": 11,
    "start_time": "2023-03-20T11:33:40.299Z"
   },
   {
    "duration": 4,
    "start_time": "2023-03-20T11:33:40.311Z"
   },
   {
    "duration": 9,
    "start_time": "2023-03-20T11:33:40.317Z"
   },
   {
    "duration": 13,
    "start_time": "2023-03-20T11:33:40.328Z"
   },
   {
    "duration": 36,
    "start_time": "2023-03-20T11:33:40.343Z"
   },
   {
    "duration": 10,
    "start_time": "2023-03-20T11:33:40.382Z"
   },
   {
    "duration": 9,
    "start_time": "2023-03-20T11:33:40.393Z"
   },
   {
    "duration": 10,
    "start_time": "2023-03-20T11:33:40.403Z"
   },
   {
    "duration": 11,
    "start_time": "2023-03-20T11:33:40.414Z"
   },
   {
    "duration": 14,
    "start_time": "2023-03-20T11:33:40.426Z"
   },
   {
    "duration": 8473,
    "start_time": "2023-03-20T11:34:17.697Z"
   },
   {
    "duration": 595,
    "start_time": "2023-03-20T11:35:54.429Z"
   },
   {
    "duration": 1354,
    "start_time": "2023-03-20T11:39:41.499Z"
   },
   {
    "duration": 731,
    "start_time": "2023-03-20T11:39:42.855Z"
   },
   {
    "duration": 3,
    "start_time": "2023-03-20T11:39:43.588Z"
   },
   {
    "duration": 30,
    "start_time": "2023-03-20T11:39:43.592Z"
   },
   {
    "duration": 18,
    "start_time": "2023-03-20T11:39:43.624Z"
   },
   {
    "duration": 18,
    "start_time": "2023-03-20T11:39:43.644Z"
   },
   {
    "duration": 18,
    "start_time": "2023-03-20T11:39:43.679Z"
   },
   {
    "duration": 9,
    "start_time": "2023-03-20T11:39:43.699Z"
   },
   {
    "duration": 28,
    "start_time": "2023-03-20T11:39:43.710Z"
   },
   {
    "duration": 5,
    "start_time": "2023-03-20T11:39:43.740Z"
   },
   {
    "duration": 37,
    "start_time": "2023-03-20T11:39:43.747Z"
   },
   {
    "duration": 7,
    "start_time": "2023-03-20T11:39:43.785Z"
   },
   {
    "duration": 13,
    "start_time": "2023-03-20T11:39:43.793Z"
   },
   {
    "duration": 7,
    "start_time": "2023-03-20T11:39:43.808Z"
   },
   {
    "duration": 14,
    "start_time": "2023-03-20T11:39:43.816Z"
   },
   {
    "duration": 11,
    "start_time": "2023-03-20T11:39:43.831Z"
   },
   {
    "duration": 10,
    "start_time": "2023-03-20T11:39:43.843Z"
   },
   {
    "duration": 11,
    "start_time": "2023-03-20T11:39:43.854Z"
   },
   {
    "duration": 3,
    "start_time": "2023-03-20T11:39:43.866Z"
   },
   {
    "duration": 6,
    "start_time": "2023-03-20T11:39:43.879Z"
   },
   {
    "duration": 5,
    "start_time": "2023-03-20T11:39:43.886Z"
   },
   {
    "duration": 4,
    "start_time": "2023-03-20T11:39:43.892Z"
   },
   {
    "duration": 6,
    "start_time": "2023-03-20T11:39:43.897Z"
   },
   {
    "duration": 11,
    "start_time": "2023-03-20T11:39:43.905Z"
   },
   {
    "duration": 8076,
    "start_time": "2023-03-20T11:39:43.917Z"
   },
   {
    "duration": 1328,
    "start_time": "2023-03-20T11:41:03.955Z"
   },
   {
    "duration": 663,
    "start_time": "2023-03-20T11:41:05.285Z"
   },
   {
    "duration": 3,
    "start_time": "2023-03-20T11:41:05.949Z"
   },
   {
    "duration": 27,
    "start_time": "2023-03-20T11:41:05.954Z"
   },
   {
    "duration": 36,
    "start_time": "2023-03-20T11:41:05.983Z"
   },
   {
    "duration": 31,
    "start_time": "2023-03-20T11:41:06.021Z"
   },
   {
    "duration": 21,
    "start_time": "2023-03-20T11:41:06.053Z"
   },
   {
    "duration": 26,
    "start_time": "2023-03-20T11:41:06.075Z"
   },
   {
    "duration": 28,
    "start_time": "2023-03-20T11:41:06.102Z"
   },
   {
    "duration": 5,
    "start_time": "2023-03-20T11:41:06.132Z"
   },
   {
    "duration": 17,
    "start_time": "2023-03-20T11:41:06.138Z"
   },
   {
    "duration": 6,
    "start_time": "2023-03-20T11:41:06.157Z"
   },
   {
    "duration": 24,
    "start_time": "2023-03-20T11:41:06.164Z"
   },
   {
    "duration": 12,
    "start_time": "2023-03-20T11:41:06.189Z"
   },
   {
    "duration": 5,
    "start_time": "2023-03-20T11:41:06.203Z"
   },
   {
    "duration": 5,
    "start_time": "2023-03-20T11:41:06.209Z"
   },
   {
    "duration": 9,
    "start_time": "2023-03-20T11:41:06.215Z"
   },
   {
    "duration": 10,
    "start_time": "2023-03-20T11:41:06.225Z"
   },
   {
    "duration": 3,
    "start_time": "2023-03-20T11:41:06.236Z"
   },
   {
    "duration": 8,
    "start_time": "2023-03-20T11:41:06.241Z"
   },
   {
    "duration": 7,
    "start_time": "2023-03-20T11:41:06.250Z"
   },
   {
    "duration": 5,
    "start_time": "2023-03-20T11:41:06.279Z"
   },
   {
    "duration": 14,
    "start_time": "2023-03-20T11:41:06.285Z"
   },
   {
    "duration": 13,
    "start_time": "2023-03-20T11:41:06.300Z"
   },
   {
    "duration": 8950,
    "start_time": "2023-03-20T11:41:06.314Z"
   },
   {
    "duration": 1370,
    "start_time": "2023-03-20T11:41:39.481Z"
   },
   {
    "duration": 811,
    "start_time": "2023-03-20T11:41:40.855Z"
   },
   {
    "duration": 3,
    "start_time": "2023-03-20T11:41:41.668Z"
   },
   {
    "duration": 28,
    "start_time": "2023-03-20T11:41:41.672Z"
   },
   {
    "duration": 20,
    "start_time": "2023-03-20T11:41:41.702Z"
   },
   {
    "duration": 22,
    "start_time": "2023-03-20T11:41:41.724Z"
   },
   {
    "duration": 35,
    "start_time": "2023-03-20T11:41:41.748Z"
   },
   {
    "duration": 7,
    "start_time": "2023-03-20T11:41:41.784Z"
   },
   {
    "duration": 15,
    "start_time": "2023-03-20T11:41:41.794Z"
   },
   {
    "duration": 6,
    "start_time": "2023-03-20T11:41:41.811Z"
   },
   {
    "duration": 28,
    "start_time": "2023-03-20T11:41:41.818Z"
   },
   {
    "duration": 11,
    "start_time": "2023-03-20T11:41:41.847Z"
   },
   {
    "duration": 36,
    "start_time": "2023-03-20T11:41:41.859Z"
   },
   {
    "duration": 11,
    "start_time": "2023-03-20T11:41:41.896Z"
   },
   {
    "duration": 10,
    "start_time": "2023-03-20T11:41:41.909Z"
   },
   {
    "duration": 4,
    "start_time": "2023-03-20T11:41:41.921Z"
   },
   {
    "duration": 11,
    "start_time": "2023-03-20T11:41:41.927Z"
   },
   {
    "duration": 12,
    "start_time": "2023-03-20T11:41:41.940Z"
   },
   {
    "duration": 27,
    "start_time": "2023-03-20T11:41:41.954Z"
   },
   {
    "duration": 9,
    "start_time": "2023-03-20T11:41:41.982Z"
   },
   {
    "duration": 12,
    "start_time": "2023-03-20T11:41:41.993Z"
   },
   {
    "duration": 15,
    "start_time": "2023-03-20T11:41:42.007Z"
   },
   {
    "duration": 9,
    "start_time": "2023-03-20T11:41:42.023Z"
   },
   {
    "duration": 19,
    "start_time": "2023-03-20T11:41:42.034Z"
   },
   {
    "duration": 7835,
    "start_time": "2023-03-20T11:41:42.054Z"
   },
   {
    "duration": 53,
    "start_time": "2023-03-20T15:12:14.744Z"
   },
   {
    "duration": 1532,
    "start_time": "2023-03-20T15:12:19.597Z"
   },
   {
    "duration": 2569,
    "start_time": "2023-03-20T15:12:21.131Z"
   },
   {
    "duration": 4,
    "start_time": "2023-03-20T15:12:23.701Z"
   },
   {
    "duration": 37,
    "start_time": "2023-03-20T15:12:23.707Z"
   },
   {
    "duration": 33,
    "start_time": "2023-03-20T15:12:23.746Z"
   },
   {
    "duration": 36,
    "start_time": "2023-03-20T15:12:23.781Z"
   },
   {
    "duration": 31,
    "start_time": "2023-03-20T15:12:23.819Z"
   },
   {
    "duration": 8,
    "start_time": "2023-03-20T15:12:23.852Z"
   },
   {
    "duration": 28,
    "start_time": "2023-03-20T15:12:23.861Z"
   },
   {
    "duration": 9,
    "start_time": "2023-03-20T15:12:23.891Z"
   },
   {
    "duration": 42,
    "start_time": "2023-03-20T15:12:23.901Z"
   },
   {
    "duration": 10,
    "start_time": "2023-03-20T15:12:23.945Z"
   },
   {
    "duration": 22,
    "start_time": "2023-03-20T15:12:23.957Z"
   },
   {
    "duration": 17,
    "start_time": "2023-03-20T15:12:23.981Z"
   },
   {
    "duration": 25,
    "start_time": "2023-03-20T15:12:24.000Z"
   },
   {
    "duration": 33,
    "start_time": "2023-03-20T15:12:24.026Z"
   },
   {
    "duration": 19,
    "start_time": "2023-03-20T15:12:24.061Z"
   },
   {
    "duration": 27,
    "start_time": "2023-03-20T15:12:24.082Z"
   },
   {
    "duration": 3,
    "start_time": "2023-03-20T15:12:24.111Z"
   },
   {
    "duration": 14,
    "start_time": "2023-03-20T15:12:24.115Z"
   },
   {
    "duration": 19,
    "start_time": "2023-03-20T15:12:24.132Z"
   },
   {
    "duration": 13,
    "start_time": "2023-03-20T15:12:24.153Z"
   },
   {
    "duration": 20,
    "start_time": "2023-03-20T15:12:24.168Z"
   },
   {
    "duration": 28,
    "start_time": "2023-03-20T15:12:24.190Z"
   },
   {
    "duration": 997,
    "start_time": "2023-03-20T15:12:24.220Z"
   },
   {
    "duration": 0,
    "start_time": "2023-03-20T15:12:25.219Z"
   },
   {
    "duration": 9,
    "start_time": "2023-03-20T15:14:58.852Z"
   },
   {
    "duration": 4,
    "start_time": "2023-03-20T15:16:10.614Z"
   },
   {
    "duration": 6,
    "start_time": "2023-03-20T15:16:11.758Z"
   },
   {
    "duration": 8,
    "start_time": "2023-03-20T15:16:12.135Z"
   },
   {
    "duration": 5,
    "start_time": "2023-03-20T15:16:13.208Z"
   },
   {
    "duration": 6,
    "start_time": "2023-03-20T15:22:07.517Z"
   },
   {
    "duration": 6,
    "start_time": "2023-03-20T15:23:46.300Z"
   },
   {
    "duration": 7,
    "start_time": "2023-03-20T15:25:13.974Z"
   },
   {
    "duration": 6,
    "start_time": "2023-03-20T15:26:10.056Z"
   },
   {
    "duration": 1339,
    "start_time": "2023-03-20T15:28:22.904Z"
   },
   {
    "duration": 759,
    "start_time": "2023-03-20T15:28:24.246Z"
   },
   {
    "duration": 3,
    "start_time": "2023-03-20T15:28:25.006Z"
   },
   {
    "duration": 26,
    "start_time": "2023-03-20T15:28:25.011Z"
   },
   {
    "duration": 17,
    "start_time": "2023-03-20T15:28:25.039Z"
   },
   {
    "duration": 21,
    "start_time": "2023-03-20T15:28:25.057Z"
   },
   {
    "duration": 43,
    "start_time": "2023-03-20T15:28:25.080Z"
   },
   {
    "duration": 7,
    "start_time": "2023-03-20T15:28:25.124Z"
   },
   {
    "duration": 17,
    "start_time": "2023-03-20T15:28:25.132Z"
   },
   {
    "duration": 6,
    "start_time": "2023-03-20T15:28:25.151Z"
   },
   {
    "duration": 23,
    "start_time": "2023-03-20T15:28:25.158Z"
   },
   {
    "duration": 7,
    "start_time": "2023-03-20T15:28:25.182Z"
   },
   {
    "duration": 33,
    "start_time": "2023-03-20T15:28:25.190Z"
   },
   {
    "duration": 8,
    "start_time": "2023-03-20T15:28:25.225Z"
   },
   {
    "duration": 8,
    "start_time": "2023-03-20T15:28:25.234Z"
   },
   {
    "duration": 5,
    "start_time": "2023-03-20T15:28:25.243Z"
   },
   {
    "duration": 21,
    "start_time": "2023-03-20T15:28:25.249Z"
   },
   {
    "duration": 13,
    "start_time": "2023-03-20T15:28:25.272Z"
   },
   {
    "duration": 3,
    "start_time": "2023-03-20T15:28:25.287Z"
   },
   {
    "duration": 30,
    "start_time": "2023-03-20T15:28:25.292Z"
   },
   {
    "duration": 6,
    "start_time": "2023-03-20T15:28:25.323Z"
   },
   {
    "duration": 6,
    "start_time": "2023-03-20T15:28:25.330Z"
   },
   {
    "duration": 8,
    "start_time": "2023-03-20T15:28:25.338Z"
   },
   {
    "duration": 22,
    "start_time": "2023-03-20T15:28:25.347Z"
   },
   {
    "duration": 5,
    "start_time": "2023-03-20T15:28:25.371Z"
   },
   {
    "duration": 11,
    "start_time": "2023-03-20T15:28:25.378Z"
   },
   {
    "duration": 9,
    "start_time": "2023-03-20T15:28:25.390Z"
   },
   {
    "duration": 6,
    "start_time": "2023-03-20T15:28:25.421Z"
   },
   {
    "duration": 4,
    "start_time": "2023-03-20T15:46:25.985Z"
   },
   {
    "duration": 5,
    "start_time": "2023-03-20T15:46:41.206Z"
   },
   {
    "duration": 353,
    "start_time": "2023-03-20T15:47:13.316Z"
   },
   {
    "duration": 336,
    "start_time": "2023-03-20T15:47:39.829Z"
   },
   {
    "duration": 358,
    "start_time": "2023-03-20T15:48:35.520Z"
   },
   {
    "duration": 358,
    "start_time": "2023-03-20T15:48:41.419Z"
   },
   {
    "duration": 460,
    "start_time": "2023-03-20T15:48:54.120Z"
   },
   {
    "duration": 370,
    "start_time": "2023-03-20T15:48:58.486Z"
   },
   {
    "duration": 413,
    "start_time": "2023-03-20T15:50:44.727Z"
   },
   {
    "duration": 351,
    "start_time": "2023-03-20T15:51:04.392Z"
   },
   {
    "duration": 2929,
    "start_time": "2023-03-20T15:53:28.028Z"
   },
   {
    "duration": 50,
    "start_time": "2023-03-20T15:55:11.094Z"
   },
   {
    "duration": 77,
    "start_time": "2023-03-20T15:55:24.879Z"
   },
   {
    "duration": 325,
    "start_time": "2023-03-20T15:55:47.247Z"
   },
   {
    "duration": 391,
    "start_time": "2023-03-20T15:56:13.017Z"
   },
   {
    "duration": 395,
    "start_time": "2023-03-20T15:57:41.810Z"
   },
   {
    "duration": 5,
    "start_time": "2023-03-20T16:13:47.803Z"
   },
   {
    "duration": 4,
    "start_time": "2023-03-20T16:30:01.979Z"
   },
   {
    "duration": 1981,
    "start_time": "2023-03-21T07:33:09.749Z"
   },
   {
    "duration": 3020,
    "start_time": "2023-03-21T07:33:11.732Z"
   },
   {
    "duration": 3,
    "start_time": "2023-03-21T07:33:14.754Z"
   },
   {
    "duration": 52,
    "start_time": "2023-03-21T07:33:14.760Z"
   },
   {
    "duration": 24,
    "start_time": "2023-03-21T07:33:14.814Z"
   },
   {
    "duration": 31,
    "start_time": "2023-03-21T07:33:14.839Z"
   },
   {
    "duration": 22,
    "start_time": "2023-03-21T07:33:14.873Z"
   },
   {
    "duration": 14,
    "start_time": "2023-03-21T07:33:14.897Z"
   },
   {
    "duration": 18,
    "start_time": "2023-03-21T07:33:14.913Z"
   },
   {
    "duration": 6,
    "start_time": "2023-03-21T07:33:14.934Z"
   },
   {
    "duration": 14,
    "start_time": "2023-03-21T07:33:14.965Z"
   },
   {
    "duration": 16,
    "start_time": "2023-03-21T07:33:14.981Z"
   },
   {
    "duration": 10,
    "start_time": "2023-03-21T07:33:14.999Z"
   },
   {
    "duration": 42,
    "start_time": "2023-03-21T07:33:15.011Z"
   },
   {
    "duration": 21,
    "start_time": "2023-03-21T07:33:15.055Z"
   },
   {
    "duration": 20,
    "start_time": "2023-03-21T07:33:15.079Z"
   },
   {
    "duration": 6,
    "start_time": "2023-03-21T07:33:15.104Z"
   },
   {
    "duration": 15,
    "start_time": "2023-03-21T07:33:15.112Z"
   },
   {
    "duration": 3,
    "start_time": "2023-03-21T07:33:15.129Z"
   },
   {
    "duration": 17,
    "start_time": "2023-03-21T07:33:15.134Z"
   },
   {
    "duration": 1605,
    "start_time": "2023-03-21T07:33:15.153Z"
   },
   {
    "duration": 0,
    "start_time": "2023-03-21T07:33:16.760Z"
   },
   {
    "duration": 0,
    "start_time": "2023-03-21T07:33:16.762Z"
   },
   {
    "duration": 0,
    "start_time": "2023-03-21T07:33:16.763Z"
   },
   {
    "duration": 0,
    "start_time": "2023-03-21T07:33:16.764Z"
   },
   {
    "duration": 0,
    "start_time": "2023-03-21T07:33:16.765Z"
   },
   {
    "duration": 0,
    "start_time": "2023-03-21T07:33:16.767Z"
   },
   {
    "duration": 0,
    "start_time": "2023-03-21T07:33:16.768Z"
   },
   {
    "duration": 0,
    "start_time": "2023-03-21T07:33:16.769Z"
   },
   {
    "duration": 0,
    "start_time": "2023-03-21T07:33:16.770Z"
   },
   {
    "duration": 0,
    "start_time": "2023-03-21T07:33:16.771Z"
   },
   {
    "duration": 4,
    "start_time": "2023-03-21T07:34:24.239Z"
   },
   {
    "duration": 916,
    "start_time": "2023-03-21T07:34:24.565Z"
   },
   {
    "duration": 3,
    "start_time": "2023-03-21T07:34:25.484Z"
   },
   {
    "duration": 23,
    "start_time": "2023-03-21T07:34:25.489Z"
   },
   {
    "duration": 21,
    "start_time": "2023-03-21T07:34:25.514Z"
   },
   {
    "duration": 43,
    "start_time": "2023-03-21T07:34:25.537Z"
   },
   {
    "duration": 24,
    "start_time": "2023-03-21T07:34:26.148Z"
   },
   {
    "duration": 21,
    "start_time": "2023-03-21T07:34:26.340Z"
   },
   {
    "duration": 21,
    "start_time": "2023-03-21T07:34:26.541Z"
   },
   {
    "duration": 8,
    "start_time": "2023-03-21T07:34:26.878Z"
   },
   {
    "duration": 5,
    "start_time": "2023-03-21T07:34:27.040Z"
   },
   {
    "duration": 8,
    "start_time": "2023-03-21T07:34:27.217Z"
   },
   {
    "duration": 11,
    "start_time": "2023-03-21T07:34:27.885Z"
   },
   {
    "duration": 6,
    "start_time": "2023-03-21T07:34:28.051Z"
   },
   {
    "duration": 10,
    "start_time": "2023-03-21T07:34:28.346Z"
   },
   {
    "duration": 11,
    "start_time": "2023-03-21T07:34:28.704Z"
   },
   {
    "duration": 4,
    "start_time": "2023-03-21T07:34:28.914Z"
   },
   {
    "duration": 27,
    "start_time": "2023-03-21T07:34:29.149Z"
   },
   {
    "duration": 3,
    "start_time": "2023-03-21T07:34:30.084Z"
   },
   {
    "duration": 5,
    "start_time": "2023-03-21T07:34:30.548Z"
   },
   {
    "duration": 6,
    "start_time": "2023-03-21T07:34:31.399Z"
   },
   {
    "duration": 5,
    "start_time": "2023-03-21T07:34:34.643Z"
   },
   {
    "duration": 5,
    "start_time": "2023-03-21T07:34:35.211Z"
   },
   {
    "duration": 7,
    "start_time": "2023-03-21T07:34:36.753Z"
   },
   {
    "duration": 16,
    "start_time": "2023-03-21T07:34:37.089Z"
   },
   {
    "duration": 14,
    "start_time": "2023-03-21T07:34:37.443Z"
   },
   {
    "duration": 22,
    "start_time": "2023-03-21T07:34:58.218Z"
   },
   {
    "duration": 21,
    "start_time": "2023-03-21T07:44:14.361Z"
   },
   {
    "duration": 1547,
    "start_time": "2023-03-21T07:44:18.629Z"
   },
   {
    "duration": 863,
    "start_time": "2023-03-21T07:44:20.179Z"
   },
   {
    "duration": 4,
    "start_time": "2023-03-21T07:44:21.045Z"
   },
   {
    "duration": 41,
    "start_time": "2023-03-21T07:44:21.050Z"
   },
   {
    "duration": 26,
    "start_time": "2023-03-21T07:44:21.094Z"
   },
   {
    "duration": 52,
    "start_time": "2023-03-21T07:44:21.122Z"
   },
   {
    "duration": 26,
    "start_time": "2023-03-21T07:44:21.176Z"
   },
   {
    "duration": 18,
    "start_time": "2023-03-21T07:44:21.207Z"
   },
   {
    "duration": 49,
    "start_time": "2023-03-21T07:44:21.227Z"
   },
   {
    "duration": 8,
    "start_time": "2023-03-21T07:44:21.278Z"
   },
   {
    "duration": 7,
    "start_time": "2023-03-21T07:44:21.288Z"
   },
   {
    "duration": 8,
    "start_time": "2023-03-21T07:44:21.296Z"
   },
   {
    "duration": 19,
    "start_time": "2023-03-21T07:44:21.306Z"
   },
   {
    "duration": 7,
    "start_time": "2023-03-21T07:44:21.327Z"
   },
   {
    "duration": 28,
    "start_time": "2023-03-21T07:44:21.336Z"
   },
   {
    "duration": 12,
    "start_time": "2023-03-21T07:44:21.371Z"
   },
   {
    "duration": 4,
    "start_time": "2023-03-21T07:44:21.385Z"
   },
   {
    "duration": 21,
    "start_time": "2023-03-21T07:44:21.391Z"
   },
   {
    "duration": 4,
    "start_time": "2023-03-21T07:44:21.413Z"
   },
   {
    "duration": 9,
    "start_time": "2023-03-21T07:44:21.419Z"
   },
   {
    "duration": 7,
    "start_time": "2023-03-21T07:44:21.430Z"
   },
   {
    "duration": 23,
    "start_time": "2023-03-21T07:44:21.462Z"
   },
   {
    "duration": 6,
    "start_time": "2023-03-21T07:44:21.488Z"
   },
   {
    "duration": 5,
    "start_time": "2023-03-21T07:44:21.496Z"
   },
   {
    "duration": 14,
    "start_time": "2023-03-21T07:44:21.503Z"
   },
   {
    "duration": 7,
    "start_time": "2023-03-21T07:44:21.519Z"
   },
   {
    "duration": 34,
    "start_time": "2023-03-21T07:44:21.528Z"
   },
   {
    "duration": 13,
    "start_time": "2023-03-21T07:44:21.564Z"
   },
   {
    "duration": 7,
    "start_time": "2023-03-21T07:44:21.579Z"
   },
   {
    "duration": 395,
    "start_time": "2023-03-21T07:44:21.588Z"
   },
   {
    "duration": 654,
    "start_time": "2023-03-21T08:28:55.735Z"
   },
   {
    "duration": 800,
    "start_time": "2023-03-21T08:30:48.398Z"
   },
   {
    "duration": 658,
    "start_time": "2023-03-21T08:33:43.021Z"
   },
   {
    "duration": 883,
    "start_time": "2023-03-21T08:34:03.428Z"
   },
   {
    "duration": 896,
    "start_time": "2023-03-21T08:36:21.610Z"
   },
   {
    "duration": 816,
    "start_time": "2023-03-21T08:38:55.305Z"
   },
   {
    "duration": 784,
    "start_time": "2023-03-21T08:40:24.265Z"
   },
   {
    "duration": 759,
    "start_time": "2023-03-21T08:50:52.317Z"
   },
   {
    "duration": 655,
    "start_time": "2023-03-21T08:53:22.715Z"
   },
   {
    "duration": 683,
    "start_time": "2023-03-21T08:54:30.528Z"
   },
   {
    "duration": 600,
    "start_time": "2023-03-21T08:55:29.556Z"
   },
   {
    "duration": 687,
    "start_time": "2023-03-21T08:56:21.863Z"
   },
   {
    "duration": 832,
    "start_time": "2023-03-21T08:59:43.303Z"
   },
   {
    "duration": 753,
    "start_time": "2023-03-21T09:01:42.856Z"
   },
   {
    "duration": 862,
    "start_time": "2023-03-21T09:01:43.612Z"
   },
   {
    "duration": 810,
    "start_time": "2023-03-21T09:01:44.477Z"
   },
   {
    "duration": 1519,
    "start_time": "2023-03-21T09:53:46.842Z"
   },
   {
    "duration": 864,
    "start_time": "2023-03-21T09:53:48.364Z"
   },
   {
    "duration": 4,
    "start_time": "2023-03-21T09:53:49.230Z"
   },
   {
    "duration": 35,
    "start_time": "2023-03-21T09:53:49.236Z"
   },
   {
    "duration": 24,
    "start_time": "2023-03-21T09:53:49.273Z"
   },
   {
    "duration": 27,
    "start_time": "2023-03-21T09:53:49.299Z"
   },
   {
    "duration": 45,
    "start_time": "2023-03-21T09:53:49.328Z"
   },
   {
    "duration": 14,
    "start_time": "2023-03-21T09:53:49.375Z"
   },
   {
    "duration": 20,
    "start_time": "2023-03-21T09:53:49.391Z"
   },
   {
    "duration": 8,
    "start_time": "2023-03-21T09:53:49.414Z"
   },
   {
    "duration": 38,
    "start_time": "2023-03-21T09:53:49.424Z"
   },
   {
    "duration": 10,
    "start_time": "2023-03-21T09:53:49.464Z"
   },
   {
    "duration": 13,
    "start_time": "2023-03-21T09:53:49.476Z"
   },
   {
    "duration": 7,
    "start_time": "2023-03-21T09:53:49.491Z"
   },
   {
    "duration": 10,
    "start_time": "2023-03-21T09:53:49.500Z"
   },
   {
    "duration": 12,
    "start_time": "2023-03-21T09:53:49.512Z"
   },
   {
    "duration": 5,
    "start_time": "2023-03-21T09:53:49.561Z"
   },
   {
    "duration": 16,
    "start_time": "2023-03-21T09:53:49.567Z"
   },
   {
    "duration": 4,
    "start_time": "2023-03-21T09:53:49.585Z"
   },
   {
    "duration": 10,
    "start_time": "2023-03-21T09:53:49.591Z"
   },
   {
    "duration": 7,
    "start_time": "2023-03-21T09:53:49.603Z"
   },
   {
    "duration": 50,
    "start_time": "2023-03-21T09:53:49.612Z"
   },
   {
    "duration": 6,
    "start_time": "2023-03-21T09:53:49.664Z"
   },
   {
    "duration": 16,
    "start_time": "2023-03-21T09:53:49.671Z"
   },
   {
    "duration": 12,
    "start_time": "2023-03-21T09:53:49.689Z"
   },
   {
    "duration": 6,
    "start_time": "2023-03-21T09:53:49.703Z"
   },
   {
    "duration": 11,
    "start_time": "2023-03-21T09:53:49.712Z"
   },
   {
    "duration": 34,
    "start_time": "2023-03-21T09:53:49.728Z"
   },
   {
    "duration": 10,
    "start_time": "2023-03-21T09:53:49.764Z"
   },
   {
    "duration": 404,
    "start_time": "2023-03-21T09:53:49.776Z"
   },
   {
    "duration": 689,
    "start_time": "2023-03-21T09:53:50.182Z"
   },
   {
    "duration": 700,
    "start_time": "2023-03-21T09:53:50.872Z"
   },
   {
    "duration": 799,
    "start_time": "2023-03-21T09:53:51.574Z"
   },
   {
    "duration": 789,
    "start_time": "2023-03-21T09:53:52.376Z"
   },
   {
    "duration": 678,
    "start_time": "2023-03-21T09:53:53.168Z"
   },
   {
    "duration": 686,
    "start_time": "2023-03-21T09:53:53.848Z"
   },
   {
    "duration": 693,
    "start_time": "2023-03-21T09:53:54.536Z"
   },
   {
    "duration": 600,
    "start_time": "2023-03-21T09:53:55.231Z"
   },
   {
    "duration": 691,
    "start_time": "2023-03-21T09:53:55.833Z"
   },
   {
    "duration": 709,
    "start_time": "2023-03-21T09:53:56.526Z"
   },
   {
    "duration": 605,
    "start_time": "2023-03-21T09:53:57.237Z"
   },
   {
    "duration": 699,
    "start_time": "2023-03-21T09:53:57.844Z"
   },
   {
    "duration": 1330,
    "start_time": "2023-03-21T10:03:28.822Z"
   },
   {
    "duration": 1230,
    "start_time": "2023-03-21T10:04:13.584Z"
   },
   {
    "duration": 600,
    "start_time": "2023-03-21T10:06:22.013Z"
   },
   {
    "duration": 600,
    "start_time": "2023-03-21T10:06:56.288Z"
   },
   {
    "duration": 578,
    "start_time": "2023-03-21T10:07:07.476Z"
   },
   {
    "duration": 11,
    "start_time": "2023-03-21T10:07:34.027Z"
   },
   {
    "duration": 18,
    "start_time": "2023-03-21T10:07:43.964Z"
   },
   {
    "duration": 35,
    "start_time": "2023-03-21T10:07:54.174Z"
   },
   {
    "duration": 7,
    "start_time": "2023-03-21T10:08:25.118Z"
   },
   {
    "duration": 21,
    "start_time": "2023-03-21T10:08:26.563Z"
   },
   {
    "duration": 16,
    "start_time": "2023-03-21T10:08:37.745Z"
   },
   {
    "duration": 25,
    "start_time": "2023-03-21T10:08:39.199Z"
   },
   {
    "duration": 7,
    "start_time": "2023-03-21T10:08:45.235Z"
   },
   {
    "duration": 27,
    "start_time": "2023-03-21T10:08:46.035Z"
   },
   {
    "duration": 20,
    "start_time": "2023-03-21T10:11:20.581Z"
   },
   {
    "duration": 8,
    "start_time": "2023-03-21T10:11:24.019Z"
   },
   {
    "duration": 12,
    "start_time": "2023-03-21T10:12:02.047Z"
   },
   {
    "duration": 1516,
    "start_time": "2023-03-21T10:12:15.742Z"
   },
   {
    "duration": 929,
    "start_time": "2023-03-21T10:12:17.264Z"
   },
   {
    "duration": 4,
    "start_time": "2023-03-21T10:12:18.195Z"
   },
   {
    "duration": 40,
    "start_time": "2023-03-21T10:12:18.201Z"
   },
   {
    "duration": 48,
    "start_time": "2023-03-21T10:12:18.244Z"
   },
   {
    "duration": 25,
    "start_time": "2023-03-21T10:12:18.294Z"
   },
   {
    "duration": 44,
    "start_time": "2023-03-21T10:12:18.320Z"
   },
   {
    "duration": 18,
    "start_time": "2023-03-21T10:12:18.365Z"
   },
   {
    "duration": 19,
    "start_time": "2023-03-21T10:12:18.384Z"
   },
   {
    "duration": 8,
    "start_time": "2023-03-21T10:12:18.405Z"
   },
   {
    "duration": 6,
    "start_time": "2023-03-21T10:12:18.414Z"
   },
   {
    "duration": 43,
    "start_time": "2023-03-21T10:12:18.422Z"
   },
   {
    "duration": 14,
    "start_time": "2023-03-21T10:12:18.467Z"
   },
   {
    "duration": 10,
    "start_time": "2023-03-21T10:12:18.485Z"
   },
   {
    "duration": 10,
    "start_time": "2023-03-21T10:12:18.497Z"
   },
   {
    "duration": 10,
    "start_time": "2023-03-21T10:12:18.508Z"
   },
   {
    "duration": 4,
    "start_time": "2023-03-21T10:12:18.520Z"
   },
   {
    "duration": 53,
    "start_time": "2023-03-21T10:12:18.526Z"
   },
   {
    "duration": 3,
    "start_time": "2023-03-21T10:12:18.582Z"
   },
   {
    "duration": 11,
    "start_time": "2023-03-21T10:12:18.587Z"
   },
   {
    "duration": 8,
    "start_time": "2023-03-21T10:12:18.601Z"
   },
   {
    "duration": 19,
    "start_time": "2023-03-21T10:12:18.611Z"
   },
   {
    "duration": 33,
    "start_time": "2023-03-21T10:12:18.632Z"
   },
   {
    "duration": 6,
    "start_time": "2023-03-21T10:12:18.667Z"
   },
   {
    "duration": 9,
    "start_time": "2023-03-21T10:12:18.675Z"
   },
   {
    "duration": 6,
    "start_time": "2023-03-21T10:12:18.686Z"
   },
   {
    "duration": 7,
    "start_time": "2023-03-21T10:12:18.695Z"
   },
   {
    "duration": 6,
    "start_time": "2023-03-21T10:12:18.704Z"
   },
   {
    "duration": 50,
    "start_time": "2023-03-21T10:12:18.712Z"
   },
   {
    "duration": 633,
    "start_time": "2023-03-21T10:12:18.764Z"
   },
   {
    "duration": 12,
    "start_time": "2023-03-21T10:12:19.398Z"
   },
   {
    "duration": 745,
    "start_time": "2023-03-21T10:12:19.411Z"
   },
   {
    "duration": 692,
    "start_time": "2023-03-21T10:12:20.158Z"
   },
   {
    "duration": 714,
    "start_time": "2023-03-21T10:12:20.853Z"
   },
   {
    "duration": 796,
    "start_time": "2023-03-21T10:12:21.574Z"
   },
   {
    "duration": 781,
    "start_time": "2023-03-21T10:12:22.376Z"
   },
   {
    "duration": 679,
    "start_time": "2023-03-21T10:12:23.161Z"
   },
   {
    "duration": 745,
    "start_time": "2023-03-21T10:12:23.842Z"
   },
   {
    "duration": 760,
    "start_time": "2023-03-21T10:12:24.589Z"
   },
   {
    "duration": 704,
    "start_time": "2023-03-21T10:12:25.351Z"
   },
   {
    "duration": 822,
    "start_time": "2023-03-21T10:12:26.059Z"
   },
   {
    "duration": 788,
    "start_time": "2023-03-21T10:12:26.884Z"
   },
   {
    "duration": 790,
    "start_time": "2023-03-21T10:12:27.675Z"
   },
   {
    "duration": 24,
    "start_time": "2023-03-21T10:12:56.186Z"
   },
   {
    "duration": 8,
    "start_time": "2023-03-21T10:13:20.182Z"
   },
   {
    "duration": 36,
    "start_time": "2023-03-21T10:15:57.118Z"
   },
   {
    "duration": 35,
    "start_time": "2023-03-21T10:17:20.215Z"
   },
   {
    "duration": 22,
    "start_time": "2023-03-21T10:18:05.699Z"
   },
   {
    "duration": 11,
    "start_time": "2023-03-21T10:18:18.385Z"
   },
   {
    "duration": 1661,
    "start_time": "2023-03-21T10:18:22.738Z"
   },
   {
    "duration": 877,
    "start_time": "2023-03-21T10:18:24.402Z"
   },
   {
    "duration": 4,
    "start_time": "2023-03-21T10:18:25.281Z"
   },
   {
    "duration": 28,
    "start_time": "2023-03-21T10:18:25.287Z"
   },
   {
    "duration": 23,
    "start_time": "2023-03-21T10:18:25.317Z"
   },
   {
    "duration": 29,
    "start_time": "2023-03-21T10:18:25.361Z"
   },
   {
    "duration": 18,
    "start_time": "2023-03-21T10:18:25.392Z"
   },
   {
    "duration": 92,
    "start_time": "2023-03-21T10:18:25.411Z"
   },
   {
    "duration": 29,
    "start_time": "2023-03-21T10:18:25.505Z"
   },
   {
    "duration": 52,
    "start_time": "2023-03-21T10:18:25.537Z"
   },
   {
    "duration": 9,
    "start_time": "2023-03-21T10:18:25.591Z"
   },
   {
    "duration": 11,
    "start_time": "2023-03-21T10:18:25.602Z"
   },
   {
    "duration": 13,
    "start_time": "2023-03-21T10:18:25.615Z"
   },
   {
    "duration": 7,
    "start_time": "2023-03-21T10:18:25.630Z"
   },
   {
    "duration": 12,
    "start_time": "2023-03-21T10:18:25.639Z"
   },
   {
    "duration": 11,
    "start_time": "2023-03-21T10:18:25.653Z"
   },
   {
    "duration": 4,
    "start_time": "2023-03-21T10:18:25.666Z"
   },
   {
    "duration": 16,
    "start_time": "2023-03-21T10:18:25.672Z"
   },
   {
    "duration": 5,
    "start_time": "2023-03-21T10:18:25.690Z"
   },
   {
    "duration": 25,
    "start_time": "2023-03-21T10:18:25.696Z"
   },
   {
    "duration": 8,
    "start_time": "2023-03-21T10:18:25.723Z"
   },
   {
    "duration": 42,
    "start_time": "2023-03-21T10:18:25.732Z"
   },
   {
    "duration": 7,
    "start_time": "2023-03-21T10:18:25.778Z"
   },
   {
    "duration": 13,
    "start_time": "2023-03-21T10:18:25.787Z"
   },
   {
    "duration": 10,
    "start_time": "2023-03-21T10:18:25.802Z"
   },
   {
    "duration": 5,
    "start_time": "2023-03-21T10:18:25.815Z"
   },
   {
    "duration": 6,
    "start_time": "2023-03-21T10:18:25.822Z"
   },
   {
    "duration": 31,
    "start_time": "2023-03-21T10:18:25.832Z"
   },
   {
    "duration": 7,
    "start_time": "2023-03-21T10:18:25.864Z"
   },
   {
    "duration": 384,
    "start_time": "2023-03-21T10:18:25.872Z"
   },
   {
    "duration": 14,
    "start_time": "2023-03-21T10:18:26.258Z"
   },
   {
    "duration": 36,
    "start_time": "2023-03-21T10:18:26.275Z"
   },
   {
    "duration": 50,
    "start_time": "2023-03-21T10:18:26.313Z"
   },
   {
    "duration": 705,
    "start_time": "2023-03-21T10:18:26.365Z"
   },
   {
    "duration": 699,
    "start_time": "2023-03-21T10:18:27.072Z"
   },
   {
    "duration": 783,
    "start_time": "2023-03-21T10:18:27.773Z"
   },
   {
    "duration": 803,
    "start_time": "2023-03-21T10:18:28.561Z"
   },
   {
    "duration": 787,
    "start_time": "2023-03-21T10:18:29.366Z"
   },
   {
    "duration": 816,
    "start_time": "2023-03-21T10:18:30.161Z"
   },
   {
    "duration": 676,
    "start_time": "2023-03-21T10:18:30.979Z"
   },
   {
    "duration": 702,
    "start_time": "2023-03-21T10:18:31.657Z"
   },
   {
    "duration": 776,
    "start_time": "2023-03-21T10:18:32.361Z"
   },
   {
    "duration": 710,
    "start_time": "2023-03-21T10:18:33.139Z"
   },
   {
    "duration": 729,
    "start_time": "2023-03-21T10:18:33.852Z"
   },
   {
    "duration": 817,
    "start_time": "2023-03-21T10:18:34.583Z"
   },
   {
    "duration": 1431,
    "start_time": "2023-03-21T10:18:56.358Z"
   },
   {
    "duration": 1403,
    "start_time": "2023-03-21T10:19:19.147Z"
   },
   {
    "duration": 1466,
    "start_time": "2023-03-21T10:19:41.583Z"
   },
   {
    "duration": 4,
    "start_time": "2023-03-21T10:20:56.414Z"
   },
   {
    "duration": 4,
    "start_time": "2023-03-21T10:21:00.920Z"
   },
   {
    "duration": 673,
    "start_time": "2023-03-21T10:21:04.282Z"
   },
   {
    "duration": 28,
    "start_time": "2023-03-21T10:21:22.983Z"
   },
   {
    "duration": 10,
    "start_time": "2023-03-21T10:21:37.251Z"
   },
   {
    "duration": 1370,
    "start_time": "2023-03-21T10:22:21.475Z"
   },
   {
    "duration": 5,
    "start_time": "2023-03-21T10:23:26.839Z"
   },
   {
    "duration": 23,
    "start_time": "2023-03-21T10:24:18.814Z"
   },
   {
    "duration": 27,
    "start_time": "2023-03-21T10:25:15.817Z"
   },
   {
    "duration": 8,
    "start_time": "2023-03-21T10:26:00.043Z"
   },
   {
    "duration": 15,
    "start_time": "2023-03-21T10:26:17.436Z"
   },
   {
    "duration": 23,
    "start_time": "2023-03-21T10:27:19.220Z"
   },
   {
    "duration": 6,
    "start_time": "2023-03-21T10:27:54.416Z"
   },
   {
    "duration": 6,
    "start_time": "2023-03-21T10:27:55.820Z"
   },
   {
    "duration": 6,
    "start_time": "2023-03-21T10:27:56.451Z"
   },
   {
    "duration": 7,
    "start_time": "2023-03-21T10:27:56.820Z"
   },
   {
    "duration": 6,
    "start_time": "2023-03-21T10:27:57.149Z"
   },
   {
    "duration": 376,
    "start_time": "2023-03-21T10:27:57.680Z"
   },
   {
    "duration": 23,
    "start_time": "2023-03-21T10:28:00.723Z"
   },
   {
    "duration": 10,
    "start_time": "2023-03-21T10:28:01.576Z"
   },
   {
    "duration": 5,
    "start_time": "2023-03-21T10:29:08.436Z"
   },
   {
    "duration": 987,
    "start_time": "2023-03-21T10:29:09.416Z"
   },
   {
    "duration": 4,
    "start_time": "2023-03-21T10:29:10.406Z"
   },
   {
    "duration": 28,
    "start_time": "2023-03-21T10:29:10.413Z"
   },
   {
    "duration": 43,
    "start_time": "2023-03-21T10:29:10.443Z"
   },
   {
    "duration": 25,
    "start_time": "2023-03-21T10:29:10.491Z"
   },
   {
    "duration": 19,
    "start_time": "2023-03-21T10:29:10.715Z"
   },
   {
    "duration": 16,
    "start_time": "2023-03-21T10:29:10.852Z"
   },
   {
    "duration": 21,
    "start_time": "2023-03-21T10:29:11.012Z"
   },
   {
    "duration": 8,
    "start_time": "2023-03-21T10:29:11.317Z"
   },
   {
    "duration": 5,
    "start_time": "2023-03-21T10:29:11.492Z"
   },
   {
    "duration": 11,
    "start_time": "2023-03-21T10:29:11.635Z"
   },
   {
    "duration": 9,
    "start_time": "2023-03-21T10:29:11.994Z"
   },
   {
    "duration": 8,
    "start_time": "2023-03-21T10:29:12.121Z"
   },
   {
    "duration": 11,
    "start_time": "2023-03-21T10:29:12.314Z"
   },
   {
    "duration": 8,
    "start_time": "2023-03-21T10:29:12.625Z"
   },
   {
    "duration": 4,
    "start_time": "2023-03-21T10:29:12.790Z"
   },
   {
    "duration": 23,
    "start_time": "2023-03-21T10:29:12.947Z"
   },
   {
    "duration": 3,
    "start_time": "2023-03-21T10:29:13.438Z"
   },
   {
    "duration": 8,
    "start_time": "2023-03-21T10:29:13.785Z"
   },
   {
    "duration": 10,
    "start_time": "2023-03-21T10:29:14.118Z"
   },
   {
    "duration": 18,
    "start_time": "2023-03-21T10:29:14.620Z"
   },
   {
    "duration": 6,
    "start_time": "2023-03-21T10:29:15.116Z"
   },
   {
    "duration": 4,
    "start_time": "2023-03-21T10:29:15.294Z"
   },
   {
    "duration": 7,
    "start_time": "2023-03-21T10:29:15.813Z"
   },
   {
    "duration": 3,
    "start_time": "2023-03-21T10:29:15.982Z"
   },
   {
    "duration": 6,
    "start_time": "2023-03-21T10:29:16.719Z"
   },
   {
    "duration": 7,
    "start_time": "2023-03-21T10:29:17.336Z"
   },
   {
    "duration": 8,
    "start_time": "2023-03-21T10:29:17.714Z"
   },
   {
    "duration": 7,
    "start_time": "2023-03-21T10:29:19.236Z"
   },
   {
    "duration": 423,
    "start_time": "2023-03-21T10:29:20.321Z"
   },
   {
    "duration": 10,
    "start_time": "2023-03-21T10:29:22.708Z"
   },
   {
    "duration": 27,
    "start_time": "2023-03-21T10:30:48.588Z"
   },
   {
    "duration": 10,
    "start_time": "2023-03-21T10:31:43.520Z"
   },
   {
    "duration": 1715,
    "start_time": "2023-03-21T10:31:51.745Z"
   },
   {
    "duration": 1021,
    "start_time": "2023-03-21T10:31:53.463Z"
   },
   {
    "duration": 4,
    "start_time": "2023-03-21T10:31:54.486Z"
   },
   {
    "duration": 39,
    "start_time": "2023-03-21T10:31:54.492Z"
   },
   {
    "duration": 29,
    "start_time": "2023-03-21T10:31:54.534Z"
   },
   {
    "duration": 36,
    "start_time": "2023-03-21T10:31:54.566Z"
   },
   {
    "duration": 19,
    "start_time": "2023-03-21T10:31:54.605Z"
   },
   {
    "duration": 48,
    "start_time": "2023-03-21T10:31:54.627Z"
   },
   {
    "duration": 25,
    "start_time": "2023-03-21T10:31:54.677Z"
   },
   {
    "duration": 8,
    "start_time": "2023-03-21T10:31:54.705Z"
   },
   {
    "duration": 8,
    "start_time": "2023-03-21T10:31:54.714Z"
   },
   {
    "duration": 8,
    "start_time": "2023-03-21T10:31:54.724Z"
   },
   {
    "duration": 32,
    "start_time": "2023-03-21T10:31:54.734Z"
   },
   {
    "duration": 20,
    "start_time": "2023-03-21T10:31:54.768Z"
   },
   {
    "duration": 12,
    "start_time": "2023-03-21T10:31:54.790Z"
   },
   {
    "duration": 10,
    "start_time": "2023-03-21T10:31:54.803Z"
   },
   {
    "duration": 4,
    "start_time": "2023-03-21T10:31:54.815Z"
   },
   {
    "duration": 44,
    "start_time": "2023-03-21T10:31:54.820Z"
   },
   {
    "duration": 4,
    "start_time": "2023-03-21T10:31:54.866Z"
   },
   {
    "duration": 11,
    "start_time": "2023-03-21T10:31:54.872Z"
   },
   {
    "duration": 13,
    "start_time": "2023-03-21T10:31:54.886Z"
   },
   {
    "duration": 17,
    "start_time": "2023-03-21T10:31:54.901Z"
   },
   {
    "duration": 5,
    "start_time": "2023-03-21T10:31:54.920Z"
   },
   {
    "duration": 36,
    "start_time": "2023-03-21T10:31:54.927Z"
   },
   {
    "duration": 9,
    "start_time": "2023-03-21T10:31:54.965Z"
   },
   {
    "duration": 6,
    "start_time": "2023-03-21T10:31:54.976Z"
   },
   {
    "duration": 13,
    "start_time": "2023-03-21T10:31:54.983Z"
   },
   {
    "duration": 8,
    "start_time": "2023-03-21T10:31:55.000Z"
   },
   {
    "duration": 11,
    "start_time": "2023-03-21T10:31:55.010Z"
   },
   {
    "duration": 9,
    "start_time": "2023-03-21T10:31:55.023Z"
   },
   {
    "duration": 457,
    "start_time": "2023-03-21T10:31:55.034Z"
   },
   {
    "duration": 15,
    "start_time": "2023-03-21T10:31:55.495Z"
   },
   {
    "duration": 31,
    "start_time": "2023-03-21T10:31:55.511Z"
   },
   {
    "duration": 41,
    "start_time": "2023-03-21T10:31:55.543Z"
   },
   {
    "duration": 640,
    "start_time": "2023-03-21T10:31:55.589Z"
   },
   {
    "duration": 650,
    "start_time": "2023-03-21T10:31:56.231Z"
   },
   {
    "duration": 618,
    "start_time": "2023-03-21T10:31:56.884Z"
   },
   {
    "duration": 813,
    "start_time": "2023-03-21T10:31:57.504Z"
   },
   {
    "duration": 738,
    "start_time": "2023-03-21T10:31:58.319Z"
   },
   {
    "duration": 681,
    "start_time": "2023-03-21T10:31:59.058Z"
   },
   {
    "duration": 720,
    "start_time": "2023-03-21T10:31:59.741Z"
   },
   {
    "duration": 694,
    "start_time": "2023-03-21T10:32:00.463Z"
   },
   {
    "duration": 796,
    "start_time": "2023-03-21T10:32:01.170Z"
   },
   {
    "duration": 691,
    "start_time": "2023-03-21T10:32:01.968Z"
   },
   {
    "duration": 683,
    "start_time": "2023-03-21T10:32:02.661Z"
   },
   {
    "duration": 625,
    "start_time": "2023-03-21T10:32:03.346Z"
   },
   {
    "duration": 1704,
    "start_time": "2023-03-21T10:32:26.491Z"
   },
   {
    "duration": 909,
    "start_time": "2023-03-21T10:32:28.197Z"
   },
   {
    "duration": 3,
    "start_time": "2023-03-21T10:32:29.108Z"
   },
   {
    "duration": 32,
    "start_time": "2023-03-21T10:32:29.112Z"
   },
   {
    "duration": 34,
    "start_time": "2023-03-21T10:32:29.147Z"
   },
   {
    "duration": 29,
    "start_time": "2023-03-21T10:32:29.183Z"
   },
   {
    "duration": 49,
    "start_time": "2023-03-21T10:32:29.214Z"
   },
   {
    "duration": 21,
    "start_time": "2023-03-21T10:32:29.266Z"
   },
   {
    "duration": 20,
    "start_time": "2023-03-21T10:32:29.289Z"
   },
   {
    "duration": 7,
    "start_time": "2023-03-21T10:32:29.311Z"
   },
   {
    "duration": 9,
    "start_time": "2023-03-21T10:32:29.320Z"
   },
   {
    "duration": 52,
    "start_time": "2023-03-21T10:32:29.331Z"
   },
   {
    "duration": 11,
    "start_time": "2023-03-21T10:32:29.385Z"
   },
   {
    "duration": 7,
    "start_time": "2023-03-21T10:32:29.399Z"
   },
   {
    "duration": 10,
    "start_time": "2023-03-21T10:32:29.408Z"
   },
   {
    "duration": 10,
    "start_time": "2023-03-21T10:32:29.420Z"
   },
   {
    "duration": 4,
    "start_time": "2023-03-21T10:32:29.432Z"
   },
   {
    "duration": 35,
    "start_time": "2023-03-21T10:32:29.438Z"
   },
   {
    "duration": 4,
    "start_time": "2023-03-21T10:32:29.475Z"
   },
   {
    "duration": 9,
    "start_time": "2023-03-21T10:32:29.482Z"
   },
   {
    "duration": 8,
    "start_time": "2023-03-21T10:32:29.493Z"
   },
   {
    "duration": 23,
    "start_time": "2023-03-21T10:32:29.503Z"
   },
   {
    "duration": 5,
    "start_time": "2023-03-21T10:32:29.528Z"
   },
   {
    "duration": 18,
    "start_time": "2023-03-21T10:32:29.561Z"
   },
   {
    "duration": 10,
    "start_time": "2023-03-21T10:32:29.586Z"
   },
   {
    "duration": 7,
    "start_time": "2023-03-21T10:32:29.597Z"
   },
   {
    "duration": 7,
    "start_time": "2023-03-21T10:32:29.606Z"
   },
   {
    "duration": 10,
    "start_time": "2023-03-21T10:32:29.614Z"
   },
   {
    "duration": 7,
    "start_time": "2023-03-21T10:32:29.625Z"
   },
   {
    "duration": 441,
    "start_time": "2023-03-21T10:32:29.633Z"
   },
   {
    "duration": 20,
    "start_time": "2023-03-21T10:32:30.078Z"
   },
   {
    "duration": 44,
    "start_time": "2023-03-21T10:32:30.100Z"
   },
   {
    "duration": 37,
    "start_time": "2023-03-21T10:32:30.146Z"
   },
   {
    "duration": 690,
    "start_time": "2023-03-21T10:32:30.186Z"
   },
   {
    "duration": 713,
    "start_time": "2023-03-21T10:32:30.883Z"
   },
   {
    "duration": 672,
    "start_time": "2023-03-21T10:32:31.597Z"
   },
   {
    "duration": 756,
    "start_time": "2023-03-21T10:32:32.271Z"
   },
   {
    "duration": 733,
    "start_time": "2023-03-21T10:32:33.029Z"
   },
   {
    "duration": 758,
    "start_time": "2023-03-21T10:32:33.764Z"
   },
   {
    "duration": 771,
    "start_time": "2023-03-21T10:32:34.523Z"
   },
   {
    "duration": 776,
    "start_time": "2023-03-21T10:32:35.298Z"
   },
   {
    "duration": 700,
    "start_time": "2023-03-21T10:32:36.076Z"
   },
   {
    "duration": 822,
    "start_time": "2023-03-21T10:32:36.778Z"
   },
   {
    "duration": 646,
    "start_time": "2023-03-21T10:32:37.602Z"
   },
   {
    "duration": 702,
    "start_time": "2023-03-21T10:32:38.250Z"
   },
   {
    "duration": 29,
    "start_time": "2023-03-21T10:32:48.281Z"
   },
   {
    "duration": 1909,
    "start_time": "2023-03-21T10:33:31.317Z"
   },
   {
    "duration": 20,
    "start_time": "2023-03-21T10:34:44.989Z"
   },
   {
    "duration": 25,
    "start_time": "2023-03-21T10:34:46.426Z"
   },
   {
    "duration": 13,
    "start_time": "2023-03-21T10:34:47.236Z"
   },
   {
    "duration": 506,
    "start_time": "2023-03-21T10:34:47.943Z"
   },
   {
    "duration": 12,
    "start_time": "2023-03-21T10:36:09.495Z"
   },
   {
    "duration": 11,
    "start_time": "2023-03-21T10:36:10.554Z"
   },
   {
    "duration": 11,
    "start_time": "2023-03-21T10:36:10.695Z"
   },
   {
    "duration": 844,
    "start_time": "2023-03-21T10:36:11.212Z"
   },
   {
    "duration": 648,
    "start_time": "2023-03-21T10:37:18.924Z"
   },
   {
    "duration": 671,
    "start_time": "2023-03-21T10:38:24.813Z"
   },
   {
    "duration": 7,
    "start_time": "2023-03-21T10:40:31.108Z"
   },
   {
    "duration": 1606,
    "start_time": "2023-03-21T10:40:35.427Z"
   },
   {
    "duration": 900,
    "start_time": "2023-03-21T10:40:37.036Z"
   },
   {
    "duration": 3,
    "start_time": "2023-03-21T10:40:37.938Z"
   },
   {
    "duration": 39,
    "start_time": "2023-03-21T10:40:37.943Z"
   },
   {
    "duration": 24,
    "start_time": "2023-03-21T10:40:37.985Z"
   },
   {
    "duration": 23,
    "start_time": "2023-03-21T10:40:38.011Z"
   },
   {
    "duration": 43,
    "start_time": "2023-03-21T10:40:38.036Z"
   },
   {
    "duration": 16,
    "start_time": "2023-03-21T10:40:38.082Z"
   },
   {
    "duration": 22,
    "start_time": "2023-03-21T10:40:38.099Z"
   },
   {
    "duration": 7,
    "start_time": "2023-03-21T10:40:38.123Z"
   },
   {
    "duration": 7,
    "start_time": "2023-03-21T10:40:38.161Z"
   },
   {
    "duration": 12,
    "start_time": "2023-03-21T10:40:38.170Z"
   },
   {
    "duration": 10,
    "start_time": "2023-03-21T10:40:38.184Z"
   },
   {
    "duration": 12,
    "start_time": "2023-03-21T10:40:38.197Z"
   },
   {
    "duration": 11,
    "start_time": "2023-03-21T10:40:38.212Z"
   },
   {
    "duration": 49,
    "start_time": "2023-03-21T10:40:38.225Z"
   },
   {
    "duration": 5,
    "start_time": "2023-03-21T10:40:38.276Z"
   },
   {
    "duration": 16,
    "start_time": "2023-03-21T10:40:38.283Z"
   },
   {
    "duration": 4,
    "start_time": "2023-03-21T10:40:38.301Z"
   },
   {
    "duration": 9,
    "start_time": "2023-03-21T10:40:38.307Z"
   },
   {
    "duration": 9,
    "start_time": "2023-03-21T10:40:38.318Z"
   },
   {
    "duration": 49,
    "start_time": "2023-03-21T10:40:38.329Z"
   },
   {
    "duration": 12,
    "start_time": "2023-03-21T10:40:38.380Z"
   },
   {
    "duration": 9,
    "start_time": "2023-03-21T10:40:38.395Z"
   },
   {
    "duration": 8,
    "start_time": "2023-03-21T10:40:38.406Z"
   },
   {
    "duration": 6,
    "start_time": "2023-03-21T10:40:38.416Z"
   },
   {
    "duration": 11,
    "start_time": "2023-03-21T10:40:38.424Z"
   },
   {
    "duration": 10,
    "start_time": "2023-03-21T10:40:38.463Z"
   },
   {
    "duration": 9,
    "start_time": "2023-03-21T10:40:38.475Z"
   },
   {
    "duration": 462,
    "start_time": "2023-03-21T10:40:38.486Z"
   },
   {
    "duration": 36,
    "start_time": "2023-03-21T10:40:38.950Z"
   },
   {
    "duration": 35,
    "start_time": "2023-03-21T10:40:38.989Z"
   },
   {
    "duration": 35,
    "start_time": "2023-03-21T10:40:39.026Z"
   },
   {
    "duration": 714,
    "start_time": "2023-03-21T10:40:39.064Z"
   },
   {
    "duration": 655,
    "start_time": "2023-03-21T10:40:39.781Z"
   },
   {
    "duration": 755,
    "start_time": "2023-03-21T10:40:40.438Z"
   },
   {
    "duration": 118,
    "start_time": "2023-03-21T10:44:13.077Z"
   },
   {
    "duration": 33,
    "start_time": "2023-03-21T10:47:06.162Z"
   },
   {
    "duration": 26,
    "start_time": "2023-03-21T10:47:30.398Z"
   },
   {
    "duration": 1454,
    "start_time": "2023-03-21T10:48:19.213Z"
   },
   {
    "duration": 816,
    "start_time": "2023-03-21T10:48:20.669Z"
   },
   {
    "duration": 3,
    "start_time": "2023-03-21T10:48:21.487Z"
   },
   {
    "duration": 34,
    "start_time": "2023-03-21T10:48:21.492Z"
   },
   {
    "duration": 40,
    "start_time": "2023-03-21T10:48:21.529Z"
   },
   {
    "duration": 26,
    "start_time": "2023-03-21T10:48:21.571Z"
   },
   {
    "duration": 21,
    "start_time": "2023-03-21T10:48:21.599Z"
   },
   {
    "duration": 15,
    "start_time": "2023-03-21T10:48:21.622Z"
   },
   {
    "duration": 21,
    "start_time": "2023-03-21T10:48:21.662Z"
   },
   {
    "duration": 9,
    "start_time": "2023-03-21T10:48:21.686Z"
   },
   {
    "duration": 11,
    "start_time": "2023-03-21T10:48:21.697Z"
   },
   {
    "duration": 10,
    "start_time": "2023-03-21T10:48:21.709Z"
   },
   {
    "duration": 42,
    "start_time": "2023-03-21T10:48:21.721Z"
   },
   {
    "duration": 6,
    "start_time": "2023-03-21T10:48:21.766Z"
   },
   {
    "duration": 9,
    "start_time": "2023-03-21T10:48:21.775Z"
   },
   {
    "duration": 12,
    "start_time": "2023-03-21T10:48:21.786Z"
   },
   {
    "duration": 4,
    "start_time": "2023-03-21T10:48:21.799Z"
   },
   {
    "duration": 15,
    "start_time": "2023-03-21T10:48:21.805Z"
   },
   {
    "duration": 4,
    "start_time": "2023-03-21T10:48:21.821Z"
   },
   {
    "duration": 6,
    "start_time": "2023-03-21T10:48:21.863Z"
   },
   {
    "duration": 7,
    "start_time": "2023-03-21T10:48:21.871Z"
   },
   {
    "duration": 18,
    "start_time": "2023-03-21T10:48:21.880Z"
   },
   {
    "duration": 5,
    "start_time": "2023-03-21T10:48:21.899Z"
   },
   {
    "duration": 4,
    "start_time": "2023-03-21T10:48:21.906Z"
   },
   {
    "duration": 8,
    "start_time": "2023-03-21T10:48:21.912Z"
   },
   {
    "duration": 46,
    "start_time": "2023-03-21T10:48:21.922Z"
   },
   {
    "duration": 6,
    "start_time": "2023-03-21T10:48:21.970Z"
   },
   {
    "duration": 7,
    "start_time": "2023-03-21T10:48:21.978Z"
   },
   {
    "duration": 7,
    "start_time": "2023-03-21T10:48:21.987Z"
   },
   {
    "duration": 566,
    "start_time": "2023-03-21T10:48:21.996Z"
   },
   {
    "duration": 10,
    "start_time": "2023-03-21T10:48:22.564Z"
   },
   {
    "duration": 23,
    "start_time": "2023-03-21T10:48:22.576Z"
   },
   {
    "duration": 20,
    "start_time": "2023-03-21T10:48:22.601Z"
   },
   {
    "duration": 456,
    "start_time": "2023-03-21T10:48:22.623Z"
   },
   {
    "duration": 406,
    "start_time": "2023-03-21T10:48:23.081Z"
   },
   {
    "duration": 481,
    "start_time": "2023-03-21T10:48:23.489Z"
   },
   {
    "duration": 22,
    "start_time": "2023-03-21T10:48:23.973Z"
   },
   {
    "duration": 477,
    "start_time": "2023-03-21T10:48:41.273Z"
   },
   {
    "duration": 435,
    "start_time": "2023-03-21T10:49:01.121Z"
   },
   {
    "duration": 10,
    "start_time": "2023-03-21T10:50:19.624Z"
   },
   {
    "duration": 397,
    "start_time": "2023-03-21T10:50:20.160Z"
   },
   {
    "duration": 452,
    "start_time": "2023-03-21T10:51:51.231Z"
   },
   {
    "duration": 476,
    "start_time": "2023-03-21T10:51:51.774Z"
   },
   {
    "duration": 11,
    "start_time": "2023-03-21T10:52:05.220Z"
   },
   {
    "duration": 419,
    "start_time": "2023-03-21T10:52:05.548Z"
   },
   {
    "duration": 386,
    "start_time": "2023-03-21T10:52:05.975Z"
   },
   {
    "duration": 419,
    "start_time": "2023-03-21T10:52:06.421Z"
   },
   {
    "duration": 12,
    "start_time": "2023-03-21T10:53:22.791Z"
   },
   {
    "duration": 399,
    "start_time": "2023-03-21T10:53:23.011Z"
   },
   {
    "duration": 459,
    "start_time": "2023-03-21T10:53:23.412Z"
   },
   {
    "duration": 545,
    "start_time": "2023-03-21T10:53:23.873Z"
   },
   {
    "duration": 4,
    "start_time": "2023-03-21T10:55:49.158Z"
   },
   {
    "duration": 23,
    "start_time": "2023-03-21T11:23:40.335Z"
   },
   {
    "duration": 22,
    "start_time": "2023-03-21T11:23:48.417Z"
   },
   {
    "duration": 7,
    "start_time": "2023-03-21T11:25:14.681Z"
   },
   {
    "duration": 20,
    "start_time": "2023-03-21T11:30:53.395Z"
   },
   {
    "duration": 35,
    "start_time": "2023-03-21T11:31:02.582Z"
   },
   {
    "duration": 200,
    "start_time": "2023-03-21T11:32:03.029Z"
   },
   {
    "duration": 1728,
    "start_time": "2023-03-21T11:33:06.284Z"
   },
   {
    "duration": 2493,
    "start_time": "2023-03-21T11:33:08.015Z"
   },
   {
    "duration": 4,
    "start_time": "2023-03-21T11:33:10.510Z"
   },
   {
    "duration": 47,
    "start_time": "2023-03-21T11:33:10.516Z"
   },
   {
    "duration": 28,
    "start_time": "2023-03-21T11:33:10.567Z"
   },
   {
    "duration": 40,
    "start_time": "2023-03-21T11:33:10.597Z"
   },
   {
    "duration": 53,
    "start_time": "2023-03-21T11:33:10.639Z"
   },
   {
    "duration": 18,
    "start_time": "2023-03-21T11:33:10.694Z"
   },
   {
    "duration": 22,
    "start_time": "2023-03-21T11:33:10.714Z"
   },
   {
    "duration": 14,
    "start_time": "2023-03-21T11:33:10.762Z"
   },
   {
    "duration": 12,
    "start_time": "2023-03-21T11:33:10.780Z"
   },
   {
    "duration": 24,
    "start_time": "2023-03-21T11:33:10.794Z"
   },
   {
    "duration": 14,
    "start_time": "2023-03-21T11:33:10.820Z"
   },
   {
    "duration": 9,
    "start_time": "2023-03-21T11:33:10.838Z"
   },
   {
    "duration": 21,
    "start_time": "2023-03-21T11:33:10.863Z"
   },
   {
    "duration": 13,
    "start_time": "2023-03-21T11:33:10.887Z"
   },
   {
    "duration": 4,
    "start_time": "2023-03-21T11:33:10.902Z"
   },
   {
    "duration": 19,
    "start_time": "2023-03-21T11:33:10.907Z"
   },
   {
    "duration": 3,
    "start_time": "2023-03-21T11:33:10.928Z"
   },
   {
    "duration": 38,
    "start_time": "2023-03-21T11:33:10.933Z"
   },
   {
    "duration": 12,
    "start_time": "2023-03-21T11:33:10.974Z"
   },
   {
    "duration": 22,
    "start_time": "2023-03-21T11:33:10.989Z"
   },
   {
    "duration": 6,
    "start_time": "2023-03-21T11:33:11.013Z"
   },
   {
    "duration": 6,
    "start_time": "2023-03-21T11:33:11.021Z"
   },
   {
    "duration": 10,
    "start_time": "2023-03-21T11:33:11.064Z"
   },
   {
    "duration": 4,
    "start_time": "2023-03-21T11:33:11.076Z"
   },
   {
    "duration": 8,
    "start_time": "2023-03-21T11:33:11.082Z"
   },
   {
    "duration": 8,
    "start_time": "2023-03-21T11:33:11.092Z"
   },
   {
    "duration": 11,
    "start_time": "2023-03-21T11:33:11.102Z"
   },
   {
    "duration": 51,
    "start_time": "2023-03-21T11:33:11.115Z"
   },
   {
    "duration": 451,
    "start_time": "2023-03-21T11:33:11.179Z"
   },
   {
    "duration": 8,
    "start_time": "2023-03-21T11:33:11.633Z"
   },
   {
    "duration": 39,
    "start_time": "2023-03-21T11:33:11.643Z"
   },
   {
    "duration": 25,
    "start_time": "2023-03-21T11:33:11.684Z"
   },
   {
    "duration": 616,
    "start_time": "2023-03-21T11:33:11.711Z"
   },
   {
    "duration": 516,
    "start_time": "2023-03-21T11:33:12.329Z"
   },
   {
    "duration": 450,
    "start_time": "2023-03-21T11:33:12.846Z"
   },
   {
    "duration": 22,
    "start_time": "2023-03-21T11:33:13.298Z"
   },
   {
    "duration": 588,
    "start_time": "2023-03-21T11:33:13.323Z"
   },
   {
    "duration": 458,
    "start_time": "2023-03-21T11:33:13.917Z"
   },
   {
    "duration": 610,
    "start_time": "2023-03-21T11:33:14.381Z"
   },
   {
    "duration": 150,
    "start_time": "2023-03-21T11:33:14.994Z"
   },
   {
    "duration": 0,
    "start_time": "2023-03-21T11:33:15.145Z"
   },
   {
    "duration": 17,
    "start_time": "2023-03-21T11:33:56.237Z"
   },
   {
    "duration": 13,
    "start_time": "2023-03-21T11:34:03.492Z"
   },
   {
    "duration": 15,
    "start_time": "2023-03-21T11:34:44.506Z"
   },
   {
    "duration": 13,
    "start_time": "2023-03-21T11:35:32.297Z"
   },
   {
    "duration": 29,
    "start_time": "2023-03-21T11:36:10.510Z"
   },
   {
    "duration": 1785,
    "start_time": "2023-03-21T11:36:21.273Z"
   },
   {
    "duration": 915,
    "start_time": "2023-03-21T11:36:23.060Z"
   },
   {
    "duration": 4,
    "start_time": "2023-03-21T11:36:23.981Z"
   },
   {
    "duration": 41,
    "start_time": "2023-03-21T11:36:23.989Z"
   },
   {
    "duration": 62,
    "start_time": "2023-03-21T11:36:24.033Z"
   },
   {
    "duration": 38,
    "start_time": "2023-03-21T11:36:24.097Z"
   },
   {
    "duration": 44,
    "start_time": "2023-03-21T11:36:24.137Z"
   },
   {
    "duration": 20,
    "start_time": "2023-03-21T11:36:24.184Z"
   },
   {
    "duration": 54,
    "start_time": "2023-03-21T11:36:24.207Z"
   },
   {
    "duration": 12,
    "start_time": "2023-03-21T11:36:24.264Z"
   },
   {
    "duration": 9,
    "start_time": "2023-03-21T11:36:24.278Z"
   },
   {
    "duration": 12,
    "start_time": "2023-03-21T11:36:24.289Z"
   },
   {
    "duration": 13,
    "start_time": "2023-03-21T11:36:24.306Z"
   },
   {
    "duration": 51,
    "start_time": "2023-03-21T11:36:24.322Z"
   },
   {
    "duration": 14,
    "start_time": "2023-03-21T11:36:24.375Z"
   },
   {
    "duration": 15,
    "start_time": "2023-03-21T11:36:24.391Z"
   },
   {
    "duration": 5,
    "start_time": "2023-03-21T11:36:24.408Z"
   },
   {
    "duration": 46,
    "start_time": "2023-03-21T11:36:24.416Z"
   },
   {
    "duration": 4,
    "start_time": "2023-03-21T11:36:24.464Z"
   },
   {
    "duration": 16,
    "start_time": "2023-03-21T11:36:24.470Z"
   },
   {
    "duration": 7,
    "start_time": "2023-03-21T11:36:24.489Z"
   },
   {
    "duration": 20,
    "start_time": "2023-03-21T11:36:24.499Z"
   },
   {
    "duration": 7,
    "start_time": "2023-03-21T11:36:24.522Z"
   },
   {
    "duration": 25,
    "start_time": "2023-03-21T11:36:24.561Z"
   },
   {
    "duration": 11,
    "start_time": "2023-03-21T11:36:24.588Z"
   },
   {
    "duration": 4,
    "start_time": "2023-03-21T11:36:24.601Z"
   },
   {
    "duration": 16,
    "start_time": "2023-03-21T11:36:24.607Z"
   },
   {
    "duration": 13,
    "start_time": "2023-03-21T11:36:24.626Z"
   },
   {
    "duration": 24,
    "start_time": "2023-03-21T11:36:24.642Z"
   },
   {
    "duration": 9,
    "start_time": "2023-03-21T11:36:24.669Z"
   },
   {
    "duration": 513,
    "start_time": "2023-03-21T11:36:24.680Z"
   },
   {
    "duration": 9,
    "start_time": "2023-03-21T11:36:25.196Z"
   },
   {
    "duration": 25,
    "start_time": "2023-03-21T11:36:25.207Z"
   },
   {
    "duration": 54,
    "start_time": "2023-03-21T11:36:25.234Z"
   },
   {
    "duration": 495,
    "start_time": "2023-03-21T11:36:25.290Z"
   },
   {
    "duration": 470,
    "start_time": "2023-03-21T11:36:25.787Z"
   },
   {
    "duration": 431,
    "start_time": "2023-03-21T11:36:26.259Z"
   },
   {
    "duration": 29,
    "start_time": "2023-03-21T11:36:26.692Z"
   },
   {
    "duration": 665,
    "start_time": "2023-03-21T11:36:26.724Z"
   },
   {
    "duration": 486,
    "start_time": "2023-03-21T11:36:27.394Z"
   },
   {
    "duration": 519,
    "start_time": "2023-03-21T11:36:27.882Z"
   },
   {
    "duration": 10,
    "start_time": "2023-03-21T11:36:28.404Z"
   },
   {
    "duration": 6,
    "start_time": "2023-03-21T11:36:28.417Z"
   },
   {
    "duration": 37,
    "start_time": "2023-03-21T11:36:47.141Z"
   },
   {
    "duration": 4,
    "start_time": "2023-03-21T11:44:55.797Z"
   },
   {
    "duration": 7,
    "start_time": "2023-03-21T11:45:22.342Z"
   },
   {
    "duration": 29,
    "start_time": "2023-03-21T11:46:08.399Z"
   },
   {
    "duration": 1867,
    "start_time": "2023-03-21T11:55:10.700Z"
   },
   {
    "duration": 919,
    "start_time": "2023-03-21T11:55:12.570Z"
   },
   {
    "duration": 4,
    "start_time": "2023-03-21T11:55:13.491Z"
   },
   {
    "duration": 35,
    "start_time": "2023-03-21T11:55:13.497Z"
   },
   {
    "duration": 47,
    "start_time": "2023-03-21T11:55:13.533Z"
   },
   {
    "duration": 32,
    "start_time": "2023-03-21T11:55:13.582Z"
   },
   {
    "duration": 23,
    "start_time": "2023-03-21T11:55:13.616Z"
   },
   {
    "duration": 41,
    "start_time": "2023-03-21T11:55:13.641Z"
   },
   {
    "duration": 30,
    "start_time": "2023-03-21T11:55:13.685Z"
   },
   {
    "duration": 9,
    "start_time": "2023-03-21T11:55:13.720Z"
   },
   {
    "duration": 32,
    "start_time": "2023-03-21T11:55:13.731Z"
   },
   {
    "duration": 11,
    "start_time": "2023-03-21T11:55:13.765Z"
   },
   {
    "duration": 16,
    "start_time": "2023-03-21T11:55:13.778Z"
   },
   {
    "duration": 8,
    "start_time": "2023-03-21T11:55:13.796Z"
   },
   {
    "duration": 14,
    "start_time": "2023-03-21T11:55:13.807Z"
   },
   {
    "duration": 48,
    "start_time": "2023-03-21T11:55:13.824Z"
   },
   {
    "duration": 5,
    "start_time": "2023-03-21T11:55:13.874Z"
   },
   {
    "duration": 38,
    "start_time": "2023-03-21T11:55:13.881Z"
   },
   {
    "duration": 8,
    "start_time": "2023-03-21T11:55:13.921Z"
   },
   {
    "duration": 23,
    "start_time": "2023-03-21T11:55:13.932Z"
   },
   {
    "duration": 7,
    "start_time": "2023-03-21T11:55:13.957Z"
   },
   {
    "duration": 23,
    "start_time": "2023-03-21T11:55:13.966Z"
   },
   {
    "duration": 11,
    "start_time": "2023-03-21T11:55:13.994Z"
   },
   {
    "duration": 5,
    "start_time": "2023-03-21T11:55:14.007Z"
   },
   {
    "duration": 10,
    "start_time": "2023-03-21T11:55:14.014Z"
   },
   {
    "duration": 3,
    "start_time": "2023-03-21T11:55:14.026Z"
   },
   {
    "duration": 31,
    "start_time": "2023-03-21T11:55:14.031Z"
   },
   {
    "duration": 27,
    "start_time": "2023-03-21T11:55:14.068Z"
   },
   {
    "duration": 9,
    "start_time": "2023-03-21T11:55:14.097Z"
   },
   {
    "duration": 10,
    "start_time": "2023-03-21T11:55:14.108Z"
   },
   {
    "duration": 546,
    "start_time": "2023-03-21T11:55:14.121Z"
   },
   {
    "duration": 10,
    "start_time": "2023-03-21T11:55:14.669Z"
   },
   {
    "duration": 24,
    "start_time": "2023-03-21T11:55:14.681Z"
   },
   {
    "duration": 22,
    "start_time": "2023-03-21T11:55:14.707Z"
   },
   {
    "duration": 540,
    "start_time": "2023-03-21T11:55:14.731Z"
   },
   {
    "duration": 432,
    "start_time": "2023-03-21T11:55:15.273Z"
   },
   {
    "duration": 514,
    "start_time": "2023-03-21T11:55:15.707Z"
   },
   {
    "duration": 22,
    "start_time": "2023-03-21T11:55:16.224Z"
   },
   {
    "duration": 617,
    "start_time": "2023-03-21T11:55:16.261Z"
   },
   {
    "duration": 539,
    "start_time": "2023-03-21T11:55:16.880Z"
   },
   {
    "duration": 524,
    "start_time": "2023-03-21T11:55:17.421Z"
   },
   {
    "duration": 20,
    "start_time": "2023-03-21T11:55:17.948Z"
   },
   {
    "duration": 7,
    "start_time": "2023-03-21T11:55:17.973Z"
   },
   {
    "duration": 9,
    "start_time": "2023-03-21T11:55:17.983Z"
   },
   {
    "duration": 14,
    "start_time": "2023-03-21T11:55:17.993Z"
   },
   {
    "duration": 1471,
    "start_time": "2023-03-21T12:07:30.907Z"
   },
   {
    "duration": 69,
    "start_time": "2023-03-21T12:08:08.783Z"
   },
   {
    "duration": 8,
    "start_time": "2023-03-21T12:08:14.551Z"
   },
   {
    "duration": 11,
    "start_time": "2023-03-21T12:08:19.787Z"
   },
   {
    "duration": 33,
    "start_time": "2023-03-21T12:08:25.007Z"
   },
   {
    "duration": 14,
    "start_time": "2023-03-21T12:11:14.567Z"
   },
   {
    "duration": 6,
    "start_time": "2023-03-21T12:14:23.052Z"
   },
   {
    "duration": 52,
    "start_time": "2023-03-21T12:14:33.877Z"
   },
   {
    "duration": 1876,
    "start_time": "2023-03-21T12:14:37.886Z"
   },
   {
    "duration": 1284,
    "start_time": "2023-03-21T12:14:39.764Z"
   },
   {
    "duration": 6,
    "start_time": "2023-03-21T12:14:41.054Z"
   },
   {
    "duration": 70,
    "start_time": "2023-03-21T12:14:41.063Z"
   },
   {
    "duration": 37,
    "start_time": "2023-03-21T12:14:41.137Z"
   },
   {
    "duration": 47,
    "start_time": "2023-03-21T12:14:41.182Z"
   },
   {
    "duration": 25,
    "start_time": "2023-03-21T12:14:41.231Z"
   },
   {
    "duration": 31,
    "start_time": "2023-03-21T12:14:41.258Z"
   },
   {
    "duration": 36,
    "start_time": "2023-03-21T12:14:41.292Z"
   },
   {
    "duration": 13,
    "start_time": "2023-03-21T12:14:41.331Z"
   },
   {
    "duration": 15,
    "start_time": "2023-03-21T12:14:41.347Z"
   },
   {
    "duration": 16,
    "start_time": "2023-03-21T12:14:41.364Z"
   },
   {
    "duration": 16,
    "start_time": "2023-03-21T12:14:41.382Z"
   },
   {
    "duration": 9,
    "start_time": "2023-03-21T12:14:41.403Z"
   },
   {
    "duration": 30,
    "start_time": "2023-03-21T12:14:41.415Z"
   },
   {
    "duration": 19,
    "start_time": "2023-03-21T12:14:41.447Z"
   },
   {
    "duration": 5,
    "start_time": "2023-03-21T12:14:41.471Z"
   },
   {
    "duration": 27,
    "start_time": "2023-03-21T12:14:41.479Z"
   },
   {
    "duration": 5,
    "start_time": "2023-03-21T12:14:41.512Z"
   },
   {
    "duration": 17,
    "start_time": "2023-03-21T12:14:41.519Z"
   },
   {
    "duration": 10,
    "start_time": "2023-03-21T12:14:41.540Z"
   },
   {
    "duration": 21,
    "start_time": "2023-03-21T12:14:41.563Z"
   },
   {
    "duration": 9,
    "start_time": "2023-03-21T12:14:41.585Z"
   },
   {
    "duration": 7,
    "start_time": "2023-03-21T12:14:41.597Z"
   },
   {
    "duration": 10,
    "start_time": "2023-03-21T12:14:41.606Z"
   },
   {
    "duration": 6,
    "start_time": "2023-03-21T12:14:41.618Z"
   },
   {
    "duration": 37,
    "start_time": "2023-03-21T12:14:41.627Z"
   },
   {
    "duration": 9,
    "start_time": "2023-03-21T12:14:41.667Z"
   },
   {
    "duration": 10,
    "start_time": "2023-03-21T12:14:41.678Z"
   },
   {
    "duration": 14,
    "start_time": "2023-03-21T12:14:41.690Z"
   },
   {
    "duration": 635,
    "start_time": "2023-03-21T12:14:41.706Z"
   },
   {
    "duration": 10,
    "start_time": "2023-03-21T12:14:42.343Z"
   },
   {
    "duration": 29,
    "start_time": "2023-03-21T12:14:42.366Z"
   },
   {
    "duration": 53,
    "start_time": "2023-03-21T12:14:42.399Z"
   },
   {
    "duration": 633,
    "start_time": "2023-03-21T12:14:42.455Z"
   },
   {
    "duration": 561,
    "start_time": "2023-03-21T12:14:43.090Z"
   },
   {
    "duration": 605,
    "start_time": "2023-03-21T12:14:43.653Z"
   },
   {
    "duration": 26,
    "start_time": "2023-03-21T12:14:44.263Z"
   },
   {
    "duration": 656,
    "start_time": "2023-03-21T12:14:44.295Z"
   },
   {
    "duration": 572,
    "start_time": "2023-03-21T12:14:44.954Z"
   },
   {
    "duration": 528,
    "start_time": "2023-03-21T12:14:45.531Z"
   },
   {
    "duration": 18,
    "start_time": "2023-03-21T12:14:46.067Z"
   },
   {
    "duration": 6,
    "start_time": "2023-03-21T12:14:46.087Z"
   },
   {
    "duration": 14,
    "start_time": "2023-03-21T12:14:46.095Z"
   },
   {
    "duration": 20,
    "start_time": "2023-03-21T12:14:46.111Z"
   },
   {
    "duration": 11,
    "start_time": "2023-03-21T12:14:46.133Z"
   },
   {
    "duration": 175,
    "start_time": "2023-03-21T12:20:24.060Z"
   },
   {
    "duration": 12,
    "start_time": "2023-03-21T12:20:29.567Z"
   },
   {
    "duration": 20,
    "start_time": "2023-03-21T12:22:17.756Z"
   },
   {
    "duration": 271,
    "start_time": "2023-03-21T12:23:18.317Z"
   },
   {
    "duration": 346,
    "start_time": "2023-03-21T12:23:48.630Z"
   },
   {
    "duration": 280,
    "start_time": "2023-03-21T12:24:33.783Z"
   },
   {
    "duration": 385,
    "start_time": "2023-03-21T12:24:38.890Z"
   },
   {
    "duration": 404,
    "start_time": "2023-03-21T13:54:17.904Z"
   },
   {
    "duration": 974,
    "start_time": "2023-03-21T13:57:26.396Z"
   },
   {
    "duration": 602,
    "start_time": "2023-03-21T13:58:39.962Z"
   },
   {
    "duration": 1670,
    "start_time": "2023-03-21T15:15:37.184Z"
   },
   {
    "duration": 2650,
    "start_time": "2023-03-21T15:15:38.857Z"
   },
   {
    "duration": 29,
    "start_time": "2023-03-21T15:15:41.509Z"
   },
   {
    "duration": 32,
    "start_time": "2023-03-21T15:15:41.540Z"
   },
   {
    "duration": 26,
    "start_time": "2023-03-21T15:15:41.574Z"
   },
   {
    "duration": 21,
    "start_time": "2023-03-21T15:15:41.601Z"
   },
   {
    "duration": 14,
    "start_time": "2023-03-21T15:15:41.624Z"
   },
   {
    "duration": 51,
    "start_time": "2023-03-21T15:15:41.640Z"
   },
   {
    "duration": 10,
    "start_time": "2023-03-21T15:15:41.693Z"
   },
   {
    "duration": 8,
    "start_time": "2023-03-21T15:15:41.706Z"
   },
   {
    "duration": 9,
    "start_time": "2023-03-21T15:15:41.715Z"
   },
   {
    "duration": 40,
    "start_time": "2023-03-21T15:15:41.726Z"
   },
   {
    "duration": 10,
    "start_time": "2023-03-21T15:15:41.775Z"
   },
   {
    "duration": 10,
    "start_time": "2023-03-21T15:15:41.787Z"
   },
   {
    "duration": 11,
    "start_time": "2023-03-21T15:15:41.799Z"
   },
   {
    "duration": 5,
    "start_time": "2023-03-21T15:15:41.812Z"
   },
   {
    "duration": 17,
    "start_time": "2023-03-21T15:15:41.819Z"
   },
   {
    "duration": 25,
    "start_time": "2023-03-21T15:15:41.839Z"
   },
   {
    "duration": 14,
    "start_time": "2023-03-21T15:15:41.869Z"
   },
   {
    "duration": 8,
    "start_time": "2023-03-21T15:15:41.884Z"
   },
   {
    "duration": 22,
    "start_time": "2023-03-21T15:15:41.894Z"
   },
   {
    "duration": 6,
    "start_time": "2023-03-21T15:15:41.918Z"
   },
   {
    "duration": 39,
    "start_time": "2023-03-21T15:15:41.926Z"
   },
   {
    "duration": 15,
    "start_time": "2023-03-21T15:15:41.968Z"
   },
   {
    "duration": 4,
    "start_time": "2023-03-21T15:15:41.985Z"
   },
   {
    "duration": 8,
    "start_time": "2023-03-21T15:15:41.991Z"
   },
   {
    "duration": 7,
    "start_time": "2023-03-21T15:15:42.001Z"
   },
   {
    "duration": 8,
    "start_time": "2023-03-21T15:15:42.014Z"
   },
   {
    "duration": 7,
    "start_time": "2023-03-21T15:15:42.024Z"
   },
   {
    "duration": 425,
    "start_time": "2023-03-21T15:15:42.064Z"
   },
   {
    "duration": 9,
    "start_time": "2023-03-21T15:15:42.491Z"
   },
   {
    "duration": 19,
    "start_time": "2023-03-21T15:15:42.502Z"
   },
   {
    "duration": 49,
    "start_time": "2023-03-21T15:15:42.522Z"
   },
   {
    "duration": 483,
    "start_time": "2023-03-21T15:15:42.576Z"
   },
   {
    "duration": 397,
    "start_time": "2023-03-21T15:15:43.064Z"
   },
   {
    "duration": 487,
    "start_time": "2023-03-21T15:15:43.463Z"
   },
   {
    "duration": 25,
    "start_time": "2023-03-21T15:15:43.952Z"
   },
   {
    "duration": 529,
    "start_time": "2023-03-21T15:15:43.979Z"
   },
   {
    "duration": 442,
    "start_time": "2023-03-21T15:15:44.510Z"
   },
   {
    "duration": 424,
    "start_time": "2023-03-21T15:15:44.954Z"
   },
   {
    "duration": 9,
    "start_time": "2023-03-21T15:15:45.381Z"
   },
   {
    "duration": 7,
    "start_time": "2023-03-21T15:15:45.392Z"
   },
   {
    "duration": 6,
    "start_time": "2023-03-21T15:15:45.401Z"
   },
   {
    "duration": 13,
    "start_time": "2023-03-21T15:15:45.409Z"
   },
   {
    "duration": 10,
    "start_time": "2023-03-21T15:15:45.424Z"
   },
   {
    "duration": 34,
    "start_time": "2023-03-21T15:15:45.436Z"
   },
   {
    "duration": 10,
    "start_time": "2023-03-21T15:15:45.471Z"
   },
   {
    "duration": 1990,
    "start_time": "2023-03-21T15:15:45.484Z"
   },
   {
    "duration": 176,
    "start_time": "2023-03-21T15:16:42.408Z"
   },
   {
    "duration": 1639,
    "start_time": "2023-03-21T15:17:28.784Z"
   },
   {
    "duration": 963,
    "start_time": "2023-03-21T15:17:30.426Z"
   },
   {
    "duration": 30,
    "start_time": "2023-03-21T15:17:31.391Z"
   },
   {
    "duration": 48,
    "start_time": "2023-03-21T15:17:31.423Z"
   },
   {
    "duration": 39,
    "start_time": "2023-03-21T15:17:31.483Z"
   },
   {
    "duration": 31,
    "start_time": "2023-03-21T15:17:31.525Z"
   },
   {
    "duration": 32,
    "start_time": "2023-03-21T15:17:31.558Z"
   },
   {
    "duration": 21,
    "start_time": "2023-03-21T15:17:31.592Z"
   },
   {
    "duration": 11,
    "start_time": "2023-03-21T15:17:31.616Z"
   },
   {
    "duration": 21,
    "start_time": "2023-03-21T15:17:31.630Z"
   },
   {
    "duration": 29,
    "start_time": "2023-03-21T15:17:31.653Z"
   },
   {
    "duration": 23,
    "start_time": "2023-03-21T15:17:31.685Z"
   },
   {
    "duration": 31,
    "start_time": "2023-03-21T15:17:31.710Z"
   },
   {
    "duration": 33,
    "start_time": "2023-03-21T15:17:31.744Z"
   },
   {
    "duration": 22,
    "start_time": "2023-03-21T15:17:31.779Z"
   },
   {
    "duration": 36,
    "start_time": "2023-03-21T15:17:31.804Z"
   },
   {
    "duration": 26,
    "start_time": "2023-03-21T15:17:31.842Z"
   },
   {
    "duration": 5,
    "start_time": "2023-03-21T15:17:31.877Z"
   },
   {
    "duration": 46,
    "start_time": "2023-03-21T15:17:31.885Z"
   },
   {
    "duration": 48,
    "start_time": "2023-03-21T15:17:31.933Z"
   },
   {
    "duration": 22,
    "start_time": "2023-03-21T15:17:31.983Z"
   },
   {
    "duration": 7,
    "start_time": "2023-03-21T15:17:32.007Z"
   },
   {
    "duration": 26,
    "start_time": "2023-03-21T15:17:32.016Z"
   },
   {
    "duration": 10,
    "start_time": "2023-03-21T15:17:32.045Z"
   },
   {
    "duration": 14,
    "start_time": "2023-03-21T15:17:32.057Z"
   },
   {
    "duration": 11,
    "start_time": "2023-03-21T15:17:32.075Z"
   },
   {
    "duration": 19,
    "start_time": "2023-03-21T15:17:32.088Z"
   },
   {
    "duration": 21,
    "start_time": "2023-03-21T15:17:32.109Z"
   },
   {
    "duration": 30,
    "start_time": "2023-03-21T15:17:32.132Z"
   },
   {
    "duration": 626,
    "start_time": "2023-03-21T15:17:32.164Z"
   },
   {
    "duration": 10,
    "start_time": "2023-03-21T15:17:32.792Z"
   },
   {
    "duration": 25,
    "start_time": "2023-03-21T15:17:32.805Z"
   },
   {
    "duration": 40,
    "start_time": "2023-03-21T15:17:32.832Z"
   },
   {
    "duration": 519,
    "start_time": "2023-03-21T15:17:32.874Z"
   },
   {
    "duration": 499,
    "start_time": "2023-03-21T15:17:33.396Z"
   },
   {
    "duration": 549,
    "start_time": "2023-03-21T15:17:33.897Z"
   },
   {
    "duration": 37,
    "start_time": "2023-03-21T15:17:34.449Z"
   },
   {
    "duration": 649,
    "start_time": "2023-03-21T15:17:34.488Z"
   },
   {
    "duration": 581,
    "start_time": "2023-03-21T15:17:35.141Z"
   },
   {
    "duration": 457,
    "start_time": "2023-03-21T15:17:35.725Z"
   },
   {
    "duration": 9,
    "start_time": "2023-03-21T15:17:36.186Z"
   },
   {
    "duration": 5,
    "start_time": "2023-03-21T15:17:36.197Z"
   },
   {
    "duration": 6,
    "start_time": "2023-03-21T15:17:36.203Z"
   },
   {
    "duration": 11,
    "start_time": "2023-03-21T15:17:36.211Z"
   },
   {
    "duration": 16,
    "start_time": "2023-03-21T15:17:36.225Z"
   },
   {
    "duration": 24,
    "start_time": "2023-03-21T15:17:36.264Z"
   },
   {
    "duration": 10,
    "start_time": "2023-03-21T15:17:36.290Z"
   },
   {
    "duration": 6,
    "start_time": "2023-03-21T15:17:36.302Z"
   },
   {
    "duration": 278,
    "start_time": "2023-03-21T15:17:36.311Z"
   },
   {
    "duration": 15,
    "start_time": "2023-03-21T15:21:19.996Z"
   },
   {
    "duration": 15,
    "start_time": "2023-03-21T15:21:20.307Z"
   },
   {
    "duration": 1477,
    "start_time": "2023-03-21T15:30:16.122Z"
   },
   {
    "duration": 902,
    "start_time": "2023-03-21T15:30:17.601Z"
   },
   {
    "duration": 28,
    "start_time": "2023-03-21T15:30:18.505Z"
   },
   {
    "duration": 44,
    "start_time": "2023-03-21T15:30:18.535Z"
   },
   {
    "duration": 23,
    "start_time": "2023-03-21T15:30:18.581Z"
   },
   {
    "duration": 21,
    "start_time": "2023-03-21T15:30:18.607Z"
   },
   {
    "duration": 44,
    "start_time": "2023-03-21T15:30:18.630Z"
   },
   {
    "duration": 19,
    "start_time": "2023-03-21T15:30:18.679Z"
   },
   {
    "duration": 7,
    "start_time": "2023-03-21T15:30:18.699Z"
   },
   {
    "duration": 10,
    "start_time": "2023-03-21T15:30:18.709Z"
   },
   {
    "duration": 10,
    "start_time": "2023-03-21T15:30:18.720Z"
   },
   {
    "duration": 12,
    "start_time": "2023-03-21T15:30:18.732Z"
   },
   {
    "duration": 10,
    "start_time": "2023-03-21T15:30:18.762Z"
   },
   {
    "duration": 11,
    "start_time": "2023-03-21T15:30:18.773Z"
   },
   {
    "duration": 10,
    "start_time": "2023-03-21T15:30:18.786Z"
   },
   {
    "duration": 5,
    "start_time": "2023-03-21T15:30:18.798Z"
   },
   {
    "duration": 39,
    "start_time": "2023-03-21T15:30:18.805Z"
   },
   {
    "duration": 4,
    "start_time": "2023-03-21T15:30:18.846Z"
   },
   {
    "duration": 16,
    "start_time": "2023-03-21T15:30:18.864Z"
   },
   {
    "duration": 14,
    "start_time": "2023-03-21T15:30:18.882Z"
   },
   {
    "duration": 17,
    "start_time": "2023-03-21T15:30:18.898Z"
   },
   {
    "duration": 5,
    "start_time": "2023-03-21T15:30:18.917Z"
   },
   {
    "duration": 5,
    "start_time": "2023-03-21T15:30:18.923Z"
   },
   {
    "duration": 10,
    "start_time": "2023-03-21T15:30:18.930Z"
   },
   {
    "duration": 22,
    "start_time": "2023-03-21T15:30:18.942Z"
   },
   {
    "duration": 9,
    "start_time": "2023-03-21T15:30:18.970Z"
   },
   {
    "duration": 8,
    "start_time": "2023-03-21T15:30:18.981Z"
   },
   {
    "duration": 9,
    "start_time": "2023-03-21T15:30:18.993Z"
   },
   {
    "duration": 7,
    "start_time": "2023-03-21T15:30:19.004Z"
   },
   {
    "duration": 438,
    "start_time": "2023-03-21T15:30:19.013Z"
   },
   {
    "duration": 24,
    "start_time": "2023-03-21T15:30:19.453Z"
   },
   {
    "duration": 19,
    "start_time": "2023-03-21T15:30:19.480Z"
   },
   {
    "duration": 18,
    "start_time": "2023-03-21T15:30:19.501Z"
   },
   {
    "duration": 459,
    "start_time": "2023-03-21T15:30:19.521Z"
   },
   {
    "duration": 385,
    "start_time": "2023-03-21T15:30:19.982Z"
   },
   {
    "duration": 458,
    "start_time": "2023-03-21T15:30:20.370Z"
   },
   {
    "duration": 35,
    "start_time": "2023-03-21T15:30:20.830Z"
   },
   {
    "duration": 490,
    "start_time": "2023-03-21T15:30:20.871Z"
   },
   {
    "duration": 418,
    "start_time": "2023-03-21T15:30:21.363Z"
   },
   {
    "duration": 392,
    "start_time": "2023-03-21T15:30:21.783Z"
   },
   {
    "duration": 10,
    "start_time": "2023-03-21T15:30:22.179Z"
   },
   {
    "duration": 3,
    "start_time": "2023-03-21T15:30:22.192Z"
   },
   {
    "duration": 5,
    "start_time": "2023-03-21T15:30:22.197Z"
   },
   {
    "duration": 10,
    "start_time": "2023-03-21T15:30:22.204Z"
   },
   {
    "duration": 7,
    "start_time": "2023-03-21T15:30:22.216Z"
   },
   {
    "duration": 11,
    "start_time": "2023-03-21T15:30:22.225Z"
   },
   {
    "duration": 158,
    "start_time": "2023-03-21T15:30:22.238Z"
   },
   {
    "duration": 0,
    "start_time": "2023-03-21T15:30:22.397Z"
   },
   {
    "duration": 0,
    "start_time": "2023-03-21T15:30:22.399Z"
   },
   {
    "duration": 16,
    "start_time": "2023-03-21T15:30:48.852Z"
   },
   {
    "duration": 3,
    "start_time": "2023-03-21T15:30:51.332Z"
   },
   {
    "duration": 3,
    "start_time": "2023-03-21T15:30:51.548Z"
   },
   {
    "duration": 4,
    "start_time": "2023-03-21T15:31:54.580Z"
   },
   {
    "duration": 5375,
    "start_time": "2023-03-21T15:34:11.916Z"
   },
   {
    "duration": 7226,
    "start_time": "2023-03-21T15:41:59.452Z"
   },
   {
    "duration": 3462,
    "start_time": "2023-03-21T15:45:00.327Z"
   },
   {
    "duration": 1693,
    "start_time": "2023-03-21T15:46:18.837Z"
   },
   {
    "duration": 1078,
    "start_time": "2023-03-21T15:46:20.532Z"
   },
   {
    "duration": 52,
    "start_time": "2023-03-21T15:46:21.613Z"
   },
   {
    "duration": 35,
    "start_time": "2023-03-21T15:46:21.669Z"
   },
   {
    "duration": 32,
    "start_time": "2023-03-21T15:46:21.707Z"
   },
   {
    "duration": 46,
    "start_time": "2023-03-21T15:46:21.741Z"
   },
   {
    "duration": 20,
    "start_time": "2023-03-21T15:46:21.789Z"
   },
   {
    "duration": 20,
    "start_time": "2023-03-21T15:46:21.811Z"
   },
   {
    "duration": 11,
    "start_time": "2023-03-21T15:46:21.833Z"
   },
   {
    "duration": 23,
    "start_time": "2023-03-21T15:46:21.846Z"
   },
   {
    "duration": 18,
    "start_time": "2023-03-21T15:46:21.871Z"
   },
   {
    "duration": 17,
    "start_time": "2023-03-21T15:46:21.891Z"
   },
   {
    "duration": 11,
    "start_time": "2023-03-21T15:46:21.911Z"
   },
   {
    "duration": 13,
    "start_time": "2023-03-21T15:46:21.926Z"
   },
   {
    "duration": 19,
    "start_time": "2023-03-21T15:46:21.962Z"
   },
   {
    "duration": 9,
    "start_time": "2023-03-21T15:46:21.985Z"
   },
   {
    "duration": 16,
    "start_time": "2023-03-21T15:46:21.997Z"
   },
   {
    "duration": 5,
    "start_time": "2023-03-21T15:46:22.016Z"
   },
   {
    "duration": 12,
    "start_time": "2023-03-21T15:46:22.023Z"
   },
   {
    "duration": 40,
    "start_time": "2023-03-21T15:46:22.037Z"
   },
   {
    "duration": 21,
    "start_time": "2023-03-21T15:46:22.080Z"
   },
   {
    "duration": 7,
    "start_time": "2023-03-21T15:46:22.103Z"
   },
   {
    "duration": 6,
    "start_time": "2023-03-21T15:46:22.112Z"
   },
   {
    "duration": 14,
    "start_time": "2023-03-21T15:46:22.120Z"
   },
   {
    "duration": 4,
    "start_time": "2023-03-21T15:46:22.136Z"
   },
   {
    "duration": 39,
    "start_time": "2023-03-21T15:46:22.141Z"
   },
   {
    "duration": 11,
    "start_time": "2023-03-21T15:46:22.181Z"
   },
   {
    "duration": 12,
    "start_time": "2023-03-21T15:46:22.194Z"
   },
   {
    "duration": 8,
    "start_time": "2023-03-21T15:46:22.209Z"
   },
   {
    "duration": 550,
    "start_time": "2023-03-21T15:46:22.219Z"
   },
   {
    "duration": 12,
    "start_time": "2023-03-21T15:46:22.772Z"
   },
   {
    "duration": 23,
    "start_time": "2023-03-21T15:46:22.786Z"
   },
   {
    "duration": 20,
    "start_time": "2023-03-21T15:46:22.811Z"
   },
   {
    "duration": 545,
    "start_time": "2023-03-21T15:46:22.833Z"
   },
   {
    "duration": 564,
    "start_time": "2023-03-21T15:46:23.380Z"
   },
   {
    "duration": 479,
    "start_time": "2023-03-21T15:46:23.947Z"
   },
   {
    "duration": 24,
    "start_time": "2023-03-21T15:46:24.429Z"
   },
   {
    "duration": 556,
    "start_time": "2023-03-21T15:46:24.456Z"
   },
   {
    "duration": 492,
    "start_time": "2023-03-21T15:46:25.014Z"
   },
   {
    "duration": 457,
    "start_time": "2023-03-21T15:46:25.508Z"
   },
   {
    "duration": 18,
    "start_time": "2023-03-21T15:46:25.969Z"
   },
   {
    "duration": 13,
    "start_time": "2023-03-21T15:46:25.988Z"
   },
   {
    "duration": 5,
    "start_time": "2023-03-21T15:46:26.003Z"
   },
   {
    "duration": 9,
    "start_time": "2023-03-21T15:46:26.011Z"
   },
   {
    "duration": 11,
    "start_time": "2023-03-21T15:46:26.022Z"
   },
   {
    "duration": 4,
    "start_time": "2023-03-21T15:46:26.035Z"
   },
   {
    "duration": 4,
    "start_time": "2023-03-21T15:46:26.041Z"
   },
   {
    "duration": 5040,
    "start_time": "2023-03-21T15:46:26.066Z"
   },
   {
    "duration": 160803,
    "start_time": "2023-03-21T15:46:31.109Z"
   },
   {
    "duration": 140429,
    "start_time": "2023-03-21T15:49:15.302Z"
   },
   {
    "duration": 37512,
    "start_time": "2023-03-21T15:52:40.558Z"
   },
   {
    "duration": 9968,
    "start_time": "2023-03-21T15:53:38.613Z"
   },
   {
    "duration": 15470,
    "start_time": "2023-03-21T15:53:55.798Z"
   },
   {
    "duration": 19590,
    "start_time": "2023-03-21T15:54:20.505Z"
   },
   {
    "duration": 13348,
    "start_time": "2023-03-21T15:54:44.103Z"
   },
   {
    "duration": 17467,
    "start_time": "2023-03-21T15:55:01.718Z"
   },
   {
    "duration": 11215,
    "start_time": "2023-03-21T15:55:36.392Z"
   },
   {
    "duration": 14100,
    "start_time": "2023-03-21T15:55:54.305Z"
   },
   {
    "duration": 19622,
    "start_time": "2023-03-21T15:56:14.444Z"
   },
   {
    "duration": 17203,
    "start_time": "2023-03-21T15:56:39.706Z"
   },
   {
    "duration": 20404,
    "start_time": "2023-03-21T15:57:23.296Z"
   },
   {
    "duration": 7095,
    "start_time": "2023-03-21T15:57:58.203Z"
   },
   {
    "duration": 10599,
    "start_time": "2023-03-21T15:58:11.110Z"
   },
   {
    "duration": 13855,
    "start_time": "2023-03-21T15:58:24.811Z"
   },
   {
    "duration": 17994,
    "start_time": "2023-03-21T15:58:44.832Z"
   },
   {
    "duration": 22119,
    "start_time": "2023-03-21T15:59:08.127Z"
   },
   {
    "duration": 26439,
    "start_time": "2023-03-21T15:59:38.010Z"
   },
   {
    "duration": 32978,
    "start_time": "2023-03-21T16:00:10.895Z"
   },
   {
    "duration": 41601,
    "start_time": "2023-03-21T16:00:49.652Z"
   },
   {
    "duration": 47631,
    "start_time": "2023-03-21T16:01:37.493Z"
   },
   {
    "duration": 57232,
    "start_time": "2023-03-21T16:02:41.248Z"
   },
   {
    "duration": 1679,
    "start_time": "2023-03-21T16:07:16.818Z"
   },
   {
    "duration": 1048,
    "start_time": "2023-03-21T16:07:18.501Z"
   },
   {
    "duration": 51,
    "start_time": "2023-03-21T16:07:19.551Z"
   },
   {
    "duration": 25,
    "start_time": "2023-03-21T16:07:19.604Z"
   },
   {
    "duration": 51,
    "start_time": "2023-03-21T16:07:19.631Z"
   },
   {
    "duration": 24,
    "start_time": "2023-03-21T16:07:19.685Z"
   },
   {
    "duration": 15,
    "start_time": "2023-03-21T16:07:19.711Z"
   },
   {
    "duration": 19,
    "start_time": "2023-03-21T16:07:19.728Z"
   },
   {
    "duration": 14,
    "start_time": "2023-03-21T16:07:19.763Z"
   },
   {
    "duration": 13,
    "start_time": "2023-03-21T16:07:19.782Z"
   },
   {
    "duration": 9,
    "start_time": "2023-03-21T16:07:19.799Z"
   },
   {
    "duration": 13,
    "start_time": "2023-03-21T16:07:19.810Z"
   },
   {
    "duration": 8,
    "start_time": "2023-03-21T16:07:19.826Z"
   },
   {
    "duration": 47,
    "start_time": "2023-03-21T16:07:19.839Z"
   },
   {
    "duration": 15,
    "start_time": "2023-03-21T16:07:19.890Z"
   },
   {
    "duration": 5,
    "start_time": "2023-03-21T16:07:19.907Z"
   },
   {
    "duration": 17,
    "start_time": "2023-03-21T16:07:19.914Z"
   },
   {
    "duration": 4,
    "start_time": "2023-03-21T16:07:19.933Z"
   },
   {
    "duration": 31,
    "start_time": "2023-03-21T16:07:19.939Z"
   },
   {
    "duration": 9,
    "start_time": "2023-03-21T16:07:19.973Z"
   },
   {
    "duration": 23,
    "start_time": "2023-03-21T16:07:19.984Z"
   },
   {
    "duration": 7,
    "start_time": "2023-03-21T16:07:20.009Z"
   },
   {
    "duration": 9,
    "start_time": "2023-03-21T16:07:20.018Z"
   },
   {
    "duration": 40,
    "start_time": "2023-03-21T16:07:20.029Z"
   },
   {
    "duration": 5,
    "start_time": "2023-03-21T16:07:20.071Z"
   },
   {
    "duration": 17,
    "start_time": "2023-03-21T16:07:20.078Z"
   },
   {
    "duration": 13,
    "start_time": "2023-03-21T16:07:20.098Z"
   },
   {
    "duration": 6,
    "start_time": "2023-03-21T16:07:20.114Z"
   },
   {
    "duration": 8,
    "start_time": "2023-03-21T16:07:20.122Z"
   },
   {
    "duration": 462,
    "start_time": "2023-03-21T16:07:20.131Z"
   },
   {
    "duration": 10,
    "start_time": "2023-03-21T16:07:20.595Z"
   },
   {
    "duration": 24,
    "start_time": "2023-03-21T16:07:20.607Z"
   },
   {
    "duration": 45,
    "start_time": "2023-03-21T16:07:20.633Z"
   },
   {
    "duration": 530,
    "start_time": "2023-03-21T16:07:20.680Z"
   },
   {
    "duration": 439,
    "start_time": "2023-03-21T16:07:21.212Z"
   },
   {
    "duration": 416,
    "start_time": "2023-03-21T16:07:21.652Z"
   },
   {
    "duration": 19,
    "start_time": "2023-03-21T16:07:22.070Z"
   },
   {
    "duration": 603,
    "start_time": "2023-03-21T16:07:22.091Z"
   },
   {
    "duration": 449,
    "start_time": "2023-03-21T16:07:22.697Z"
   },
   {
    "duration": 438,
    "start_time": "2023-03-21T16:07:23.148Z"
   },
   {
    "duration": 8,
    "start_time": "2023-03-21T16:07:23.590Z"
   },
   {
    "duration": 5,
    "start_time": "2023-03-21T16:07:23.600Z"
   },
   {
    "duration": 8,
    "start_time": "2023-03-21T16:07:23.608Z"
   },
   {
    "duration": 31,
    "start_time": "2023-03-21T16:07:23.618Z"
   },
   {
    "duration": 17,
    "start_time": "2023-03-21T16:07:23.651Z"
   },
   {
    "duration": 5,
    "start_time": "2023-03-21T16:07:23.675Z"
   },
   {
    "duration": 9,
    "start_time": "2023-03-21T16:07:23.683Z"
   },
   {
    "duration": 4489,
    "start_time": "2023-03-21T16:07:23.694Z"
   },
   {
    "duration": 88768,
    "start_time": "2023-03-21T16:07:28.264Z"
   },
   {
    "duration": 36462,
    "start_time": "2023-03-21T16:21:10.431Z"
   },
   {
    "duration": 1582,
    "start_time": "2023-03-22T10:06:34.245Z"
   },
   {
    "duration": 2161,
    "start_time": "2023-03-22T10:06:35.829Z"
   },
   {
    "duration": 25,
    "start_time": "2023-03-22T10:06:37.991Z"
   },
   {
    "duration": 19,
    "start_time": "2023-03-22T10:06:38.017Z"
   },
   {
    "duration": 23,
    "start_time": "2023-03-22T10:06:38.038Z"
   },
   {
    "duration": 39,
    "start_time": "2023-03-22T10:06:38.063Z"
   },
   {
    "duration": 12,
    "start_time": "2023-03-22T10:06:38.104Z"
   },
   {
    "duration": 42,
    "start_time": "2023-03-22T10:06:38.118Z"
   },
   {
    "duration": 6,
    "start_time": "2023-03-22T10:06:38.162Z"
   },
   {
    "duration": 22,
    "start_time": "2023-03-22T10:06:38.170Z"
   },
   {
    "duration": 25,
    "start_time": "2023-03-22T10:06:38.194Z"
   },
   {
    "duration": 20,
    "start_time": "2023-03-22T10:06:38.221Z"
   },
   {
    "duration": 23,
    "start_time": "2023-03-22T10:06:38.243Z"
   },
   {
    "duration": 10,
    "start_time": "2023-03-22T10:06:38.269Z"
   },
   {
    "duration": 10,
    "start_time": "2023-03-22T10:06:38.281Z"
   },
   {
    "duration": 5,
    "start_time": "2023-03-22T10:06:38.293Z"
   },
   {
    "duration": 17,
    "start_time": "2023-03-22T10:06:38.299Z"
   },
   {
    "duration": 13,
    "start_time": "2023-03-22T10:06:38.318Z"
   },
   {
    "duration": 11,
    "start_time": "2023-03-22T10:06:38.332Z"
   },
   {
    "duration": 10,
    "start_time": "2023-03-22T10:06:38.344Z"
   },
   {
    "duration": 22,
    "start_time": "2023-03-22T10:06:38.356Z"
   },
   {
    "duration": 6,
    "start_time": "2023-03-22T10:06:38.389Z"
   },
   {
    "duration": 6,
    "start_time": "2023-03-22T10:06:38.396Z"
   },
   {
    "duration": 10,
    "start_time": "2023-03-22T10:06:38.403Z"
   },
   {
    "duration": 3,
    "start_time": "2023-03-22T10:06:38.415Z"
   },
   {
    "duration": 25,
    "start_time": "2023-03-22T10:06:38.420Z"
   },
   {
    "duration": 6,
    "start_time": "2023-03-22T10:06:38.447Z"
   },
   {
    "duration": 8,
    "start_time": "2023-03-22T10:06:38.455Z"
   },
   {
    "duration": 39,
    "start_time": "2023-03-22T10:06:38.465Z"
   },
   {
    "duration": 448,
    "start_time": "2023-03-22T10:06:38.506Z"
   },
   {
    "duration": 7,
    "start_time": "2023-03-22T10:06:38.956Z"
   },
   {
    "duration": 28,
    "start_time": "2023-03-22T10:06:38.964Z"
   },
   {
    "duration": 17,
    "start_time": "2023-03-22T10:06:38.993Z"
   },
   {
    "duration": 371,
    "start_time": "2023-03-22T10:06:39.012Z"
   },
   {
    "duration": 437,
    "start_time": "2023-03-22T10:06:39.388Z"
   },
   {
    "duration": 461,
    "start_time": "2023-03-22T10:06:39.827Z"
   },
   {
    "duration": 18,
    "start_time": "2023-03-22T10:06:40.290Z"
   },
   {
    "duration": 504,
    "start_time": "2023-03-22T10:06:40.309Z"
   },
   {
    "duration": 356,
    "start_time": "2023-03-22T10:06:40.814Z"
   },
   {
    "duration": 407,
    "start_time": "2023-03-22T10:06:41.172Z"
   },
   {
    "duration": 7,
    "start_time": "2023-03-22T10:06:41.590Z"
   },
   {
    "duration": 9,
    "start_time": "2023-03-22T10:06:41.598Z"
   },
   {
    "duration": 7,
    "start_time": "2023-03-22T10:06:41.609Z"
   },
   {
    "duration": 21,
    "start_time": "2023-03-22T10:06:41.617Z"
   },
   {
    "duration": 11,
    "start_time": "2023-03-22T10:06:41.639Z"
   },
   {
    "duration": 8,
    "start_time": "2023-03-22T10:06:41.652Z"
   },
   {
    "duration": 12,
    "start_time": "2023-03-22T10:06:41.661Z"
   },
   {
    "duration": 124,
    "start_time": "2023-03-22T10:06:41.674Z"
   },
   {
    "duration": 0,
    "start_time": "2023-03-22T10:06:41.800Z"
   },
   {
    "duration": 0,
    "start_time": "2023-03-22T10:06:41.801Z"
   },
   {
    "duration": 1429,
    "start_time": "2023-03-22T10:09:13.517Z"
   },
   {
    "duration": 784,
    "start_time": "2023-03-22T10:09:14.948Z"
   },
   {
    "duration": 23,
    "start_time": "2023-03-22T10:09:15.734Z"
   },
   {
    "duration": 32,
    "start_time": "2023-03-22T10:09:15.759Z"
   },
   {
    "duration": 21,
    "start_time": "2023-03-22T10:09:15.793Z"
   },
   {
    "duration": 16,
    "start_time": "2023-03-22T10:09:15.816Z"
   },
   {
    "duration": 12,
    "start_time": "2023-03-22T10:09:15.834Z"
   },
   {
    "duration": 49,
    "start_time": "2023-03-22T10:09:15.847Z"
   },
   {
    "duration": 6,
    "start_time": "2023-03-22T10:09:15.897Z"
   },
   {
    "duration": 8,
    "start_time": "2023-03-22T10:09:15.905Z"
   },
   {
    "duration": 10,
    "start_time": "2023-03-22T10:09:15.914Z"
   },
   {
    "duration": 11,
    "start_time": "2023-03-22T10:09:15.926Z"
   },
   {
    "duration": 6,
    "start_time": "2023-03-22T10:09:15.938Z"
   },
   {
    "duration": 14,
    "start_time": "2023-03-22T10:09:15.947Z"
   },
   {
    "duration": 31,
    "start_time": "2023-03-22T10:09:15.962Z"
   },
   {
    "duration": 7,
    "start_time": "2023-03-22T10:09:15.995Z"
   },
   {
    "duration": 16,
    "start_time": "2023-03-22T10:09:16.004Z"
   },
   {
    "duration": 4,
    "start_time": "2023-03-22T10:09:16.021Z"
   },
   {
    "duration": 11,
    "start_time": "2023-03-22T10:09:16.027Z"
   },
   {
    "duration": 7,
    "start_time": "2023-03-22T10:09:16.039Z"
   },
   {
    "duration": 41,
    "start_time": "2023-03-22T10:09:16.048Z"
   },
   {
    "duration": 5,
    "start_time": "2023-03-22T10:09:16.091Z"
   },
   {
    "duration": 9,
    "start_time": "2023-03-22T10:09:16.097Z"
   },
   {
    "duration": 27,
    "start_time": "2023-03-22T10:09:16.107Z"
   },
   {
    "duration": 3,
    "start_time": "2023-03-22T10:09:16.135Z"
   },
   {
    "duration": 6,
    "start_time": "2023-03-22T10:09:16.140Z"
   },
   {
    "duration": 5,
    "start_time": "2023-03-22T10:09:16.148Z"
   },
   {
    "duration": 5,
    "start_time": "2023-03-22T10:09:16.154Z"
   },
   {
    "duration": 9,
    "start_time": "2023-03-22T10:09:16.160Z"
   },
   {
    "duration": 396,
    "start_time": "2023-03-22T10:09:16.188Z"
   },
   {
    "duration": 7,
    "start_time": "2023-03-22T10:09:16.588Z"
   },
   {
    "duration": 34,
    "start_time": "2023-03-22T10:09:16.596Z"
   },
   {
    "duration": 17,
    "start_time": "2023-03-22T10:09:16.632Z"
   },
   {
    "duration": 428,
    "start_time": "2023-03-22T10:09:16.651Z"
   },
   {
    "duration": 386,
    "start_time": "2023-03-22T10:09:17.081Z"
   },
   {
    "duration": 408,
    "start_time": "2023-03-22T10:09:17.469Z"
   },
   {
    "duration": 18,
    "start_time": "2023-03-22T10:09:17.888Z"
   },
   {
    "duration": 450,
    "start_time": "2023-03-22T10:09:17.908Z"
   },
   {
    "duration": 465,
    "start_time": "2023-03-22T10:09:18.359Z"
   },
   {
    "duration": 484,
    "start_time": "2023-03-22T10:09:18.825Z"
   },
   {
    "duration": 9,
    "start_time": "2023-03-22T10:09:19.313Z"
   },
   {
    "duration": 4,
    "start_time": "2023-03-22T10:09:19.324Z"
   },
   {
    "duration": 6,
    "start_time": "2023-03-22T10:09:19.330Z"
   },
   {
    "duration": 9,
    "start_time": "2023-03-22T10:09:19.339Z"
   },
   {
    "duration": 14,
    "start_time": "2023-03-22T10:09:19.350Z"
   },
   {
    "duration": 22,
    "start_time": "2023-03-22T10:09:19.366Z"
   },
   {
    "duration": 4,
    "start_time": "2023-03-22T10:09:19.390Z"
   },
   {
    "duration": 2895,
    "start_time": "2023-03-22T10:09:19.396Z"
   },
   {
    "duration": 84608,
    "start_time": "2023-03-22T10:09:22.294Z"
   },
   {
    "duration": 29034,
    "start_time": "2023-03-22T10:10:46.904Z"
   },
   {
    "duration": 116,
    "start_time": "2023-03-22T10:14:36.883Z"
   },
   {
    "duration": 12,
    "start_time": "2023-03-22T10:14:44.706Z"
   },
   {
    "duration": 10,
    "start_time": "2023-03-22T10:15:03.781Z"
   },
   {
    "duration": 11,
    "start_time": "2023-03-22T10:15:07.640Z"
   },
   {
    "duration": 10,
    "start_time": "2023-03-22T10:16:36.545Z"
   },
   {
    "duration": 9,
    "start_time": "2023-03-22T10:16:44.530Z"
   },
   {
    "duration": 818,
    "start_time": "2023-03-22T10:16:44.857Z"
   },
   {
    "duration": 25,
    "start_time": "2023-03-22T10:16:45.677Z"
   },
   {
    "duration": 23,
    "start_time": "2023-03-22T10:16:45.704Z"
   },
   {
    "duration": 23,
    "start_time": "2023-03-22T10:16:45.729Z"
   },
   {
    "duration": 18,
    "start_time": "2023-03-22T10:16:46.017Z"
   },
   {
    "duration": 13,
    "start_time": "2023-03-22T10:16:46.199Z"
   },
   {
    "duration": 17,
    "start_time": "2023-03-22T10:16:46.391Z"
   },
   {
    "duration": 7,
    "start_time": "2023-03-22T10:16:46.713Z"
   },
   {
    "duration": 6,
    "start_time": "2023-03-22T10:16:46.880Z"
   },
   {
    "duration": 11,
    "start_time": "2023-03-22T10:16:47.040Z"
   },
   {
    "duration": 10,
    "start_time": "2023-03-22T10:16:47.380Z"
   },
   {
    "duration": 9,
    "start_time": "2023-03-22T10:16:47.561Z"
   },
   {
    "duration": 10,
    "start_time": "2023-03-22T10:16:47.725Z"
   },
   {
    "duration": 8,
    "start_time": "2023-03-22T10:16:48.083Z"
   },
   {
    "duration": 4,
    "start_time": "2023-03-22T10:16:48.230Z"
   },
   {
    "duration": 13,
    "start_time": "2023-03-22T10:16:48.412Z"
   },
   {
    "duration": 3,
    "start_time": "2023-03-22T10:16:49.113Z"
   },
   {
    "duration": 5,
    "start_time": "2023-03-22T10:16:49.479Z"
   },
   {
    "duration": 8,
    "start_time": "2023-03-22T10:16:49.817Z"
   },
   {
    "duration": 14,
    "start_time": "2023-03-22T10:16:50.539Z"
   },
   {
    "duration": 5,
    "start_time": "2023-03-22T10:16:51.095Z"
   },
   {
    "duration": 4,
    "start_time": "2023-03-22T10:16:51.290Z"
   },
   {
    "duration": 5,
    "start_time": "2023-03-22T10:16:52.024Z"
   },
   {
    "duration": 3,
    "start_time": "2023-03-22T10:16:52.222Z"
   },
   {
    "duration": 6,
    "start_time": "2023-03-22T10:16:54.347Z"
   },
   {
    "duration": 6,
    "start_time": "2023-03-22T10:16:55.179Z"
   },
   {
    "duration": 7,
    "start_time": "2023-03-22T10:16:55.580Z"
   },
   {
    "duration": 8,
    "start_time": "2023-03-22T10:16:55.936Z"
   },
   {
    "duration": 465,
    "start_time": "2023-03-22T10:16:57.253Z"
   },
   {
    "duration": 7,
    "start_time": "2023-03-22T10:16:58.995Z"
   },
   {
    "duration": 15,
    "start_time": "2023-03-22T10:16:59.905Z"
   },
   {
    "duration": 21,
    "start_time": "2023-03-22T10:17:00.280Z"
   },
   {
    "duration": 447,
    "start_time": "2023-03-22T10:17:00.459Z"
   },
   {
    "duration": 473,
    "start_time": "2023-03-22T10:17:01.382Z"
   },
   {
    "duration": 504,
    "start_time": "2023-03-22T10:17:02.296Z"
   },
   {
    "duration": 16,
    "start_time": "2023-03-22T10:17:04.250Z"
   },
   {
    "duration": 464,
    "start_time": "2023-03-22T10:17:04.953Z"
   },
   {
    "duration": 418,
    "start_time": "2023-03-22T10:17:05.679Z"
   },
   {
    "duration": 504,
    "start_time": "2023-03-22T10:17:06.286Z"
   },
   {
    "duration": 9,
    "start_time": "2023-03-22T10:17:07.043Z"
   },
   {
    "duration": 4,
    "start_time": "2023-03-22T10:17:13.394Z"
   },
   {
    "duration": 5,
    "start_time": "2023-03-22T10:17:15.081Z"
   },
   {
    "duration": 8,
    "start_time": "2023-03-22T10:17:15.984Z"
   },
   {
    "duration": 10,
    "start_time": "2023-03-22T10:17:17.108Z"
   },
   {
    "duration": 3,
    "start_time": "2023-03-22T10:17:17.933Z"
   },
   {
    "duration": 4,
    "start_time": "2023-03-22T10:17:18.491Z"
   },
   {
    "duration": 3708,
    "start_time": "2023-03-22T10:17:19.281Z"
   },
   {
    "duration": 84354,
    "start_time": "2023-03-22T10:17:26.962Z"
   },
   {
    "duration": 11,
    "start_time": "2023-03-22T10:18:54.432Z"
   },
   {
    "duration": 38979,
    "start_time": "2023-03-22T10:19:06.479Z"
   },
   {
    "duration": 38708,
    "start_time": "2023-03-22T10:20:26.000Z"
   },
   {
    "duration": 39155,
    "start_time": "2023-03-22T10:21:13.306Z"
   },
   {
    "duration": 39092,
    "start_time": "2023-03-22T10:22:13.453Z"
   },
   {
    "duration": 39557,
    "start_time": "2023-03-22T10:23:10.097Z"
   },
   {
    "duration": 40278,
    "start_time": "2023-03-22T10:24:00.039Z"
   },
   {
    "duration": 39045,
    "start_time": "2023-03-22T10:24:55.361Z"
   },
   {
    "duration": 39115,
    "start_time": "2023-03-22T10:25:44.083Z"
   },
   {
    "duration": 39777,
    "start_time": "2023-03-22T10:26:28.628Z"
   },
   {
    "duration": 39481,
    "start_time": "2023-03-22T10:27:19.125Z"
   },
   {
    "duration": 39797,
    "start_time": "2023-03-22T10:28:33.740Z"
   },
   {
    "duration": 39525,
    "start_time": "2023-03-22T10:29:19.794Z"
   },
   {
    "duration": 39115,
    "start_time": "2023-03-22T10:30:32.114Z"
   },
   {
    "duration": 46630,
    "start_time": "2023-03-22T10:32:22.747Z"
   },
   {
    "duration": 45695,
    "start_time": "2023-03-22T10:33:22.105Z"
   },
   {
    "duration": 46060,
    "start_time": "2023-03-22T10:34:15.282Z"
   },
   {
    "duration": 45841,
    "start_time": "2023-03-22T10:35:10.350Z"
   },
   {
    "duration": 46756,
    "start_time": "2023-03-22T10:36:09.554Z"
   },
   {
    "duration": 46436,
    "start_time": "2023-03-22T10:37:30.530Z"
   },
   {
    "duration": 46272,
    "start_time": "2023-03-22T10:38:28.218Z"
   },
   {
    "duration": 87126,
    "start_time": "2023-03-22T10:40:26.965Z"
   },
   {
    "duration": 13,
    "start_time": "2023-03-22T10:52:56.433Z"
   },
   {
    "duration": 13,
    "start_time": "2023-03-22T10:54:59.960Z"
   },
   {
    "duration": 8064,
    "start_time": "2023-03-22T10:55:38.685Z"
   },
   {
    "duration": 38639,
    "start_time": "2023-03-22T10:57:35.207Z"
   },
   {
    "duration": 30677,
    "start_time": "2023-03-22T10:58:20.277Z"
   },
   {
    "duration": 7943,
    "start_time": "2023-03-22T11:04:12.246Z"
   },
   {
    "duration": 21964,
    "start_time": "2023-03-22T11:09:44.480Z"
   },
   {
    "duration": 10,
    "start_time": "2023-03-22T11:15:26.385Z"
   },
   {
    "duration": 1333,
    "start_time": "2023-03-22T11:15:58.125Z"
   },
   {
    "duration": 824,
    "start_time": "2023-03-22T11:15:59.460Z"
   },
   {
    "duration": 23,
    "start_time": "2023-03-22T11:16:00.286Z"
   },
   {
    "duration": 27,
    "start_time": "2023-03-22T11:16:00.311Z"
   },
   {
    "duration": 52,
    "start_time": "2023-03-22T11:16:00.340Z"
   },
   {
    "duration": 39,
    "start_time": "2023-03-22T11:16:00.394Z"
   },
   {
    "duration": 15,
    "start_time": "2023-03-22T11:16:00.434Z"
   },
   {
    "duration": 25,
    "start_time": "2023-03-22T11:16:00.451Z"
   },
   {
    "duration": 6,
    "start_time": "2023-03-22T11:16:00.478Z"
   },
   {
    "duration": 21,
    "start_time": "2023-03-22T11:16:00.486Z"
   },
   {
    "duration": 36,
    "start_time": "2023-03-22T11:16:00.509Z"
   },
   {
    "duration": 34,
    "start_time": "2023-03-22T11:16:00.546Z"
   },
   {
    "duration": 34,
    "start_time": "2023-03-22T11:16:00.582Z"
   },
   {
    "duration": 37,
    "start_time": "2023-03-22T11:16:00.619Z"
   },
   {
    "duration": 32,
    "start_time": "2023-03-22T11:16:00.657Z"
   },
   {
    "duration": 28,
    "start_time": "2023-03-22T11:16:00.691Z"
   },
   {
    "duration": 50,
    "start_time": "2023-03-22T11:16:00.720Z"
   },
   {
    "duration": 24,
    "start_time": "2023-03-22T11:16:00.772Z"
   },
   {
    "duration": 46,
    "start_time": "2023-03-22T11:16:00.797Z"
   },
   {
    "duration": 31,
    "start_time": "2023-03-22T11:16:00.844Z"
   },
   {
    "duration": 56,
    "start_time": "2023-03-22T11:16:00.876Z"
   },
   {
    "duration": 18,
    "start_time": "2023-03-22T11:16:00.933Z"
   },
   {
    "duration": 34,
    "start_time": "2023-03-22T11:16:00.952Z"
   },
   {
    "duration": 34,
    "start_time": "2023-03-22T11:16:00.987Z"
   },
   {
    "duration": 31,
    "start_time": "2023-03-22T11:16:01.022Z"
   },
   {
    "duration": 37,
    "start_time": "2023-03-22T11:16:01.054Z"
   },
   {
    "duration": 25,
    "start_time": "2023-03-22T11:16:01.092Z"
   },
   {
    "duration": 26,
    "start_time": "2023-03-22T11:16:01.118Z"
   },
   {
    "duration": 32,
    "start_time": "2023-03-22T11:16:01.146Z"
   },
   {
    "duration": 441,
    "start_time": "2023-03-22T11:16:01.180Z"
   },
   {
    "duration": 7,
    "start_time": "2023-03-22T11:16:01.623Z"
   },
   {
    "duration": 92,
    "start_time": "2023-03-22T11:16:01.633Z"
   },
   {
    "duration": 82,
    "start_time": "2023-03-22T11:16:01.727Z"
   },
   {
    "duration": 420,
    "start_time": "2023-03-22T11:16:01.811Z"
   },
   {
    "duration": 436,
    "start_time": "2023-03-22T11:16:02.232Z"
   },
   {
    "duration": 498,
    "start_time": "2023-03-22T11:16:02.670Z"
   },
   {
    "duration": 30,
    "start_time": "2023-03-22T11:16:03.170Z"
   },
   {
    "duration": 474,
    "start_time": "2023-03-22T11:16:03.201Z"
   },
   {
    "duration": 382,
    "start_time": "2023-03-22T11:16:03.677Z"
   },
   {
    "duration": 445,
    "start_time": "2023-03-22T11:16:04.061Z"
   },
   {
    "duration": 7,
    "start_time": "2023-03-22T11:16:04.510Z"
   },
   {
    "duration": 5,
    "start_time": "2023-03-22T11:16:04.518Z"
   },
   {
    "duration": 7,
    "start_time": "2023-03-22T11:16:04.525Z"
   },
   {
    "duration": 16,
    "start_time": "2023-03-22T11:16:04.533Z"
   },
   {
    "duration": 11,
    "start_time": "2023-03-22T11:16:04.551Z"
   },
   {
    "duration": 7,
    "start_time": "2023-03-22T11:16:04.564Z"
   },
   {
    "duration": 16,
    "start_time": "2023-03-22T11:16:04.572Z"
   },
   {
    "duration": 3110,
    "start_time": "2023-03-22T11:16:04.590Z"
   },
   {
    "duration": 85398,
    "start_time": "2023-03-22T11:16:07.790Z"
   },
   {
    "duration": 85230,
    "start_time": "2023-03-22T11:17:33.190Z"
   },
   {
    "duration": 22008,
    "start_time": "2023-03-22T11:18:58.422Z"
   },
   {
    "duration": 40,
    "start_time": "2023-03-22T11:19:20.432Z"
   },
   {
    "duration": 115,
    "start_time": "2023-03-22T11:22:26.087Z"
   },
   {
    "duration": 13,
    "start_time": "2023-03-22T11:23:32.050Z"
   },
   {
    "duration": 10,
    "start_time": "2023-03-22T11:26:08.232Z"
   },
   {
    "duration": 1730,
    "start_time": "2023-03-23T10:31:55.388Z"
   },
   {
    "duration": 2307,
    "start_time": "2023-03-23T10:31:57.120Z"
   },
   {
    "duration": 27,
    "start_time": "2023-03-23T10:31:59.429Z"
   },
   {
    "duration": 23,
    "start_time": "2023-03-23T10:31:59.458Z"
   },
   {
    "duration": 30,
    "start_time": "2023-03-23T10:31:59.482Z"
   },
   {
    "duration": 38,
    "start_time": "2023-03-23T10:31:59.514Z"
   },
   {
    "duration": 13,
    "start_time": "2023-03-23T10:31:59.554Z"
   },
   {
    "duration": 35,
    "start_time": "2023-03-23T10:31:59.569Z"
   },
   {
    "duration": 9,
    "start_time": "2023-03-23T10:31:59.606Z"
   },
   {
    "duration": 6,
    "start_time": "2023-03-23T10:31:59.618Z"
   },
   {
    "duration": 9,
    "start_time": "2023-03-23T10:31:59.625Z"
   },
   {
    "duration": 11,
    "start_time": "2023-03-23T10:31:59.635Z"
   },
   {
    "duration": 8,
    "start_time": "2023-03-23T10:31:59.647Z"
   },
   {
    "duration": 10,
    "start_time": "2023-03-23T10:31:59.690Z"
   },
   {
    "duration": 11,
    "start_time": "2023-03-23T10:31:59.702Z"
   },
   {
    "duration": 4,
    "start_time": "2023-03-23T10:31:59.715Z"
   },
   {
    "duration": 16,
    "start_time": "2023-03-23T10:31:59.720Z"
   },
   {
    "duration": 3,
    "start_time": "2023-03-23T10:31:59.738Z"
   },
   {
    "duration": 9,
    "start_time": "2023-03-23T10:31:59.742Z"
   },
   {
    "duration": 39,
    "start_time": "2023-03-23T10:31:59.753Z"
   },
   {
    "duration": 19,
    "start_time": "2023-03-23T10:31:59.794Z"
   },
   {
    "duration": 5,
    "start_time": "2023-03-23T10:31:59.815Z"
   },
   {
    "duration": 5,
    "start_time": "2023-03-23T10:31:59.822Z"
   },
   {
    "duration": 7,
    "start_time": "2023-03-23T10:31:59.829Z"
   },
   {
    "duration": 3,
    "start_time": "2023-03-23T10:31:59.838Z"
   },
   {
    "duration": 6,
    "start_time": "2023-03-23T10:31:59.843Z"
   },
   {
    "duration": 44,
    "start_time": "2023-03-23T10:31:59.851Z"
   },
   {
    "duration": 6,
    "start_time": "2023-03-23T10:31:59.899Z"
   },
   {
    "duration": 7,
    "start_time": "2023-03-23T10:31:59.907Z"
   },
   {
    "duration": 480,
    "start_time": "2023-03-23T10:31:59.915Z"
   },
   {
    "duration": 8,
    "start_time": "2023-03-23T10:32:00.397Z"
   },
   {
    "duration": 42,
    "start_time": "2023-03-23T10:32:00.407Z"
   },
   {
    "duration": 33,
    "start_time": "2023-03-23T10:32:00.452Z"
   },
   {
    "duration": 463,
    "start_time": "2023-03-23T10:32:00.487Z"
   },
   {
    "duration": 429,
    "start_time": "2023-03-23T10:32:00.951Z"
   },
   {
    "duration": 434,
    "start_time": "2023-03-23T10:32:01.382Z"
   },
   {
    "duration": 20,
    "start_time": "2023-03-23T10:32:01.818Z"
   },
   {
    "duration": 553,
    "start_time": "2023-03-23T10:32:01.840Z"
   },
   {
    "duration": 486,
    "start_time": "2023-03-23T10:32:02.395Z"
   },
   {
    "duration": 401,
    "start_time": "2023-03-23T10:32:02.890Z"
   },
   {
    "duration": 9,
    "start_time": "2023-03-23T10:32:03.293Z"
   },
   {
    "duration": 14,
    "start_time": "2023-03-23T10:32:03.304Z"
   },
   {
    "duration": 9,
    "start_time": "2023-03-23T10:32:03.320Z"
   },
   {
    "duration": 23,
    "start_time": "2023-03-23T10:32:03.331Z"
   },
   {
    "duration": 17,
    "start_time": "2023-03-23T10:32:03.357Z"
   },
   {
    "duration": 26,
    "start_time": "2023-03-23T10:32:03.376Z"
   },
   {
    "duration": 29,
    "start_time": "2023-03-23T10:32:03.404Z"
   },
   {
    "duration": 2958,
    "start_time": "2023-03-23T10:32:03.435Z"
   },
   {
    "duration": 89915,
    "start_time": "2023-03-23T10:32:06.396Z"
   },
   {
    "duration": 63384,
    "start_time": "2023-03-23T10:33:36.313Z"
   },
   {
    "duration": 0,
    "start_time": "2023-03-23T10:34:39.699Z"
   },
   {
    "duration": 0,
    "start_time": "2023-03-23T10:34:39.701Z"
   },
   {
    "duration": 65461,
    "start_time": "2023-03-23T10:35:20.694Z"
   },
   {
    "duration": 16,
    "start_time": "2023-03-23T10:38:33.155Z"
   },
   {
    "duration": 6,
    "start_time": "2023-03-23T10:39:05.829Z"
   },
   {
    "duration": 14,
    "start_time": "2023-03-23T10:39:13.043Z"
   },
   {
    "duration": 110,
    "start_time": "2023-03-23T10:40:04.114Z"
   },
   {
    "duration": 5,
    "start_time": "2023-03-23T10:40:24.533Z"
   },
   {
    "duration": 105044,
    "start_time": "2023-03-23T10:40:34.410Z"
   },
   {
    "duration": 62197,
    "start_time": "2023-03-23T10:43:17.755Z"
   },
   {
    "duration": 62160,
    "start_time": "2023-03-23T10:46:07.067Z"
   },
   {
    "duration": 1063639,
    "start_time": "2023-03-23T10:49:51.277Z"
   },
   {
    "duration": 62466,
    "start_time": "2023-03-23T11:10:26.111Z"
   },
   {
    "duration": 16193,
    "start_time": "2023-03-23T11:13:55.679Z"
   },
   {
    "duration": 189279,
    "start_time": "2023-03-23T11:15:25.648Z"
   },
   {
    "duration": 5,
    "start_time": "2023-03-23T11:18:40.610Z"
   },
   {
    "duration": 62143,
    "start_time": "2023-03-23T11:25:21.727Z"
   },
   {
    "duration": 62510,
    "start_time": "2023-03-23T11:26:52.399Z"
   },
   {
    "duration": 62336,
    "start_time": "2023-03-23T11:28:57.091Z"
   },
   {
    "duration": 1454,
    "start_time": "2023-03-23T11:30:21.732Z"
   },
   {
    "duration": 821,
    "start_time": "2023-03-23T11:30:23.188Z"
   },
   {
    "duration": 28,
    "start_time": "2023-03-23T11:30:24.012Z"
   },
   {
    "duration": 26,
    "start_time": "2023-03-23T11:30:24.042Z"
   },
   {
    "duration": 42,
    "start_time": "2023-03-23T11:30:24.070Z"
   },
   {
    "duration": 20,
    "start_time": "2023-03-23T11:30:24.635Z"
   },
   {
    "duration": 14,
    "start_time": "2023-03-23T11:30:24.862Z"
   },
   {
    "duration": 18,
    "start_time": "2023-03-23T11:30:25.070Z"
   },
   {
    "duration": 7,
    "start_time": "2023-03-23T11:30:25.448Z"
   },
   {
    "duration": 6,
    "start_time": "2023-03-23T11:30:25.654Z"
   },
   {
    "duration": 8,
    "start_time": "2023-03-23T11:30:25.824Z"
   },
   {
    "duration": 9,
    "start_time": "2023-03-23T11:30:26.183Z"
   },
   {
    "duration": 7,
    "start_time": "2023-03-23T11:30:26.368Z"
   },
   {
    "duration": 10,
    "start_time": "2023-03-23T11:30:26.553Z"
   },
   {
    "duration": 10,
    "start_time": "2023-03-23T11:30:26.920Z"
   },
   {
    "duration": 4,
    "start_time": "2023-03-23T11:30:27.109Z"
   },
   {
    "duration": 13,
    "start_time": "2023-03-23T11:30:27.302Z"
   },
   {
    "duration": 3,
    "start_time": "2023-03-23T11:30:28.310Z"
   },
   {
    "duration": 7,
    "start_time": "2023-03-23T11:30:28.679Z"
   },
   {
    "duration": 8,
    "start_time": "2023-03-23T11:30:29.117Z"
   },
   {
    "duration": 17,
    "start_time": "2023-03-23T11:30:30.862Z"
   },
   {
    "duration": 5,
    "start_time": "2023-03-23T11:30:31.397Z"
   },
   {
    "duration": 4,
    "start_time": "2023-03-23T11:30:31.810Z"
   },
   {
    "duration": 10,
    "start_time": "2023-03-23T11:30:32.971Z"
   },
   {
    "duration": 3,
    "start_time": "2023-03-23T11:30:33.145Z"
   },
   {
    "duration": 7,
    "start_time": "2023-03-23T11:30:34.325Z"
   },
   {
    "duration": 6,
    "start_time": "2023-03-23T11:30:34.682Z"
   },
   {
    "duration": 6,
    "start_time": "2023-03-23T11:30:35.047Z"
   },
   {
    "duration": 5,
    "start_time": "2023-03-23T11:30:35.379Z"
   },
   {
    "duration": 415,
    "start_time": "2023-03-23T11:30:36.085Z"
   },
   {
    "duration": 7,
    "start_time": "2023-03-23T11:30:37.130Z"
   },
   {
    "duration": 19,
    "start_time": "2023-03-23T11:30:37.487Z"
   },
   {
    "duration": 19,
    "start_time": "2023-03-23T11:30:37.841Z"
   },
   {
    "duration": 390,
    "start_time": "2023-03-23T11:30:38.017Z"
   },
   {
    "duration": 482,
    "start_time": "2023-03-23T11:30:38.409Z"
   },
   {
    "duration": 410,
    "start_time": "2023-03-23T11:30:38.894Z"
   },
   {
    "duration": 20,
    "start_time": "2023-03-23T11:30:39.306Z"
   },
   {
    "duration": 478,
    "start_time": "2023-03-23T11:30:39.418Z"
   },
   {
    "duration": 384,
    "start_time": "2023-03-23T11:30:39.899Z"
   },
   {
    "duration": 418,
    "start_time": "2023-03-23T11:30:40.289Z"
   },
   {
    "duration": 9,
    "start_time": "2023-03-23T11:30:40.709Z"
   },
   {
    "duration": 4,
    "start_time": "2023-03-23T11:30:42.709Z"
   },
   {
    "duration": 4,
    "start_time": "2023-03-23T11:30:45.260Z"
   },
   {
    "duration": 7,
    "start_time": "2023-03-23T11:30:46.497Z"
   },
   {
    "duration": 12,
    "start_time": "2023-03-23T11:30:47.902Z"
   },
   {
    "duration": 3,
    "start_time": "2023-03-23T11:30:49.500Z"
   },
   {
    "duration": 3,
    "start_time": "2023-03-23T11:30:51.122Z"
   },
   {
    "duration": 2789,
    "start_time": "2023-03-23T11:30:54.306Z"
   },
   {
    "duration": 1074037,
    "start_time": "2023-03-23T11:31:04.236Z"
   },
   {
    "duration": 435748,
    "start_time": "2023-03-23T11:53:32.230Z"
   },
   {
    "duration": 0,
    "start_time": "2023-03-23T12:00:47.979Z"
   },
   {
    "duration": 470302,
    "start_time": "2023-03-23T12:01:44.777Z"
   },
   {
    "duration": 0,
    "start_time": "2023-03-23T12:09:35.082Z"
   },
   {
    "duration": 5,
    "start_time": "2023-03-23T12:11:09.267Z"
   },
   {
    "duration": 457625,
    "start_time": "2023-03-23T12:20:15.614Z"
   },
   {
    "duration": 645766,
    "start_time": "2023-03-23T12:27:53.241Z"
   },
   {
    "duration": 85,
    "start_time": "2023-03-23T13:37:56.265Z"
   },
   {
    "duration": 76332,
    "start_time": "2023-03-23T13:38:53.533Z"
   },
   {
    "duration": 19327,
    "start_time": "2023-03-23T13:42:01.505Z"
   },
   {
    "duration": 10,
    "start_time": "2023-03-23T13:42:20.834Z"
   }
  ],
  "kernelspec": {
   "display_name": "Python 3 (ipykernel)",
   "language": "python",
   "name": "python3"
  },
  "language_info": {
   "codemirror_mode": {
    "name": "ipython",
    "version": 3
   },
   "file_extension": ".py",
   "mimetype": "text/x-python",
   "name": "python",
   "nbconvert_exporter": "python",
   "pygments_lexer": "ipython3",
   "version": "3.11.6"
  },
  "toc": {
   "base_numbering": 1,
   "nav_menu": {},
   "number_sections": true,
   "sideBar": true,
   "skip_h1_title": true,
   "title_cell": "Содержание",
   "title_sidebar": "Contents",
   "toc_cell": true,
   "toc_position": {
    "height": "calc(100% - 180px)",
    "left": "10px",
    "top": "150px",
    "width": "165px"
   },
   "toc_section_display": true,
   "toc_window_display": true
  }
 },
 "nbformat": 4,
 "nbformat_minor": 2
}
